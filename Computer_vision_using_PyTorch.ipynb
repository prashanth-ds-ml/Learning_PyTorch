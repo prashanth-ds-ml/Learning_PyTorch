{
 "cells": [
  {
   "cell_type": "markdown",
   "id": "ac3573d6-d6f0-478a-97df-cdc01e5585e1",
   "metadata": {},
   "source": [
    "### Importing all the required dependencies"
   ]
  },
  {
   "cell_type": "code",
   "execution_count": 1,
   "id": "ebf0c0d6-0bff-48d2-9b25-cbe2df0d78bf",
   "metadata": {},
   "outputs": [],
   "source": [
    "import torch\n",
    "from torch import nn\n",
    "import torchvision\n",
    "from torchvision import datasets\n",
    "from torchvision import transforms\n",
    "from torchvision.transforms import ToTensor\n",
    "import matplotlib.pyplot as plt"
   ]
  },
  {
   "cell_type": "markdown",
   "id": "7f83a845-3f0b-4a3d-a587-c3dff3cceaa0",
   "metadata": {},
   "source": [
    "### Getting FashionMNIST data from the torch datasets"
   ]
  },
  {
   "cell_type": "code",
   "execution_count": 2,
   "id": "d41eba57-a1cd-4e4f-90cd-c820f48bd447",
   "metadata": {},
   "outputs": [],
   "source": [
    "train_data = datasets.FashionMNIST(root = 'data',\n",
    "                                   train = True,\n",
    "                                   download = True,\n",
    "                                   transform = torchvision.transforms.ToTensor(),\n",
    "                                   target_transform = None)\n",
    "\n",
    "test_data = datasets.FashionMNIST(root = 'data',\n",
    "                                   train = False,\n",
    "                                   download = True,\n",
    "                                   transform = torchvision.transforms.ToTensor(),\n",
    "                                   target_transform = None)"
   ]
  },
  {
   "cell_type": "code",
   "execution_count": 3,
   "id": "5299a631-515e-4e87-90b0-ce72841a6149",
   "metadata": {},
   "outputs": [
    {
     "data": {
      "text/plain": [
       "(60000, 10000)"
      ]
     },
     "execution_count": 3,
     "metadata": {},
     "output_type": "execute_result"
    }
   ],
   "source": [
    "len(train_data),len(test_data)"
   ]
  },
  {
   "cell_type": "code",
   "execution_count": 4,
   "id": "3643db57-e3c2-4592-8643-cc358623687c",
   "metadata": {
    "scrolled": true,
    "tags": []
   },
   "outputs": [
    {
     "data": {
      "text/plain": [
       "(tensor([[[0.0000, 0.0000, 0.0000, 0.0000, 0.0000, 0.0000, 0.0000, 0.0000,\n",
       "           0.0000, 0.0000, 0.0000, 0.0000, 0.0000, 0.0000, 0.0000, 0.0000,\n",
       "           0.0000, 0.0000, 0.0000, 0.0000, 0.0000, 0.0000, 0.0000, 0.0000,\n",
       "           0.0000, 0.0000, 0.0000, 0.0000],\n",
       "          [0.0000, 0.0000, 0.0000, 0.0000, 0.0000, 0.0000, 0.0000, 0.0000,\n",
       "           0.0000, 0.0000, 0.0000, 0.0000, 0.0000, 0.0000, 0.0000, 0.0000,\n",
       "           0.0000, 0.0000, 0.0000, 0.0000, 0.0000, 0.0000, 0.0000, 0.0000,\n",
       "           0.0000, 0.0000, 0.0000, 0.0000],\n",
       "          [0.0000, 0.0000, 0.0000, 0.0000, 0.0000, 0.0000, 0.0000, 0.0000,\n",
       "           0.0000, 0.0000, 0.0000, 0.0000, 0.0000, 0.0000, 0.0000, 0.0000,\n",
       "           0.0000, 0.0000, 0.0000, 0.0000, 0.0000, 0.0000, 0.0000, 0.0000,\n",
       "           0.0000, 0.0000, 0.0000, 0.0000],\n",
       "          [0.0000, 0.0000, 0.0000, 0.0000, 0.0000, 0.0000, 0.0000, 0.0000,\n",
       "           0.0000, 0.0000, 0.0000, 0.0000, 0.0039, 0.0000, 0.0000, 0.0510,\n",
       "           0.2863, 0.0000, 0.0000, 0.0039, 0.0157, 0.0000, 0.0000, 0.0000,\n",
       "           0.0000, 0.0039, 0.0039, 0.0000],\n",
       "          [0.0000, 0.0000, 0.0000, 0.0000, 0.0000, 0.0000, 0.0000, 0.0000,\n",
       "           0.0000, 0.0000, 0.0000, 0.0000, 0.0118, 0.0000, 0.1412, 0.5333,\n",
       "           0.4980, 0.2431, 0.2118, 0.0000, 0.0000, 0.0000, 0.0039, 0.0118,\n",
       "           0.0157, 0.0000, 0.0000, 0.0118],\n",
       "          [0.0000, 0.0000, 0.0000, 0.0000, 0.0000, 0.0000, 0.0000, 0.0000,\n",
       "           0.0000, 0.0000, 0.0000, 0.0000, 0.0235, 0.0000, 0.4000, 0.8000,\n",
       "           0.6902, 0.5255, 0.5647, 0.4824, 0.0902, 0.0000, 0.0000, 0.0000,\n",
       "           0.0000, 0.0471, 0.0392, 0.0000],\n",
       "          [0.0000, 0.0000, 0.0000, 0.0000, 0.0000, 0.0000, 0.0000, 0.0000,\n",
       "           0.0000, 0.0000, 0.0000, 0.0000, 0.0000, 0.0000, 0.6078, 0.9255,\n",
       "           0.8118, 0.6980, 0.4196, 0.6118, 0.6314, 0.4275, 0.2510, 0.0902,\n",
       "           0.3020, 0.5098, 0.2824, 0.0588],\n",
       "          [0.0000, 0.0000, 0.0000, 0.0000, 0.0000, 0.0000, 0.0000, 0.0000,\n",
       "           0.0000, 0.0000, 0.0000, 0.0039, 0.0000, 0.2706, 0.8118, 0.8745,\n",
       "           0.8549, 0.8471, 0.8471, 0.6392, 0.4980, 0.4745, 0.4784, 0.5725,\n",
       "           0.5529, 0.3451, 0.6745, 0.2588],\n",
       "          [0.0000, 0.0000, 0.0000, 0.0000, 0.0000, 0.0000, 0.0000, 0.0000,\n",
       "           0.0000, 0.0039, 0.0039, 0.0039, 0.0000, 0.7843, 0.9098, 0.9098,\n",
       "           0.9137, 0.8980, 0.8745, 0.8745, 0.8431, 0.8353, 0.6431, 0.4980,\n",
       "           0.4824, 0.7686, 0.8980, 0.0000],\n",
       "          [0.0000, 0.0000, 0.0000, 0.0000, 0.0000, 0.0000, 0.0000, 0.0000,\n",
       "           0.0000, 0.0000, 0.0000, 0.0000, 0.0000, 0.7176, 0.8824, 0.8471,\n",
       "           0.8745, 0.8941, 0.9216, 0.8902, 0.8784, 0.8706, 0.8784, 0.8667,\n",
       "           0.8745, 0.9608, 0.6784, 0.0000],\n",
       "          [0.0000, 0.0000, 0.0000, 0.0000, 0.0000, 0.0000, 0.0000, 0.0000,\n",
       "           0.0000, 0.0000, 0.0000, 0.0000, 0.0000, 0.7569, 0.8941, 0.8549,\n",
       "           0.8353, 0.7765, 0.7059, 0.8314, 0.8235, 0.8275, 0.8353, 0.8745,\n",
       "           0.8627, 0.9529, 0.7922, 0.0000],\n",
       "          [0.0000, 0.0000, 0.0000, 0.0000, 0.0000, 0.0000, 0.0000, 0.0000,\n",
       "           0.0000, 0.0039, 0.0118, 0.0000, 0.0471, 0.8588, 0.8627, 0.8314,\n",
       "           0.8549, 0.7529, 0.6627, 0.8902, 0.8157, 0.8549, 0.8784, 0.8314,\n",
       "           0.8863, 0.7725, 0.8196, 0.2039],\n",
       "          [0.0000, 0.0000, 0.0000, 0.0000, 0.0000, 0.0000, 0.0000, 0.0000,\n",
       "           0.0000, 0.0000, 0.0235, 0.0000, 0.3882, 0.9569, 0.8706, 0.8627,\n",
       "           0.8549, 0.7961, 0.7765, 0.8667, 0.8431, 0.8353, 0.8706, 0.8627,\n",
       "           0.9608, 0.4667, 0.6549, 0.2196],\n",
       "          [0.0000, 0.0000, 0.0000, 0.0000, 0.0000, 0.0000, 0.0000, 0.0000,\n",
       "           0.0000, 0.0157, 0.0000, 0.0000, 0.2157, 0.9255, 0.8941, 0.9020,\n",
       "           0.8941, 0.9412, 0.9098, 0.8353, 0.8549, 0.8745, 0.9176, 0.8510,\n",
       "           0.8510, 0.8196, 0.3608, 0.0000],\n",
       "          [0.0000, 0.0000, 0.0039, 0.0157, 0.0235, 0.0275, 0.0078, 0.0000,\n",
       "           0.0000, 0.0000, 0.0000, 0.0000, 0.9294, 0.8863, 0.8510, 0.8745,\n",
       "           0.8706, 0.8588, 0.8706, 0.8667, 0.8471, 0.8745, 0.8980, 0.8431,\n",
       "           0.8549, 1.0000, 0.3020, 0.0000],\n",
       "          [0.0000, 0.0118, 0.0000, 0.0000, 0.0000, 0.0000, 0.0000, 0.0000,\n",
       "           0.0000, 0.2431, 0.5686, 0.8000, 0.8941, 0.8118, 0.8353, 0.8667,\n",
       "           0.8549, 0.8157, 0.8275, 0.8549, 0.8784, 0.8745, 0.8588, 0.8431,\n",
       "           0.8784, 0.9569, 0.6235, 0.0000],\n",
       "          [0.0000, 0.0000, 0.0000, 0.0000, 0.0706, 0.1725, 0.3216, 0.4196,\n",
       "           0.7412, 0.8941, 0.8627, 0.8706, 0.8510, 0.8863, 0.7843, 0.8039,\n",
       "           0.8275, 0.9020, 0.8784, 0.9176, 0.6902, 0.7373, 0.9804, 0.9725,\n",
       "           0.9137, 0.9333, 0.8431, 0.0000],\n",
       "          [0.0000, 0.2235, 0.7333, 0.8157, 0.8784, 0.8667, 0.8784, 0.8157,\n",
       "           0.8000, 0.8392, 0.8157, 0.8196, 0.7843, 0.6235, 0.9608, 0.7569,\n",
       "           0.8078, 0.8745, 1.0000, 1.0000, 0.8667, 0.9176, 0.8667, 0.8275,\n",
       "           0.8627, 0.9098, 0.9647, 0.0000],\n",
       "          [0.0118, 0.7922, 0.8941, 0.8784, 0.8667, 0.8275, 0.8275, 0.8392,\n",
       "           0.8039, 0.8039, 0.8039, 0.8627, 0.9412, 0.3137, 0.5882, 1.0000,\n",
       "           0.8980, 0.8667, 0.7373, 0.6039, 0.7490, 0.8235, 0.8000, 0.8196,\n",
       "           0.8706, 0.8941, 0.8824, 0.0000],\n",
       "          [0.3843, 0.9137, 0.7765, 0.8235, 0.8706, 0.8980, 0.8980, 0.9176,\n",
       "           0.9765, 0.8627, 0.7608, 0.8431, 0.8510, 0.9451, 0.2549, 0.2863,\n",
       "           0.4157, 0.4588, 0.6588, 0.8588, 0.8667, 0.8431, 0.8510, 0.8745,\n",
       "           0.8745, 0.8784, 0.8980, 0.1137],\n",
       "          [0.2941, 0.8000, 0.8314, 0.8000, 0.7569, 0.8039, 0.8275, 0.8824,\n",
       "           0.8471, 0.7255, 0.7725, 0.8078, 0.7765, 0.8353, 0.9412, 0.7647,\n",
       "           0.8902, 0.9608, 0.9373, 0.8745, 0.8549, 0.8314, 0.8196, 0.8706,\n",
       "           0.8627, 0.8667, 0.9020, 0.2627],\n",
       "          [0.1882, 0.7961, 0.7176, 0.7608, 0.8353, 0.7725, 0.7255, 0.7451,\n",
       "           0.7608, 0.7529, 0.7922, 0.8392, 0.8588, 0.8667, 0.8627, 0.9255,\n",
       "           0.8824, 0.8471, 0.7804, 0.8078, 0.7294, 0.7098, 0.6941, 0.6745,\n",
       "           0.7098, 0.8039, 0.8078, 0.4510],\n",
       "          [0.0000, 0.4784, 0.8588, 0.7569, 0.7020, 0.6706, 0.7176, 0.7686,\n",
       "           0.8000, 0.8235, 0.8353, 0.8118, 0.8275, 0.8235, 0.7843, 0.7686,\n",
       "           0.7608, 0.7490, 0.7647, 0.7490, 0.7765, 0.7529, 0.6902, 0.6118,\n",
       "           0.6549, 0.6941, 0.8235, 0.3608],\n",
       "          [0.0000, 0.0000, 0.2902, 0.7412, 0.8314, 0.7490, 0.6863, 0.6745,\n",
       "           0.6863, 0.7098, 0.7255, 0.7373, 0.7412, 0.7373, 0.7569, 0.7765,\n",
       "           0.8000, 0.8196, 0.8235, 0.8235, 0.8275, 0.7373, 0.7373, 0.7608,\n",
       "           0.7529, 0.8471, 0.6667, 0.0000],\n",
       "          [0.0078, 0.0000, 0.0000, 0.0000, 0.2588, 0.7843, 0.8706, 0.9294,\n",
       "           0.9373, 0.9490, 0.9647, 0.9529, 0.9569, 0.8667, 0.8627, 0.7569,\n",
       "           0.7490, 0.7020, 0.7137, 0.7137, 0.7098, 0.6902, 0.6510, 0.6588,\n",
       "           0.3882, 0.2275, 0.0000, 0.0000],\n",
       "          [0.0000, 0.0000, 0.0000, 0.0000, 0.0000, 0.0000, 0.0000, 0.1569,\n",
       "           0.2392, 0.1725, 0.2824, 0.1608, 0.1373, 0.0000, 0.0000, 0.0000,\n",
       "           0.0000, 0.0000, 0.0000, 0.0000, 0.0000, 0.0000, 0.0000, 0.0000,\n",
       "           0.0000, 0.0000, 0.0000, 0.0000],\n",
       "          [0.0000, 0.0000, 0.0000, 0.0000, 0.0000, 0.0000, 0.0000, 0.0000,\n",
       "           0.0000, 0.0000, 0.0000, 0.0000, 0.0000, 0.0000, 0.0000, 0.0000,\n",
       "           0.0000, 0.0000, 0.0000, 0.0000, 0.0000, 0.0000, 0.0000, 0.0000,\n",
       "           0.0000, 0.0000, 0.0000, 0.0000],\n",
       "          [0.0000, 0.0000, 0.0000, 0.0000, 0.0000, 0.0000, 0.0000, 0.0000,\n",
       "           0.0000, 0.0000, 0.0000, 0.0000, 0.0000, 0.0000, 0.0000, 0.0000,\n",
       "           0.0000, 0.0000, 0.0000, 0.0000, 0.0000, 0.0000, 0.0000, 0.0000,\n",
       "           0.0000, 0.0000, 0.0000, 0.0000]]]),\n",
       " 9)"
      ]
     },
     "execution_count": 4,
     "metadata": {},
     "output_type": "execute_result"
    }
   ],
   "source": [
    "# seeing the first training example\n",
    "\n",
    "image,label = train_data[0]\n",
    "image,label"
   ]
  },
  {
   "cell_type": "code",
   "execution_count": 5,
   "id": "f076e119-3a0a-4f52-8389-f8ab5d605de6",
   "metadata": {},
   "outputs": [
    {
     "data": {
      "text/plain": [
       "['T-shirt/top',\n",
       " 'Trouser',\n",
       " 'Pullover',\n",
       " 'Dress',\n",
       " 'Coat',\n",
       " 'Sandal',\n",
       " 'Shirt',\n",
       " 'Sneaker',\n",
       " 'Bag',\n",
       " 'Ankle boot']"
      ]
     },
     "execution_count": 5,
     "metadata": {},
     "output_type": "execute_result"
    }
   ],
   "source": [
    "class_names = train_data.classes\n",
    "class_names"
   ]
  },
  {
   "cell_type": "code",
   "execution_count": 6,
   "id": "aa22bdf5-a17b-4328-a9b6-3d4b4b5fa43c",
   "metadata": {},
   "outputs": [
    {
     "data": {
      "text/plain": [
       "{'T-shirt/top': 0,\n",
       " 'Trouser': 1,\n",
       " 'Pullover': 2,\n",
       " 'Dress': 3,\n",
       " 'Coat': 4,\n",
       " 'Sandal': 5,\n",
       " 'Shirt': 6,\n",
       " 'Sneaker': 7,\n",
       " 'Bag': 8,\n",
       " 'Ankle boot': 9}"
      ]
     },
     "execution_count": 6,
     "metadata": {},
     "output_type": "execute_result"
    }
   ],
   "source": [
    "class_to_idx = train_data.class_to_idx\n",
    "class_to_idx"
   ]
  },
  {
   "cell_type": "code",
   "execution_count": 7,
   "id": "7ecd9275-12e5-4fc7-9d65-d649ff19a891",
   "metadata": {},
   "outputs": [
    {
     "data": {
      "text/plain": [
       "tensor([9, 0, 0,  ..., 3, 0, 5])"
      ]
     },
     "execution_count": 7,
     "metadata": {},
     "output_type": "execute_result"
    }
   ],
   "source": [
    "train_data.targets"
   ]
  },
  {
   "cell_type": "code",
   "execution_count": 8,
   "id": "50b8b51e-9861-4173-909c-454f15a73422",
   "metadata": {},
   "outputs": [
    {
     "name": "stdout",
     "output_type": "stream",
     "text": [
      "Image shape: torch.Size([1, 28, 28])\n"
     ]
    }
   ],
   "source": [
    "print(f'Image shape: {image.shape}')"
   ]
  },
  {
   "cell_type": "code",
   "execution_count": 9,
   "id": "cfe67fcd-a3fc-48d0-8c2d-948fc351aecb",
   "metadata": {},
   "outputs": [
    {
     "name": "stdout",
     "output_type": "stream",
     "text": [
      "Image label: Ankle boot\n"
     ]
    }
   ],
   "source": [
    "print(f'Image label: {class_names[label]}')"
   ]
  },
  {
   "cell_type": "code",
   "execution_count": 10,
   "id": "faf5092b-83b2-41db-989c-2f8cc73eba37",
   "metadata": {},
   "outputs": [
    {
     "data": {
      "image/png": "[encoded data removed]",
      "text/plain": [
       "<Figure size 640x480 with 1 Axes>"
      ]
     },
     "metadata": {},
     "output_type": "display_data"
    }
   ],
   "source": [
    "image,label = train_data[0]\n",
    "#plt.imshow(image) ---> TypeError: Invalid shape (1, 28, 28) for image data\n",
    "\n",
    "plt.imshow(image.squeeze())\n",
    "plt.title(label);\n",
    "plt.show()"
   ]
  },
  {
   "cell_type": "code",
   "execution_count": 11,
   "id": "d74e0de8-2ff4-49a4-a2ee-92296bac6550",
   "metadata": {},
   "outputs": [
    {
     "data": {
      "image/png": "[encoded data removed]",
      "text/plain": [
       "<Figure size 640x480 with 1 Axes>"
      ]
     },
     "metadata": {},
     "output_type": "display_data"
    }
   ],
   "source": [
    "plt.imshow(image.squeeze(),cmap = 'gray')\n",
    "plt.title(class_names[label]);\n",
    "plt.axis(False);"
   ]
  },
  {
   "cell_type": "code",
   "execution_count": 12,
   "id": "0c08d505-23f8-4cb2-8350-378de4d11ba1",
   "metadata": {},
   "outputs": [
    {
     "data": {
      "image/png": "[encoded data removed]",
      "text/plain": [
       "<Figure size 900x900 with 16 Axes>"
      ]
     },
     "metadata": {},
     "output_type": "display_data"
    }
   ],
   "source": [
    "torch.manual_seed(7)\n",
    "fig = plt.figure(figsize = (9,9))\n",
    "rows,cols = 4,4\n",
    "for i in range(1,rows*cols+1):\n",
    "    random_idx = torch.randint(0,len(train_data),size=[1]).item()\n",
    "    img,label = train_data[random_idx]\n",
    "    fig.add_subplot(rows,cols,i)\n",
    "    plt.imshow(img.squeeze(),cmap = 'gray')\n",
    "    plt.title(class_names[label])\n",
    "    plt.axis(False);\n"
   ]
  },
  {
   "cell_type": "code",
   "execution_count": 13,
   "id": "6c8eaf9e-13c6-4215-8b9a-263f7218d6c4",
   "metadata": {},
   "outputs": [
    {
     "data": {
      "text/plain": [
       "Dataset FashionMNIST\n",
       "    Number of datapoints: 60000\n",
       "    Root location: data\n",
       "    Split: Train\n",
       "    StandardTransform\n",
       "Transform: ToTensor()"
      ]
     },
     "execution_count": 13,
     "metadata": {},
     "output_type": "execute_result"
    }
   ],
   "source": [
    "train_data"
   ]
  },
  {
   "cell_type": "code",
   "execution_count": 14,
   "id": "a9c67274-3737-41d4-b411-5f50cc0a7704",
   "metadata": {},
   "outputs": [
    {
     "data": {
      "text/plain": [
       "Dataset FashionMNIST\n",
       "    Number of datapoints: 10000\n",
       "    Root location: data\n",
       "    Split: Test\n",
       "    StandardTransform\n",
       "Transform: ToTensor()"
      ]
     },
     "execution_count": 14,
     "metadata": {},
     "output_type": "execute_result"
    }
   ],
   "source": [
    "test_data"
   ]
  },
  {
   "cell_type": "code",
   "execution_count": 15,
   "id": "f3d4cb54-9d04-478e-9d88-7d6a8530fa2d",
   "metadata": {},
   "outputs": [
    {
     "data": {
      "text/plain": [
       "(<torch.utils.data.dataloader.DataLoader at 0x245b501bfd0>,\n",
       " <torch.utils.data.dataloader.DataLoader at 0x245b4fefa00>)"
      ]
     },
     "execution_count": 15,
     "metadata": {},
     "output_type": "execute_result"
    }
   ],
   "source": [
    "from torch.utils.data import DataLoader\n",
    "\n",
    "Batch_size = 16\n",
    "\n",
    "train_dataloader = DataLoader(dataset = train_data,\n",
    "                              batch_size = Batch_size,\n",
    "                              shuffle = True)\n",
    "\n",
    "test_dataloader = DataLoader(dataset = test_data,\n",
    "                              batch_size = Batch_size,\n",
    "                              shuffle = False)\n",
    "\n",
    "train_dataloader,test_dataloader"
   ]
  },
  {
   "cell_type": "code",
   "execution_count": 16,
   "id": "74e70203-1d1a-415a-b915-fca50006e1e2",
   "metadata": {},
   "outputs": [
    {
     "name": "stdout",
     "output_type": "stream",
     "text": [
      "DataLoaders : (<torch.utils.data.dataloader.DataLoader object at 0x00000245B501BFD0>, <torch.utils.data.dataloader.DataLoader object at 0x00000245B4FEFA00>)\n",
      "Length of train_dataloader: 3750 batches of 16...\n",
      "Length of test_dataloader: 625 batches of 16...\n"
     ]
    }
   ],
   "source": [
    "print(f'DataLoaders : {train_dataloader,test_dataloader}')\n",
    "print(f'Length of train_dataloader: {len(train_dataloader)} batches of {Batch_size}...')\n",
    "print(f'Length of test_dataloader: {len(test_dataloader)} batches of {Batch_size}...')"
   ]
  },
  {
   "cell_type": "code",
   "execution_count": 17,
   "id": "35f87565-6152-4114-9ba5-a70f781732c2",
   "metadata": {},
   "outputs": [
    {
     "data": {
      "text/plain": [
       "(torch.Size([16, 1, 28, 28]), torch.Size([16]))"
      ]
     },
     "execution_count": 17,
     "metadata": {},
     "output_type": "execute_result"
    }
   ],
   "source": [
    "train_features_batch,train_labels_batch = next(iter(train_dataloader))\n",
    "train_features_batch.shape,train_labels_batch.shape"
   ]
  },
  {
   "cell_type": "code",
   "execution_count": 18,
   "id": "adabf86c-5e93-48ae-8edc-106ca5976065",
   "metadata": {},
   "outputs": [
    {
     "data": {
      "image/png": "[encoded data removed]",
      "text/plain": [
       "<Figure size 900x900 with 16 Axes>"
      ]
     },
     "metadata": {},
     "output_type": "display_data"
    }
   ],
   "source": [
    "torch.manual_seed(7)\n",
    "fig = plt.figure(figsize = (9,9))\n",
    "rows,cols = 4,4\n",
    "for i in range(1,rows*cols+1):\n",
    "    random_idx = torch.randint(0,len(train_features_batch),size=[1]).item()\n",
    "    img,label = train_features_batch[random_idx],train_labels_batch[random_idx]\n",
    "    fig.add_subplot(rows,cols,i)\n",
    "    plt.imshow(img.squeeze(),cmap = 'gray')\n",
    "    plt.title(class_names[label])\n",
    "    plt.axis(False);"
   ]
  },
  {
   "cell_type": "code",
   "execution_count": 19,
   "id": "3bc741a2-30f4-4acb-b1c5-a71ab9f0364f",
   "metadata": {},
   "outputs": [
    {
     "name": "stdout",
     "output_type": "stream",
     "text": [
      "shape before flattening: torch.Size([1, 28, 28])\n",
      "shape before flattening: torch.Size([1, 784])\n"
     ]
    }
   ],
   "source": [
    "# Base line model\n",
    "\n",
    "flatten_model = nn.Flatten()\n",
    "\n",
    "x = train_features_batch[0]\n",
    "\n",
    "output = flatten_model(x)\n",
    "\n",
    "print(f'shape before flattening: {x.shape}')\n",
    "\n",
    "print(f'shape before flattening: {output.shape}')"
   ]
  },
  {
   "cell_type": "code",
   "execution_count": 20,
   "id": "94562309-c1bb-48fe-87e2-9e92329b863f",
   "metadata": {
    "scrolled": true,
    "tags": []
   },
   "outputs": [
    {
     "data": {
      "text/plain": [
       "tensor([0.0000, 0.0000, 0.0000, 0.0000, 0.0000, 0.0000, 0.0000, 0.0000, 0.0000,\n",
       "        0.0588, 0.6706, 0.9294, 0.7765, 0.7098, 0.6118, 0.6157, 0.7725, 0.9059,\n",
       "        0.6353, 0.1529, 0.0000, 0.0000, 0.0000, 0.0000, 0.0000, 0.0000, 0.0000,\n",
       "        0.0000, 0.0000, 0.0000, 0.0000, 0.0000, 0.0000, 0.0000, 0.0000, 0.0000,\n",
       "        0.6980, 0.8941, 0.8745, 0.8510, 0.9529, 0.9686, 0.9333, 0.9529, 1.0000,\n",
       "        0.8745, 0.8314, 0.8784, 0.8039, 0.0118, 0.0000, 0.0000, 0.0000, 0.0000,\n",
       "        0.0000, 0.0000, 0.0000, 0.0000, 0.0000, 0.0000, 0.0000, 0.0000, 0.0000,\n",
       "        0.1804, 0.9059, 0.8353, 0.8627, 0.8627, 0.8627, 0.8980, 0.8471, 0.9412,\n",
       "        0.9255, 0.7765, 0.8235, 0.7804, 0.8784, 0.6000, 0.0000, 0.0000, 0.0000,\n",
       "        0.0000, 0.0000, 0.0000, 0.0000, 0.0000, 0.0000, 0.0000, 0.0000, 0.0000,\n",
       "        0.0000, 0.2902, 0.8745, 0.8353, 0.8510, 0.8353, 0.8196, 0.8667, 0.9765,\n",
       "        0.9020, 0.7843, 0.8118, 0.8000, 0.7843, 0.8196, 0.7098, 0.0000, 0.0000,\n",
       "        0.0000, 0.0000, 0.0000, 0.0000, 0.0000, 0.0000, 0.0000, 0.0000, 0.0000,\n",
       "        0.0000, 0.0000, 0.3765, 0.8784, 0.8235, 0.8588, 0.8431, 0.8314, 0.8118,\n",
       "        0.8353, 0.8078, 0.8392, 0.8235, 0.7647, 0.7843, 0.8078, 0.8667, 0.0000,\n",
       "        0.0000, 0.0000, 0.0000, 0.0000, 0.0000, 0.0000, 0.0000, 0.0000, 0.0000,\n",
       "        0.0000, 0.0000, 0.0000, 0.5255, 0.8627, 0.8549, 0.9098, 0.8196, 0.8157,\n",
       "        0.8196, 0.8039, 0.8196, 0.8196, 0.7725, 0.7686, 0.8745, 0.7922, 0.7765,\n",
       "        0.0000, 0.0000, 0.0000, 0.0000, 0.0000, 0.0000, 0.0000, 0.0000, 0.0000,\n",
       "        0.0000, 0.0000, 0.0000, 0.0000, 0.6431, 0.8706, 0.7765, 0.7333, 0.8706,\n",
       "        0.7725, 0.7765, 0.8078, 0.8000, 0.7804, 0.7922, 0.8471, 0.7569, 0.8196,\n",
       "        0.8196, 0.0471, 0.0000, 0.0000, 0.0000, 0.0000, 0.0000, 0.0000, 0.0000,\n",
       "        0.0000, 0.0000, 0.0000, 0.0000, 0.0000, 0.6706, 0.8745, 0.5647, 0.5804,\n",
       "        0.9608, 0.8000, 0.8118, 0.8157, 0.8471, 0.8627, 0.8941, 0.8941, 0.1412,\n",
       "        0.8706, 0.8353, 0.1255, 0.0000, 0.0000, 0.0000, 0.0000, 0.0000, 0.0000,\n",
       "        0.0000, 0.0000, 0.0000, 0.0000, 0.0000, 0.0000, 0.7529, 0.9255, 0.4471,\n",
       "        0.3961, 1.0000, 0.7765, 0.8627, 0.8431, 0.8000, 0.8000, 0.9216, 0.8314,\n",
       "        0.0000, 0.9961, 0.8588, 0.2157, 0.0000, 0.0000, 0.0000, 0.0000, 0.0000,\n",
       "        0.0000, 0.0000, 0.0000, 0.0000, 0.0000, 0.0000, 0.0000, 0.7961, 0.9137,\n",
       "        0.3373, 0.1373, 1.0000, 0.8039, 0.8314, 0.8314, 0.8627, 0.8157, 0.9333,\n",
       "        0.6980, 0.0000, 1.0000, 0.8745, 0.4000, 0.0000, 0.0000, 0.0000, 0.0000,\n",
       "        0.0000, 0.0000, 0.0000, 0.0000, 0.0000, 0.0000, 0.0000, 0.1176, 0.8314,\n",
       "        0.9059, 0.1059, 0.0941, 1.0000, 0.8314, 0.8471, 0.8157, 0.8431, 0.8039,\n",
       "        0.9373, 0.6353, 0.0000, 0.9647, 0.8863, 0.4196, 0.0000, 0.0000, 0.0000,\n",
       "        0.0000, 0.0000, 0.0000, 0.0000, 0.0000, 0.0000, 0.0000, 0.0000, 0.2667,\n",
       "        0.8549, 1.0000, 0.0000, 0.3529, 1.0000, 0.8275, 0.8314, 0.8392, 0.8471,\n",
       "        0.8157, 0.8980, 0.8275, 0.0000, 0.8824, 0.9098, 0.4549, 0.0000, 0.0000,\n",
       "        0.0000, 0.0000, 0.0000, 0.0000, 0.0000, 0.0000, 0.0000, 0.0000, 0.0000,\n",
       "        0.4039, 0.8706, 0.9490, 0.0000, 0.7333, 0.9569, 0.8118, 0.8196, 0.8000,\n",
       "        0.8039, 0.8078, 0.8039, 0.9843, 0.0000, 0.7490, 0.9098, 0.4902, 0.0000,\n",
       "        0.0000, 0.0000, 0.0000, 0.0000, 0.0000, 0.0000, 0.0000, 0.0000, 0.0000,\n",
       "        0.0000, 0.4353, 0.8941, 0.7882, 0.0000, 0.9961, 0.8392, 0.8157, 0.8118,\n",
       "        0.7882, 0.7882, 0.7922, 0.7333, 1.0000, 0.0824, 0.6039, 0.9333, 0.5216,\n",
       "        0.0000, 0.0000, 0.0000, 0.0000, 0.0000, 0.0000, 0.0000, 0.0000, 0.0000,\n",
       "        0.0000, 0.0000, 0.5216, 0.9059, 0.6157, 0.1922, 1.0000, 0.7922, 0.8275,\n",
       "        0.8118, 0.8000, 0.7922, 0.7922, 0.7490, 0.9373, 0.4314, 0.5490, 1.0000,\n",
       "        0.5294, 0.0000, 0.0000, 0.0000, 0.0000, 0.0000, 0.0000, 0.0000, 0.0000,\n",
       "        0.0000, 0.0000, 0.0000, 0.5333, 1.0000, 0.5490, 0.4627, 1.0000, 0.7922,\n",
       "        0.8157, 0.8157, 0.8275, 0.8196, 0.8196, 0.7686, 0.9059, 0.6549, 0.5059,\n",
       "        1.0000, 0.5529, 0.0000, 0.0000, 0.0000, 0.0000, 0.0000, 0.0000, 0.0000,\n",
       "        0.0000, 0.0000, 0.0000, 0.0000, 0.5294, 1.0000, 0.5255, 0.6588, 0.9490,\n",
       "        0.8039, 0.8157, 0.8196, 0.8157, 0.8118, 0.8157, 0.7922, 0.8902, 0.7373,\n",
       "        0.4667, 1.0000, 0.5451, 0.0000, 0.0000, 0.0000, 0.0000, 0.0000, 0.0000,\n",
       "        0.0000, 0.0000, 0.0000, 0.0000, 0.0000, 0.5216, 1.0000, 0.3843, 0.7216,\n",
       "        0.9137, 0.8078, 0.8157, 0.8157, 0.8118, 0.8118, 0.8196, 0.8078, 0.8784,\n",
       "        0.7843, 0.4824, 1.0000, 0.5216, 0.0000, 0.0000, 0.0000, 0.0000, 0.0000,\n",
       "        0.0000, 0.0000, 0.0000, 0.0000, 0.0000, 0.0000, 0.5882, 0.8980, 0.3176,\n",
       "        0.8039, 0.8824, 0.8118, 0.8196, 0.8196, 0.8196, 0.8314, 0.8078, 0.8039,\n",
       "        0.8706, 0.8235, 0.4941, 0.9098, 0.5098, 0.0000, 0.0000, 0.0000, 0.0000,\n",
       "        0.0000, 0.0000, 0.0000, 0.0000, 0.0000, 0.0000, 0.0000, 0.6549, 0.9490,\n",
       "        0.3176, 0.8627, 0.8627, 0.8157, 0.8235, 0.8275, 0.8353, 0.8196, 0.8039,\n",
       "        0.8314, 0.8314, 0.8431, 0.5216, 0.9098, 0.5882, 0.0000, 0.0000, 0.0000,\n",
       "        0.0000, 0.0000, 0.0000, 0.0000, 0.0000, 0.0000, 0.0000, 0.0000, 0.4706,\n",
       "        0.8157, 0.2941, 0.9255, 0.8392, 0.8157, 0.8235, 0.8235, 0.8196, 0.8118,\n",
       "        0.8392, 0.8157, 0.8275, 0.8941, 0.6784, 1.0000, 0.5569, 0.0000, 0.0000,\n",
       "        0.0000, 0.0000, 0.0000, 0.0000, 0.0000, 0.0000, 0.0000, 0.0000, 0.0000,\n",
       "        0.0000, 0.0000, 0.0000, 0.9961, 0.8353, 0.8157, 0.8235, 0.8235, 0.8196,\n",
       "        0.8235, 0.8275, 0.8196, 0.8235, 1.0000, 0.1882, 0.0000, 0.0000, 0.0000,\n",
       "        0.0000, 0.0000, 0.0000, 0.0000, 0.0000, 0.0000, 0.0000, 0.0000, 0.0000,\n",
       "        0.0000, 0.0000, 0.0000, 0.0000, 0.9922, 0.8431, 0.8196, 0.8196, 0.8314,\n",
       "        0.8353, 0.8275, 0.8196, 0.8392, 0.8275, 0.9020, 0.1608, 0.0000, 0.0000,\n",
       "        0.0000, 0.0000, 0.0000, 0.0000, 0.0000, 0.0000, 0.0000, 0.0000, 0.0000,\n",
       "        0.0000, 0.0000, 0.0078, 0.0000, 0.0118, 0.8431, 0.8471, 0.8314, 0.8275,\n",
       "        0.8314, 0.8314, 0.8275, 0.8196, 0.8471, 0.8314, 0.9098, 0.2745, 0.0000,\n",
       "        0.0157, 0.0000, 0.0000, 0.0000, 0.0000, 0.0000, 0.0000, 0.0000, 0.0000,\n",
       "        0.0000, 0.0000, 0.0000, 0.0078, 0.0000, 0.0196, 0.8392, 0.8510, 0.8392,\n",
       "        0.8314, 0.8314, 0.8353, 0.8431, 0.8549, 0.8549, 0.8275, 0.9137, 0.2706,\n",
       "        0.0000, 0.0118, 0.0000, 0.0000, 0.0000, 0.0000, 0.0000, 0.0000, 0.0000,\n",
       "        0.0000, 0.0000, 0.0000, 0.0000, 0.0118, 0.0000, 0.0078, 0.8314, 0.8314,\n",
       "        0.8275, 0.8078, 0.8118, 0.8196, 0.8235, 0.8353, 0.8353, 0.8196, 0.9059,\n",
       "        0.2549, 0.0000, 0.0078, 0.0000, 0.0000, 0.0000, 0.0000, 0.0000, 0.0000,\n",
       "        0.0000, 0.0000, 0.0000, 0.0000, 0.0000, 0.0118, 0.0000, 0.0588, 0.8824,\n",
       "        0.9020, 0.8980, 1.0000, 0.9961, 0.9961, 0.9882, 0.9765, 0.8902, 0.8941,\n",
       "        0.9608, 0.3255, 0.0000, 0.0157, 0.0000, 0.0000, 0.0000, 0.0000, 0.0000,\n",
       "        0.0000, 0.0000, 0.0000, 0.0000, 0.0000, 0.0000, 0.0000, 0.0000, 0.0000,\n",
       "        0.2196, 0.3961, 0.4275, 0.4549, 0.4706, 0.4980, 0.5098, 0.5255, 0.5333,\n",
       "        0.4941, 0.4510, 0.0039, 0.0000, 0.0039, 0.0000, 0.0000, 0.0000, 0.0000,\n",
       "        0.0000])"
      ]
     },
     "execution_count": 20,
     "metadata": {},
     "output_type": "execute_result"
    }
   ],
   "source": [
    "output.squeeze()"
   ]
  },
  {
   "cell_type": "code",
   "execution_count": 21,
   "id": "5ed49b3b-058b-4594-a638-95eef92ef2f0",
   "metadata": {},
   "outputs": [],
   "source": [
    "from torch import nn\n",
    "\n",
    "class FashionMNISTV0(nn.Module):\n",
    "    def __init__(self,\n",
    "                 input_shape: int,\n",
    "                 hidden_units: int,\n",
    "                 output_shape: int):\n",
    "        super().__init__()\n",
    "        self.layer_stack = nn.Sequential(\n",
    "            nn.Flatten(),\n",
    "            nn.Linear(in_features = input_shape,\n",
    "                      out_features = hidden_units),\n",
    "            nn.Linear(in_features = hidden_units,\n",
    "                      out_features = output_shape)\n",
    "        )\n",
    "        \n",
    "    def forward(self,x):\n",
    "        return self.layer_stack(x)"
   ]
  },
  {
   "cell_type": "code",
   "execution_count": 22,
   "id": "dfe7472d-a8d3-4d38-9e42-15f3afe5a558",
   "metadata": {},
   "outputs": [
    {
     "data": {
      "text/plain": [
       "FashionMNISTV0(\n",
       "  (layer_stack): Sequential(\n",
       "    (0): Flatten(start_dim=1, end_dim=-1)\n",
       "    (1): Linear(in_features=784, out_features=10, bias=True)\n",
       "    (2): Linear(in_features=10, out_features=10, bias=True)\n",
       "  )\n",
       ")"
      ]
     },
     "execution_count": 22,
     "metadata": {},
     "output_type": "execute_result"
    }
   ],
   "source": [
    "torch.manual_seed(42)\n",
    "\n",
    "model_0 = FashionMNISTV0(\n",
    "    input_shape = 28*28,\n",
    "    hidden_units = 10,\n",
    "    output_shape = len(class_names)\n",
    ").to('cpu')\n",
    "\n",
    "model_0"
   ]
  },
  {
   "cell_type": "code",
   "execution_count": 23,
   "id": "4a8e8fe3-0dba-4e32-9fee-c8f793773c23",
   "metadata": {},
   "outputs": [
    {
     "data": {
      "text/plain": [
       "tensor([[-0.0315,  0.3171,  0.0531, -0.2525,  0.5959,  0.2112,  0.3233,  0.2694,\n",
       "         -0.1004,  0.0157]], grad_fn=<AddmmBackward0>)"
      ]
     },
     "execution_count": 23,
     "metadata": {},
     "output_type": "execute_result"
    }
   ],
   "source": [
    "dummy_x = torch.rand([1,1,28,28])\n",
    "model_0(dummy_x)\n",
    "#model_0(dummy_x).shape"
   ]
  },
  {
   "cell_type": "code",
   "execution_count": 24,
   "id": "d458e554-e171-40cb-b154-fa7fc820e7e6",
   "metadata": {},
   "outputs": [
    {
     "data": {
      "text/plain": [
       "OrderedDict([('layer_stack.1.weight',\n",
       "              tensor([[ 0.0273,  0.0296, -0.0084,  ..., -0.0142,  0.0093,  0.0135],\n",
       "                      [-0.0188, -0.0354,  0.0187,  ..., -0.0106, -0.0001,  0.0115],\n",
       "                      [-0.0008,  0.0017,  0.0045,  ..., -0.0127, -0.0188,  0.0059],\n",
       "                      ...,\n",
       "                      [-0.0116,  0.0273, -0.0344,  ...,  0.0176,  0.0283, -0.0011],\n",
       "                      [-0.0230,  0.0257,  0.0291,  ..., -0.0187, -0.0087,  0.0001],\n",
       "                      [ 0.0176, -0.0147,  0.0053,  ..., -0.0336, -0.0221,  0.0205]])),\n",
       "             ('layer_stack.1.bias',\n",
       "              tensor([-0.0093,  0.0283, -0.0033,  0.0255,  0.0017,  0.0037, -0.0302, -0.0123,\n",
       "                       0.0018,  0.0163])),\n",
       "             ('layer_stack.2.weight',\n",
       "              tensor([[ 0.0614, -0.0687,  0.0021,  0.2718,  0.2109,  0.1079, -0.2279, -0.1063,\n",
       "                        0.2019,  0.2847],\n",
       "                      [-0.1495,  0.1344, -0.0740,  0.2006, -0.0475, -0.2514, -0.3130, -0.0118,\n",
       "                        0.0932, -0.1864],\n",
       "                      [ 0.2488,  0.1500,  0.1907,  0.1457, -0.3050, -0.0580,  0.1643,  0.1565,\n",
       "                       -0.2877, -0.1792],\n",
       "                      [ 0.2305, -0.2618,  0.2397, -0.0610,  0.0232,  0.1542,  0.0851, -0.2027,\n",
       "                        0.1030, -0.2715],\n",
       "                      [-0.1596, -0.0555, -0.0633,  0.2302, -0.1726,  0.2654,  0.1473,  0.1029,\n",
       "                        0.2252, -0.2160],\n",
       "                      [-0.2725,  0.0118,  0.1559,  0.1596,  0.0132,  0.3024,  0.1124,  0.1366,\n",
       "                       -0.1533,  0.0965],\n",
       "                      [-0.1184, -0.2555, -0.2057, -0.1909, -0.0477, -0.1324,  0.2905,  0.1307,\n",
       "                       -0.2629,  0.0133],\n",
       "                      [ 0.2727, -0.0127,  0.0513,  0.0863, -0.1043, -0.2047, -0.1185, -0.0825,\n",
       "                        0.2488, -0.2571],\n",
       "                      [ 0.0425, -0.1209, -0.0336, -0.0281, -0.1227,  0.0730,  0.0747, -0.1816,\n",
       "                        0.1943,  0.2853],\n",
       "                      [-0.1310,  0.0645, -0.1171,  0.2168, -0.0245, -0.2820,  0.0736,  0.2621,\n",
       "                        0.0012, -0.0810]])),\n",
       "             ('layer_stack.2.bias',\n",
       "              tensor([-0.0087,  0.1791,  0.2712, -0.0791,  0.1685,  0.1762,  0.2825,  0.2266,\n",
       "                      -0.2612, -0.2613]))])"
      ]
     },
     "execution_count": 24,
     "metadata": {},
     "output_type": "execute_result"
    }
   ],
   "source": [
    "model_0.state_dict()"
   ]
  },
  {
   "cell_type": "code",
   "execution_count": 25,
   "id": "d22bdc9e-9786-40e4-8489-b53a11de2dec",
   "metadata": {},
   "outputs": [],
   "source": [
    "# setting up loss function and optimizer\n",
    "\n",
    "loss_fn = nn.CrossEntropyLoss()\n",
    "optimizer = torch.optim.SGD(params=model_0.parameters(),lr = 0.01)"
   ]
  },
  {
   "cell_type": "code",
   "execution_count": 26,
   "id": "330298f3-31d1-42b2-b207-cf4177963168",
   "metadata": {},
   "outputs": [],
   "source": [
    "from timeit import default_timer as timer\n",
    "def print_train_time(start: float,\n",
    "                     end: float,\n",
    "                     device: torch.device = None):\n",
    "    \n",
    "    total_time = end - start\n",
    "    print(f'Train time on {device}: {total_time:.3f} seconds')\n",
    "    return total_time"
   ]
  },
  {
   "cell_type": "code",
   "execution_count": 27,
   "id": "c78de987-0ffa-4ace-a62a-e8805feb490b",
   "metadata": {},
   "outputs": [],
   "source": [
    "def accuracy_fn(y_true,y_pred):\n",
    "    correct = torch.eq(y_true,y_pred).sum().item()\n",
    "    acc = (correct/len(y_pred)) * 100\n",
    "    return acc"
   ]
  },
  {
   "cell_type": "code",
   "execution_count": 28,
   "id": "761b942e-2625-49f3-8a0b-3eef78d8bc2b",
   "metadata": {},
   "outputs": [
    {
     "data": {
      "application/vnd.jupyter.widget-view+json": {
       "model_id": "315530f8bb654d4e86cd7408a678ea2f",
       "version_major": 2,
       "version_minor": 0
      },
      "text/plain": [
       "  0%|          | 0/10 [00:00<?, ?it/s]"
      ]
     },
     "metadata": {},
     "output_type": "display_data"
    },
    {
     "name": "stdout",
     "output_type": "stream",
     "text": [
      "Epoch: 0\n",
      "-----\n",
      "Looked at 0/3750 samples.\n",
      "Looked at 6400/3750 samples.\n",
      "Looked at 12800/3750 samples.\n",
      "Looked at 19200/3750 samples.\n",
      "Looked at 25600/3750 samples.\n",
      "Looked at 32000/3750 samples.\n",
      "Looked at 38400/3750 samples.\n",
      "Looked at 44800/3750 samples.\n",
      "Looked at 51200/3750 samples.\n",
      "Looked at 57600/3750 samples.\n",
      "\n",
      "Train loss: 0.7405 | Test loss: 0.5480,Test acc: 81.0300\n",
      "Epoch: 1\n",
      "-----\n",
      "Looked at 0/3750 samples.\n",
      "Looked at 6400/3750 samples.\n",
      "Looked at 12800/3750 samples.\n",
      "Looked at 19200/3750 samples.\n",
      "Looked at 25600/3750 samples.\n",
      "Looked at 32000/3750 samples.\n",
      "Looked at 38400/3750 samples.\n",
      "Looked at 44800/3750 samples.\n",
      "Looked at 51200/3750 samples.\n",
      "Looked at 57600/3750 samples.\n",
      "\n",
      "Train loss: 0.4989 | Test loss: 0.4970,Test acc: 82.5500\n",
      "Epoch: 2\n",
      "-----\n",
      "Looked at 0/3750 samples.\n",
      "Looked at 6400/3750 samples.\n",
      "Looked at 12800/3750 samples.\n",
      "Looked at 19200/3750 samples.\n",
      "Looked at 25600/3750 samples.\n",
      "Looked at 32000/3750 samples.\n",
      "Looked at 38400/3750 samples.\n",
      "Looked at 44800/3750 samples.\n",
      "Looked at 51200/3750 samples.\n",
      "Looked at 57600/3750 samples.\n",
      "\n",
      "Train loss: 0.4647 | Test loss: 0.4802,Test acc: 83.3200\n",
      "Epoch: 3\n",
      "-----\n",
      "Looked at 0/3750 samples.\n",
      "Looked at 6400/3750 samples.\n",
      "Looked at 12800/3750 samples.\n",
      "Looked at 19200/3750 samples.\n",
      "Looked at 25600/3750 samples.\n",
      "Looked at 32000/3750 samples.\n",
      "Looked at 38400/3750 samples.\n",
      "Looked at 44800/3750 samples.\n",
      "Looked at 51200/3750 samples.\n",
      "Looked at 57600/3750 samples.\n",
      "\n",
      "Train loss: 0.4475 | Test loss: 0.4683,Test acc: 83.2800\n",
      "Epoch: 4\n",
      "-----\n",
      "Looked at 0/3750 samples.\n",
      "Looked at 6400/3750 samples.\n",
      "Looked at 12800/3750 samples.\n",
      "Looked at 19200/3750 samples.\n",
      "Looked at 25600/3750 samples.\n",
      "Looked at 32000/3750 samples.\n",
      "Looked at 38400/3750 samples.\n",
      "Looked at 44800/3750 samples.\n",
      "Looked at 51200/3750 samples.\n",
      "Looked at 57600/3750 samples.\n",
      "\n",
      "Train loss: 0.4359 | Test loss: 0.4656,Test acc: 83.6000\n",
      "Epoch: 5\n",
      "-----\n",
      "Looked at 0/3750 samples.\n",
      "Looked at 6400/3750 samples.\n",
      "Looked at 12800/3750 samples.\n",
      "Looked at 19200/3750 samples.\n",
      "Looked at 25600/3750 samples.\n",
      "Looked at 32000/3750 samples.\n",
      "Looked at 38400/3750 samples.\n",
      "Looked at 44800/3750 samples.\n",
      "Looked at 51200/3750 samples.\n",
      "Looked at 57600/3750 samples.\n",
      "\n",
      "Train loss: 0.4280 | Test loss: 0.4545,Test acc: 84.0300\n",
      "Epoch: 6\n",
      "-----\n",
      "Looked at 0/3750 samples.\n",
      "Looked at 6400/3750 samples.\n",
      "Looked at 12800/3750 samples.\n",
      "Looked at 19200/3750 samples.\n",
      "Looked at 25600/3750 samples.\n",
      "Looked at 32000/3750 samples.\n",
      "Looked at 38400/3750 samples.\n",
      "Looked at 44800/3750 samples.\n",
      "Looked at 51200/3750 samples.\n",
      "Looked at 57600/3750 samples.\n",
      "\n",
      "Train loss: 0.4223 | Test loss: 0.4556,Test acc: 84.0300\n",
      "Epoch: 7\n",
      "-----\n",
      "Looked at 0/3750 samples.\n",
      "Looked at 6400/3750 samples.\n",
      "Looked at 12800/3750 samples.\n",
      "Looked at 19200/3750 samples.\n",
      "Looked at 25600/3750 samples.\n",
      "Looked at 32000/3750 samples.\n",
      "Looked at 38400/3750 samples.\n",
      "Looked at 44800/3750 samples.\n",
      "Looked at 51200/3750 samples.\n",
      "Looked at 57600/3750 samples.\n",
      "\n",
      "Train loss: 0.4179 | Test loss: 0.4528,Test acc: 84.0700\n",
      "Epoch: 8\n",
      "-----\n",
      "Looked at 0/3750 samples.\n",
      "Looked at 6400/3750 samples.\n",
      "Looked at 12800/3750 samples.\n",
      "Looked at 19200/3750 samples.\n",
      "Looked at 25600/3750 samples.\n",
      "Looked at 32000/3750 samples.\n",
      "Looked at 38400/3750 samples.\n",
      "Looked at 44800/3750 samples.\n",
      "Looked at 51200/3750 samples.\n",
      "Looked at 57600/3750 samples.\n",
      "\n",
      "Train loss: 0.4137 | Test loss: 0.4509,Test acc: 84.0300\n",
      "Epoch: 9\n",
      "-----\n",
      "Looked at 0/3750 samples.\n",
      "Looked at 6400/3750 samples.\n",
      "Looked at 12800/3750 samples.\n",
      "Looked at 19200/3750 samples.\n",
      "Looked at 25600/3750 samples.\n",
      "Looked at 32000/3750 samples.\n",
      "Looked at 38400/3750 samples.\n",
      "Looked at 44800/3750 samples.\n",
      "Looked at 51200/3750 samples.\n",
      "Looked at 57600/3750 samples.\n",
      "\n",
      "Train loss: 0.4103 | Test loss: 0.4540,Test acc: 84.1700\n",
      "Train time on cpu: 64.331 seconds\n"
     ]
    }
   ],
   "source": [
    "#import tqdm for progress bar\n",
    "\n",
    "from tqdm.auto import tqdm\n",
    "\n",
    "torch.manual_seed(42)\n",
    "train_time_start_on_cpu = timer()\n",
    "\n",
    "epochs = 10\n",
    "\n",
    "# training loop\n",
    "\n",
    "for epoch in tqdm(range(epochs)):\n",
    "    print(f'Epoch: {epoch}\\n-----')\n",
    "    \n",
    "    train_loss = 0\n",
    "    # add a loop to loop through thr training batches\n",
    "    \n",
    "    for batch,(X,y) in enumerate(train_dataloader):\n",
    "        model_0.train()\n",
    "        \n",
    "        # 1.Forward pass\n",
    "        y_pred = model_0(X)\n",
    "        \n",
    "        # 2. calculate the loss(per batch)\n",
    "        loss = loss_fn(y_pred,y)\n",
    "        train_loss += loss\n",
    "        \n",
    "        # 3. Optimizer zero_grad\n",
    "        optimizer.zero_grad()\n",
    "        \n",
    "        # 4. Loss backward\n",
    "        loss.backward()\n",
    "        \n",
    "        # 5. Optimizer step\n",
    "        optimizer.step()\n",
    "        \n",
    "        if batch % 400 == 0:\n",
    "            print(f'Looked at {batch * len(X)}/{len(train_dataloader)} samples.')\n",
    "        \n",
    "    train_loss /= len(train_dataloader)\n",
    "    \n",
    "    test_loss,test_acc = 0,0\n",
    "    model_0.eval()\n",
    "    with torch.inference_mode():\n",
    "        for X_test,y_test in test_dataloader:\n",
    "            \n",
    "            # 1. Forward pass\n",
    "            test_pred = model_0(X_test)\n",
    "            \n",
    "            # 2. Calculate loss\n",
    "            test_loss += loss_fn(test_pred,y_test)\n",
    "            \n",
    "            # 3. Calcualte accuracy\n",
    "            test_acc += accuracy_fn(y_true = y_test, y_pred = test_pred.argmax(dim = 1))\n",
    "            \n",
    "        test_loss /= len(test_dataloader)\n",
    "        \n",
    "        test_acc /= len(test_dataloader)\n",
    "        \n",
    "    print(f'\\nTrain loss: {train_loss:.4f} | Test loss: {test_loss:.4f},Test acc: {test_acc:.4f}')\n",
    "\n",
    "    \n",
    "train_time_end_on_cpu = timer()\n",
    "total_train_time_model_0 = print_train_time(start = train_time_start_on_cpu,\n",
    "                                            end = train_time_end_on_cpu,\n",
    "                                            device = str(next(model_0.parameters()).device))\n",
    "                                            "
   ]
  },
  {
   "cell_type": "code",
   "execution_count": 29,
   "id": "648f2c36-5658-43ec-b849-f0977b633de8",
   "metadata": {},
   "outputs": [
    {
     "data": {
      "text/plain": [
       "{'model_name': 'FashionMNISTV0',\n",
       " 'model_loss': 0.4539719223976135,\n",
       " 'model_acc': 84.17}"
      ]
     },
     "execution_count": 29,
     "metadata": {},
     "output_type": "execute_result"
    }
   ],
   "source": [
    "torch.manual_seed(42)\n",
    "def eval_model(model:torch.nn.Module,\n",
    "               data_loader:torch.utils.data.DataLoader,\n",
    "               loss_fn:torch.nn.Module,\n",
    "               accuracy_fn):\n",
    "    loss,acc = 0,0\n",
    "    model.eval()\n",
    "    with torch.inference_mode():\n",
    "        for X,y in data_loader:\n",
    "            y_pred = model(X)\n",
    "            loss += loss_fn(y_pred,y)\n",
    "            acc += accuracy_fn(y_true = y,\n",
    "                               y_pred = y_pred.argmax(dim =1))\n",
    "            \n",
    "        loss /= len(data_loader)\n",
    "        acc /= len(data_loader)\n",
    "        \n",
    "    return {'model_name': model.__class__.__name__,\n",
    "            'model_loss': loss.item(),\n",
    "            'model_acc':acc}\n",
    "\n",
    "model_0_results = eval_model(model = model_0,\n",
    "                             data_loader = test_dataloader,\n",
    "                             loss_fn = loss_fn,\n",
    "                             accuracy_fn = accuracy_fn)\n",
    "model_0_results"
   ]
  },
  {
   "cell_type": "code",
   "execution_count": 30,
   "id": "677545ff-67f8-4bca-80fa-175d4d93cab9",
   "metadata": {},
   "outputs": [
    {
     "name": "stdout",
     "output_type": "stream",
     "text": [
      "Wed Feb 15 12:30:25 2023       \n",
      "+-----------------------------------------------------------------------------+\n",
      "| NVIDIA-SMI 528.24       Driver Version: 528.24       CUDA Version: 12.0     |\n",
      "|-------------------------------+----------------------+----------------------+\n",
      "| GPU  Name            TCC/WDDM | Bus-Id        Disp.A | Volatile Uncorr. ECC |\n",
      "| Fan  Temp  Perf  Pwr:Usage/Cap|         Memory-Usage | GPU-Util  Compute M. |\n",
      "|                               |                      |               MIG M. |\n",
      "|===============================+======================+======================|\n",
      "|   0  NVIDIA GeForce ... WDDM  | 00000000:01:00.0  On |                  N/A |\n",
      "| N/A   54C    P5    18W /  80W |    474MiB /  6144MiB |     30%      Default |\n",
      "|                               |                      |                  N/A |\n",
      "+-------------------------------+----------------------+----------------------+\n",
      "                                                                               \n",
      "+-----------------------------------------------------------------------------+\n",
      "| Processes:                                                                  |\n",
      "|  GPU   GI   CI        PID   Type   Process name                  GPU Memory |\n",
      "|        ID   ID                                                   Usage      |\n",
      "|=============================================================================|\n",
      "|    0   N/A  N/A     16080    C+G   ...h8wxbdkxb8p\\DCv2\\DCv2.exe    N/A      |\n",
      "+-----------------------------------------------------------------------------+\n"
     ]
    }
   ],
   "source": [
    "!nvidia-smi"
   ]
  },
  {
   "cell_type": "code",
   "execution_count": 31,
   "id": "d89a3875-f65f-4337-98c2-9236e78074bb",
   "metadata": {},
   "outputs": [
    {
     "data": {
      "text/plain": [
       "'cuda'"
      ]
     },
     "execution_count": 31,
     "metadata": {},
     "output_type": "execute_result"
    }
   ],
   "source": [
    "import torch\n",
    "device = 'cuda' if torch.cuda.is_available() else 'cpu'\n",
    "device"
   ]
  },
  {
   "cell_type": "code",
   "execution_count": 32,
   "id": "ec3af717-15f9-4ec5-89b2-3bcce40e478b",
   "metadata": {},
   "outputs": [],
   "source": [
    "class FashionMNISTV1(nn.Module):\n",
    "    def __init__(self,\n",
    "                 input_shape: int,\n",
    "                 hidden_units: int,\n",
    "                 output_shape: int):\n",
    "        super().__init__()\n",
    "        self.layer_stack = nn.Sequential(\n",
    "            nn.Flatten(),\n",
    "            nn.Linear(in_features = input_shape,\n",
    "                      out_features = hidden_units),\n",
    "            nn.ReLU(),\n",
    "            nn.Linear(in_features = hidden_units,\n",
    "                      out_features = output_shape),\n",
    "            nn.ReLU()\n",
    "        )\n",
    "        \n",
    "    def forward(self,x):\n",
    "        return self.layer_stack(x)"
   ]
  },
  {
   "cell_type": "code",
   "execution_count": 33,
   "id": "d92baca5-4431-4427-aee7-4c34c1d93ebf",
   "metadata": {},
   "outputs": [
    {
     "data": {
      "text/plain": [
       "device(type='cuda', index=0)"
      ]
     },
     "execution_count": 33,
     "metadata": {},
     "output_type": "execute_result"
    }
   ],
   "source": [
    "torch.manual_seed(42)\n",
    "model_1 = FashionMNISTV1(input_shape = 784,\n",
    "                         hidden_units = 10,\n",
    "                         output_shape = len(class_names)).to(device)\n",
    "\n",
    "next(model_1.parameters()).device"
   ]
  },
  {
   "cell_type": "code",
   "execution_count": 34,
   "id": "39fa0601-ab15-4a67-b3a1-ee1ce0c050c8",
   "metadata": {},
   "outputs": [],
   "source": [
    "loss_fn = nn.CrossEntropyLoss()\n",
    "optimizer = torch.optim.SGD(params=model_1.parameters(),lr = 0.01)"
   ]
  },
  {
   "cell_type": "code",
   "execution_count": 35,
   "id": "e923e2b8-2d15-4b0c-9f0c-5e6b1d5ce62c",
   "metadata": {},
   "outputs": [],
   "source": [
    "def train_step_func(model: torch.nn.Module,\n",
    "                    data_loader: torch.utils.data.DataLoader,\n",
    "                    loss_fn: torch.nn.Module,\n",
    "                    optimizer: torch.optim.Optimizer,\n",
    "                    accuracy_fn,\n",
    "                    device: torch.device = device):\n",
    "    \n",
    "    train_loss , train_acc = 0,0\n",
    "    # add a loop to loop through thr training batches\n",
    "    \n",
    "    model_0.train()\n",
    "    \n",
    "    for batch,(X,y) in enumerate(data_loader):\n",
    "        X,y = X.to(device),y.to(device)\n",
    "        \n",
    "        # 1.Forward pass(outputs the raw logits from the model)\n",
    "        y_pred = model(X)\n",
    "        \n",
    "        # 2. calculate the loss(per batch)\n",
    "        loss = loss_fn(y_pred,y)\n",
    "        train_loss += loss\n",
    "        train_acc += accuracy_fn(y_true=y,\n",
    "                                 y_pred=y_pred.argmax(dim=1))# goes from logits to prediction labels\n",
    "        \n",
    "        # 3. Optimizer zero_grad\n",
    "        optimizer.zero_grad()\n",
    "        \n",
    "        # 4. Loss backward\n",
    "        loss.backward()\n",
    "        \n",
    "        # 5. Optimizer step\n",
    "        optimizer.step()\n",
    "        \n",
    "    train_loss /= len(data_loader)\n",
    "    train_acc /= len(data_loader)\n",
    "    print(f'Train loss: {train_loss:.5f} | train accuracy {train_acc:.2f}%')"
   ]
  },
  {
   "cell_type": "code",
   "execution_count": 36,
   "id": "86e6577b-bc88-4b96-afa7-ab3acabe8fcd",
   "metadata": {},
   "outputs": [],
   "source": [
    "def test_step_func(model: torch.nn.Module,\n",
    "                    data_loader: torch.utils.data.DataLoader,\n",
    "                    loss_fn: torch.nn.Module,\n",
    "                    accuracy_fn,\n",
    "                    device: torch.device = device):\n",
    "    \n",
    "    test_loss,test_acc = 0,0\n",
    "    model.eval()\n",
    "    with torch.inference_mode():\n",
    "        for X,y in data_loader:\n",
    "            X,y = X.to(device),y.to(device)\n",
    "            test_pred = model(X)\n",
    "            test_loss += loss_fn(test_pred,y)\n",
    "            test_acc += accuracy_fn(y_true=y,\n",
    "                                   y_pred = test_pred.argmax(dim=1))\n",
    "            \n",
    "        test_loss /= len(data_loader)\n",
    "        test_acc /= len(data_loader)\n",
    "        print(f'test loss: {test_loss:.5f} | test accuracy {test_acc:.2f}%')\n",
    "    "
   ]
  },
  {
   "cell_type": "code",
   "execution_count": 37,
   "id": "b40519e9-0987-4b24-8e24-d468bb9eef6d",
   "metadata": {},
   "outputs": [
    {
     "data": {
      "application/vnd.jupyter.widget-view+json": {
       "model_id": "ed1277030c6b4410ab49ebc030f6a2e7",
       "version_major": 2,
       "version_minor": 0
      },
      "text/plain": [
       "  0%|          | 0/10 [00:00<?, ?it/s]"
      ]
     },
     "metadata": {},
     "output_type": "display_data"
    },
    {
     "name": "stdout",
     "output_type": "stream",
     "text": [
      "Epoch: 0\n",
      "-----\n",
      "Train loss: 1.23272 | train accuracy 58.92%\n",
      "test loss: 1.00110 | test accuracy 64.96%\n",
      "Epoch: 1\n",
      "-----\n",
      "Train loss: 0.95304 | train accuracy 65.92%\n",
      "test loss: 0.94208 | test accuracy 65.77%\n",
      "Epoch: 2\n",
      "-----\n",
      "Train loss: 0.91299 | train accuracy 66.85%\n",
      "test loss: 0.92694 | test accuracy 66.09%\n",
      "Epoch: 3\n",
      "-----\n",
      "Train loss: 0.89416 | train accuracy 67.28%\n",
      "test loss: 0.90721 | test accuracy 66.74%\n",
      "Epoch: 4\n",
      "-----\n",
      "Train loss: 0.88073 | train accuracy 67.58%\n",
      "test loss: 0.90306 | test accuracy 66.43%\n",
      "Epoch: 5\n",
      "-----\n",
      "Train loss: 0.86969 | train accuracy 67.91%\n",
      "test loss: 0.89021 | test accuracy 66.89%\n",
      "Epoch: 6\n",
      "-----\n",
      "Train loss: 0.86067 | train accuracy 68.12%\n",
      "test loss: 0.88830 | test accuracy 67.01%\n",
      "Epoch: 7\n",
      "-----\n",
      "Train loss: 0.85357 | train accuracy 68.30%\n",
      "test loss: 0.88039 | test accuracy 67.23%\n",
      "Epoch: 8\n",
      "-----\n",
      "Train loss: 0.84583 | train accuracy 68.59%\n",
      "test loss: 0.87537 | test accuracy 67.49%\n",
      "Epoch: 9\n",
      "-----\n",
      "Train loss: 0.83936 | train accuracy 68.70%\n",
      "test loss: 0.86873 | test accuracy 67.67%\n",
      "Train time on cuda: 105.218 seconds\n"
     ]
    }
   ],
   "source": [
    "torch.manual_seed(42)\n",
    "\n",
    "# measuring time\n",
    "\n",
    "from timeit import default_timer as timer\n",
    "train_time_start_on_gpu = timer()\n",
    "\n",
    "epochs = 10\n",
    "\n",
    "for epoch in tqdm(range(epochs)):\n",
    "    print(f'Epoch: {epoch}\\n-----')\n",
    "    train_step_func(model = model_1,\n",
    "                    data_loader = train_dataloader,\n",
    "                    loss_fn = loss_fn,\n",
    "                    optimizer = optimizer,\n",
    "                    accuracy_fn = accuracy_fn,\n",
    "                    device = device)\n",
    "    \n",
    "    test_step_func(model = model_1,\n",
    "                    data_loader = test_dataloader,\n",
    "                    loss_fn = loss_fn,\n",
    "                    accuracy_fn = accuracy_fn,\n",
    "                    device = device)\n",
    "    \n",
    "train_time_end_on_gpu = timer()\n",
    "total_train_time_model_1 = print_train_time(start=train_time_start_on_gpu,\n",
    "                                            end = train_time_end_on_gpu,\n",
    "                                            device = device)"
   ]
  },
  {
   "cell_type": "code",
   "execution_count": 38,
   "id": "e245e1f9-e5f5-404b-8176-030ef01b15e4",
   "metadata": {},
   "outputs": [
    {
     "data": {
      "text/plain": [
       "{'model_name': 'FashionMNISTV0',\n",
       " 'model_loss': 0.4539719223976135,\n",
       " 'model_acc': 84.17}"
      ]
     },
     "execution_count": 38,
     "metadata": {},
     "output_type": "execute_result"
    }
   ],
   "source": [
    "model_0_results"
   ]
  },
  {
   "cell_type": "code",
   "execution_count": 39,
   "id": "57400cbe-e455-47d2-b1ee-2988f73e2913",
   "metadata": {},
   "outputs": [
    {
     "data": {
      "text/plain": [
       "64.3312994"
      ]
     },
     "execution_count": 39,
     "metadata": {},
     "output_type": "execute_result"
    }
   ],
   "source": [
    "total_train_time_model_0"
   ]
  },
  {
   "cell_type": "code",
   "execution_count": 40,
   "id": "68d52b2d-6ac1-45c4-aee6-486e83ecdc5b",
   "metadata": {},
   "outputs": [],
   "source": [
    "torch.manual_seed(42)\n",
    "def eval_model(model:torch.nn.Module,\n",
    "               data_loader:torch.utils.data.DataLoader,\n",
    "               loss_fn:torch.nn.Module,\n",
    "               accuracy_fn,\n",
    "               device = device):\n",
    "    loss,acc = 0,0\n",
    "    model.eval()\n",
    "    with torch.inference_mode():\n",
    "        for X,y in tqdm(data_loader):\n",
    "            X,y = X.to(device),y.to(device)\n",
    "            y_pred = model(X)\n",
    "            loss += loss_fn(y_pred,y)\n",
    "            acc += accuracy_fn(y_true = y,\n",
    "                               y_pred = y_pred.argmax(dim =1))\n",
    "            \n",
    "        loss /= len(data_loader)\n",
    "        acc /= len(data_loader)\n",
    "        \n",
    "    return {'model_name': model.__class__.__name__,\n",
    "            'model_loss': loss.item(),\n",
    "            'model_acc':acc}"
   ]
  },
  {
   "cell_type": "code",
   "execution_count": 41,
   "id": "b8852613-e6d6-4ad8-9a18-ea0b9037f34e",
   "metadata": {},
   "outputs": [
    {
     "data": {
      "application/vnd.jupyter.widget-view+json": {
       "model_id": "51f59cbbd3a34f1e82f1be90b9ed9f34",
       "version_major": 2,
       "version_minor": 0
      },
      "text/plain": [
       "  0%|          | 0/625 [00:00<?, ?it/s]"
      ]
     },
     "metadata": {},
     "output_type": "display_data"
    },
    {
     "data": {
      "text/plain": [
       "{'model_name': 'FashionMNISTV1',\n",
       " 'model_loss': 0.8687295913696289,\n",
       " 'model_acc': 67.67}"
      ]
     },
     "execution_count": 41,
     "metadata": {},
     "output_type": "execute_result"
    }
   ],
   "source": [
    "model_1_results = eval_model(model = model_1,\n",
    "                             data_loader = test_dataloader,\n",
    "                             loss_fn = loss_fn,\n",
    "                             accuracy_fn = accuracy_fn,\n",
    "                             device = device)\n",
    "model_1_results"
   ]
  },
  {
   "cell_type": "code",
   "execution_count": 42,
   "id": "77f458e0-f2a0-4032-bc80-673ebe673393",
   "metadata": {},
   "outputs": [],
   "source": [
    "# creating a CNN\n",
    "\n",
    "class FashionMNISTV2(nn.Module):\n",
    "    \n",
    "    def __init__(self,\n",
    "                 input_shape: int,\n",
    "                 hidden_units: int,\n",
    "                 output_shape: int):\n",
    "        super().__init__()\n",
    "        self.cnn_block_1 = nn.Sequential(\n",
    "            nn.Conv2d(in_channels = input_shape,\n",
    "                      out_channels = hidden_units,\n",
    "                      kernel_size = 3,\n",
    "                      stride = 1,\n",
    "                      padding = 1),\n",
    "            nn.ReLU(),\n",
    "            nn.Conv2d(in_channels = hidden_units,\n",
    "                      out_channels = hidden_units,\n",
    "                      kernel_size = 3,\n",
    "                      stride = 1,\n",
    "                      padding = 1),\n",
    "            nn.ReLU(),\n",
    "            nn.MaxPool2d(kernel_size = 2)\n",
    "       )\n",
    "        self.cnn_block_2 = nn.Sequential(\n",
    "            nn.Conv2d(in_channels = hidden_units,\n",
    "                      out_channels = hidden_units,\n",
    "                      kernel_size = 3,\n",
    "                      stride = 1,\n",
    "                      padding = 1),\n",
    "            nn.ReLU(),\n",
    "            nn.Conv2d(in_channels = hidden_units,\n",
    "                      out_channels = hidden_units,\n",
    "                      kernel_size = 3,\n",
    "                      stride = 1,\n",
    "                      padding = 1),\n",
    "            nn.ReLU(),\n",
    "            nn.MaxPool2d(kernel_size = 2)\n",
    "        )\n",
    "        self.classifier = nn.Sequential(\n",
    "            nn.Flatten(),\n",
    "            nn.Linear(in_features = hidden_units*7*7,\n",
    "                      out_features = output_shape)\n",
    "        )\n",
    "        \n",
    "        \n",
    "    def forward(self,x):\n",
    "        x = self.cnn_block_1(x)\n",
    "        #print(f'output shape of cnn_block_1: {x.shape}')\n",
    "        x = self.cnn_block_2(x)\n",
    "        #print(f'output shape of cnn_block_2: {x.shape}')\n",
    "        x = self.classifier(x)\n",
    "        #print(f'output shape of classifier: {x.shape}')\n",
    "        return x\n",
    "     "
   ]
  },
  {
   "cell_type": "code",
   "execution_count": 43,
   "id": "47c885ec-9e09-428b-be86-bcec62698b69",
   "metadata": {},
   "outputs": [
    {
     "data": {
      "text/plain": [
       "torch.Size([1, 28, 28])"
      ]
     },
     "execution_count": 43,
     "metadata": {},
     "output_type": "execute_result"
    }
   ],
   "source": [
    "image.shape"
   ]
  },
  {
   "cell_type": "code",
   "execution_count": 44,
   "id": "7d06cd18-d840-464f-bbc8-e3b55d43d1f3",
   "metadata": {},
   "outputs": [
    {
     "data": {
      "text/plain": [
       "FashionMNISTV2(\n",
       "  (cnn_block_1): Sequential(\n",
       "    (0): Conv2d(1, 20, kernel_size=(3, 3), stride=(1, 1), padding=(1, 1))\n",
       "    (1): ReLU()\n",
       "    (2): Conv2d(20, 20, kernel_size=(3, 3), stride=(1, 1), padding=(1, 1))\n",
       "    (3): ReLU()\n",
       "    (4): MaxPool2d(kernel_size=2, stride=2, padding=0, dilation=1, ceil_mode=False)\n",
       "  )\n",
       "  (cnn_block_2): Sequential(\n",
       "    (0): Conv2d(20, 20, kernel_size=(3, 3), stride=(1, 1), padding=(1, 1))\n",
       "    (1): ReLU()\n",
       "    (2): Conv2d(20, 20, kernel_size=(3, 3), stride=(1, 1), padding=(1, 1))\n",
       "    (3): ReLU()\n",
       "    (4): MaxPool2d(kernel_size=2, stride=2, padding=0, dilation=1, ceil_mode=False)\n",
       "  )\n",
       "  (classifier): Sequential(\n",
       "    (0): Flatten(start_dim=1, end_dim=-1)\n",
       "    (1): Linear(in_features=980, out_features=10, bias=True)\n",
       "  )\n",
       ")"
      ]
     },
     "execution_count": 44,
     "metadata": {},
     "output_type": "execute_result"
    }
   ],
   "source": [
    "torch.manual_seed(42)\n",
    "model_2 = FashionMNISTV2(input_shape = 1,\n",
    "                         hidden_units = 20,\n",
    "                         output_shape = len(class_names)).to(device)\n",
    "model_2"
   ]
  },
  {
   "cell_type": "code",
   "execution_count": 45,
   "id": "fedd7f28-9ca3-4378-983c-fc4986ce639b",
   "metadata": {
    "scrolled": true,
    "tags": []
   },
   "outputs": [
    {
     "data": {
      "text/plain": [
       "OrderedDict([('cnn_block_1.0.weight',\n",
       "              tensor([[[[ 0.2548,  0.2767, -0.0781],\n",
       "                        [ 0.3062, -0.0730,  0.0673],\n",
       "                        [-0.1623,  0.1958,  0.2938]]],\n",
       "              \n",
       "              \n",
       "                      [[[-0.2445,  0.2897,  0.0624],\n",
       "                        [ 0.2463,  0.0451,  0.1607],\n",
       "                        [-0.0471,  0.2570,  0.0493]]],\n",
       "              \n",
       "              \n",
       "                      [[[-0.1556,  0.0850, -0.1536],\n",
       "                        [-0.0391, -0.1354,  0.2211],\n",
       "                        [-0.2631, -0.1537, -0.0941]]],\n",
       "              \n",
       "              \n",
       "                      [[[-0.2004,  0.0315, -0.3292],\n",
       "                        [ 0.3010, -0.2832,  0.2573],\n",
       "                        [ 0.0555, -0.1082,  0.2060]]],\n",
       "              \n",
       "              \n",
       "                      [[[ 0.0520,  0.2693,  0.0364],\n",
       "                        [-0.1051,  0.0896, -0.0904],\n",
       "                        [ 0.1403,  0.2976,  0.1927]]],\n",
       "              \n",
       "              \n",
       "                      [[[-0.1457,  0.1924,  0.0596],\n",
       "                        [ 0.1693, -0.2032, -0.3300],\n",
       "                        [-0.1288, -0.2557,  0.2735]]],\n",
       "              \n",
       "              \n",
       "                      [[[ 0.0960,  0.1381,  0.1054],\n",
       "                        [-0.0058,  0.2609, -0.2368],\n",
       "                        [ 0.0210, -0.2275,  0.1028]]],\n",
       "              \n",
       "              \n",
       "                      [[[-0.1148,  0.1021, -0.0694],\n",
       "                        [ 0.2765, -0.1976, -0.1988],\n",
       "                        [-0.1988,  0.2998,  0.1111]]],\n",
       "              \n",
       "              \n",
       "                      [[[ 0.3208, -0.2751, -0.3306],\n",
       "                        [-0.2608, -0.2242,  0.1350],\n",
       "                        [ 0.1194,  0.2770, -0.1721]]],\n",
       "              \n",
       "              \n",
       "                      [[[-0.2272,  0.1769, -0.1347],\n",
       "                        [ 0.2023, -0.0791,  0.1907],\n",
       "                        [-0.2590, -0.1682,  0.1016]]],\n",
       "              \n",
       "              \n",
       "                      [[[ 0.0705, -0.0850,  0.1987],\n",
       "                        [ 0.2266, -0.2417, -0.1780],\n",
       "                        [ 0.3052, -0.1125, -0.1182]]],\n",
       "              \n",
       "              \n",
       "                      [[[-0.3225, -0.1909,  0.0833],\n",
       "                        [-0.0440, -0.2420,  0.0078],\n",
       "                        [-0.2277, -0.2828, -0.1836]]],\n",
       "              \n",
       "              \n",
       "                      [[[-0.2917, -0.2122,  0.3332],\n",
       "                        [ 0.0630,  0.1027, -0.3109],\n",
       "                        [-0.2189, -0.1110,  0.0521]]],\n",
       "              \n",
       "              \n",
       "                      [[[-0.2933, -0.1436, -0.1996],\n",
       "                        [ 0.0009, -0.1240, -0.0231],\n",
       "                        [-0.2259, -0.2288, -0.1945]]],\n",
       "              \n",
       "              \n",
       "                      [[[-0.1141, -0.2631,  0.2795],\n",
       "                        [-0.0662,  0.2868,  0.1039],\n",
       "                        [-0.2823,  0.2307, -0.0917]]],\n",
       "              \n",
       "              \n",
       "                      [[[-0.1278, -0.2767, -0.3314],\n",
       "                        [ 0.0954, -0.0728,  0.1298],\n",
       "                        [-0.2736,  0.2475, -0.2447]]],\n",
       "              \n",
       "              \n",
       "                      [[[-0.0576,  0.0696,  0.1721],\n",
       "                        [ 0.2691,  0.3037, -0.2643],\n",
       "                        [ 0.0839, -0.1434, -0.0365]]],\n",
       "              \n",
       "              \n",
       "                      [[[-0.2495,  0.3036, -0.2447],\n",
       "                        [ 0.1782,  0.1171,  0.1083],\n",
       "                        [-0.1802,  0.3030,  0.0733]]],\n",
       "              \n",
       "              \n",
       "                      [[[ 0.0429, -0.2938,  0.1399],\n",
       "                        [-0.0500, -0.1527,  0.2863],\n",
       "                        [ 0.0743, -0.1844, -0.1687]]],\n",
       "              \n",
       "              \n",
       "                      [[[-0.0159,  0.1861, -0.0852],\n",
       "                        [-0.1902, -0.1141, -0.2490],\n",
       "                        [ 0.1189,  0.2580, -0.3138]]]], device='cuda:0')),\n",
       "             ('cnn_block_1.0.bias',\n",
       "              tensor([ 0.0774,  0.1722,  0.0604, -0.1187,  0.1740,  0.1752,  0.1246, -0.0586,\n",
       "                      -0.0883,  0.0357, -0.0589, -0.0993,  0.2131,  0.2865, -0.0330, -0.0746,\n",
       "                       0.0049, -0.0199,  0.0801,  0.0934], device='cuda:0')),\n",
       "             ('cnn_block_1.2.weight',\n",
       "              tensor([[[[-0.0677, -0.0275,  0.0628],\n",
       "                        [ 0.0290, -0.0037, -0.0449],\n",
       "                        [-0.0456, -0.0668, -0.0243]],\n",
       "              \n",
       "                       [[ 0.0252,  0.0475,  0.0344],\n",
       "                        [-0.0659, -0.0448, -0.0118],\n",
       "                        [ 0.0721,  0.0108, -0.0193]],\n",
       "              \n",
       "                       [[ 0.0308, -0.0284, -0.0482],\n",
       "                        [ 0.0544, -0.0339, -0.0149],\n",
       "                        [-0.0741,  0.0499,  0.0565]],\n",
       "              \n",
       "                       ...,\n",
       "              \n",
       "                       [[ 0.0415, -0.0739,  0.0066],\n",
       "                        [ 0.0452, -0.0069, -0.0439],\n",
       "                        [ 0.0711, -0.0279, -0.0424]],\n",
       "              \n",
       "                       [[-0.0672,  0.0033,  0.0330],\n",
       "                        [ 0.0165,  0.0147, -0.0565],\n",
       "                        [-0.0696,  0.0013,  0.0680]],\n",
       "              \n",
       "                       [[ 0.0430, -0.0434, -0.0097],\n",
       "                        [-0.0549, -0.0360,  0.0135],\n",
       "                        [ 0.0406,  0.0617, -0.0684]]],\n",
       "              \n",
       "              \n",
       "                      [[[ 0.0498, -0.0526,  0.0279],\n",
       "                        [ 0.0631,  0.0010,  0.0678],\n",
       "                        [-0.0635, -0.0285,  0.0435]],\n",
       "              \n",
       "                       [[-0.0162, -0.0153, -0.0311],\n",
       "                        [ 0.0514,  0.0366,  0.0239],\n",
       "                        [-0.0419, -0.0605,  0.0081]],\n",
       "              \n",
       "                       [[ 0.0221, -0.0344, -0.0209],\n",
       "                        [ 0.0503,  0.0059,  0.0034],\n",
       "                        [-0.0183, -0.0675, -0.0701]],\n",
       "              \n",
       "                       ...,\n",
       "              \n",
       "                       [[ 0.0708,  0.0501, -0.0028],\n",
       "                        [-0.0701,  0.0033, -0.0508],\n",
       "                        [ 0.0606, -0.0452, -0.0054]],\n",
       "              \n",
       "                       [[-0.0165,  0.0133,  0.0701],\n",
       "                        [ 0.0071,  0.0432,  0.0579],\n",
       "                        [ 0.0602, -0.0257, -0.0167]],\n",
       "              \n",
       "                       [[ 0.0359, -0.0203,  0.0349],\n",
       "                        [-0.0163, -0.0506,  0.0303],\n",
       "                        [ 0.0114,  0.0332,  0.0741]]],\n",
       "              \n",
       "              \n",
       "                      [[[ 0.0509,  0.0707,  0.0040],\n",
       "                        [-0.0641, -0.0523, -0.0463],\n",
       "                        [-0.0657, -0.0374, -0.0686]],\n",
       "              \n",
       "                       [[-0.0688, -0.0445, -0.0735],\n",
       "                        [-0.0458,  0.0284,  0.0622],\n",
       "                        [-0.0222, -0.0217,  0.0398]],\n",
       "              \n",
       "                       [[-0.0368, -0.0352,  0.0459],\n",
       "                        [-0.0649,  0.0091,  0.0658],\n",
       "                        [ 0.0128,  0.0203, -0.0434]],\n",
       "              \n",
       "                       ...,\n",
       "              \n",
       "                       [[-0.0741,  0.0684,  0.0625],\n",
       "                        [ 0.0297, -0.0681, -0.0266],\n",
       "                        [-0.0216, -0.0192,  0.0420]],\n",
       "              \n",
       "                       [[ 0.0271,  0.0590, -0.0279],\n",
       "                        [ 0.0251,  0.0265, -0.0621],\n",
       "                        [-0.0723, -0.0387,  0.0510]],\n",
       "              \n",
       "                       [[-0.0702, -0.0649,  0.0418],\n",
       "                        [ 0.0402,  0.0613, -0.0563],\n",
       "                        [-0.0546,  0.0382,  0.0648]]],\n",
       "              \n",
       "              \n",
       "                      ...,\n",
       "              \n",
       "              \n",
       "                      [[[ 0.0116, -0.0273,  0.0713],\n",
       "                        [-0.0718, -0.0421, -0.0452],\n",
       "                        [ 0.0202,  0.0106, -0.0212]],\n",
       "              \n",
       "                       [[ 0.0636, -0.0643,  0.0263],\n",
       "                        [-0.0410, -0.0170, -0.0718],\n",
       "                        [-0.0556, -0.0632,  0.0325]],\n",
       "              \n",
       "                       [[-0.0280,  0.0390, -0.0404],\n",
       "                        [-0.0185,  0.0090,  0.0625],\n",
       "                        [-0.0201,  0.0432,  0.0206]],\n",
       "              \n",
       "                       ...,\n",
       "              \n",
       "                       [[-0.0618, -0.0290,  0.0042],\n",
       "                        [ 0.0171, -0.0367, -0.0072],\n",
       "                        [-0.0166,  0.0624,  0.0647]],\n",
       "              \n",
       "                       [[ 0.0306, -0.0005,  0.0559],\n",
       "                        [-0.0602,  0.0311, -0.0433],\n",
       "                        [ 0.0581, -0.0659,  0.0277]],\n",
       "              \n",
       "                       [[-0.0613,  0.0435,  0.0136],\n",
       "                        [ 0.0640, -0.0562,  0.0480],\n",
       "                        [-0.0497, -0.0402,  0.0284]]],\n",
       "              \n",
       "              \n",
       "                      [[[-0.0125, -0.0588, -0.0634],\n",
       "                        [-0.0194,  0.0206,  0.0655],\n",
       "                        [ 0.0548,  0.0012, -0.0457]],\n",
       "              \n",
       "                       [[-0.0665,  0.0666, -0.0416],\n",
       "                        [-0.0131, -0.0601, -0.0515],\n",
       "                        [ 0.0145, -0.0184,  0.0085]],\n",
       "              \n",
       "                       [[-0.0006,  0.0038, -0.0148],\n",
       "                        [-0.0029,  0.0324,  0.0544],\n",
       "                        [ 0.0630, -0.0608, -0.0630]],\n",
       "              \n",
       "                       ...,\n",
       "              \n",
       "                       [[ 0.0318, -0.0069, -0.0230],\n",
       "                        [-0.0385,  0.0707, -0.0597],\n",
       "                        [-0.0587,  0.0543, -0.0453]],\n",
       "              \n",
       "                       [[ 0.0450, -0.0411, -0.0101],\n",
       "                        [-0.0360,  0.0616,  0.0517],\n",
       "                        [ 0.0036,  0.0018, -0.0281]],\n",
       "              \n",
       "                       [[-0.0398, -0.0282,  0.0244],\n",
       "                        [-0.0134,  0.0506,  0.0107],\n",
       "                        [ 0.0008, -0.0463,  0.0301]]],\n",
       "              \n",
       "              \n",
       "                      [[[-0.0689,  0.0174,  0.0267],\n",
       "                        [ 0.0135,  0.0525,  0.0179],\n",
       "                        [-0.0206, -0.0522, -0.0692]],\n",
       "              \n",
       "                       [[ 0.0376,  0.0406, -0.0569],\n",
       "                        [ 0.0200, -0.0274,  0.0628],\n",
       "                        [-0.0257,  0.0617,  0.0527]],\n",
       "              \n",
       "                       [[ 0.0412,  0.0509,  0.0232],\n",
       "                        [ 0.0253, -0.0634, -0.0170],\n",
       "                        [-0.0084,  0.0362, -0.0289]],\n",
       "              \n",
       "                       ...,\n",
       "              \n",
       "                       [[ 0.0460, -0.0522,  0.0564],\n",
       "                        [ 0.0707,  0.0226,  0.0601],\n",
       "                        [-0.0532, -0.0165,  0.0227]],\n",
       "              \n",
       "                       [[ 0.0421, -0.0398,  0.0474],\n",
       "                        [-0.0245, -0.0398,  0.0146],\n",
       "                        [-0.0594, -0.0684,  0.0248]],\n",
       "              \n",
       "                       [[ 0.0254,  0.0287, -0.0098],\n",
       "                        [-0.0545, -0.0599,  0.0713],\n",
       "                        [-0.0646,  0.0225,  0.0605]]]], device='cuda:0')),\n",
       "             ('cnn_block_1.2.bias',\n",
       "              tensor([ 0.0569, -0.0470, -0.0240, -0.0596,  0.0468, -0.0699, -0.0686, -0.0498,\n",
       "                       0.0608,  0.0483,  0.0499,  0.0572, -0.0348, -0.0416, -0.0458,  0.0246,\n",
       "                       0.0290,  0.0155, -0.0573,  0.0066], device='cuda:0')),\n",
       "             ('cnn_block_2.0.weight',\n",
       "              tensor([[[[-0.0396, -0.0147, -0.0115],\n",
       "                        [ 0.0037, -0.0654,  0.0636],\n",
       "                        [-0.0317,  0.0233,  0.0513]],\n",
       "              \n",
       "                       [[ 0.0300,  0.0522,  0.0421],\n",
       "                        [ 0.0546,  0.0157,  0.0476],\n",
       "                        [-0.0324, -0.0402,  0.0356]],\n",
       "              \n",
       "                       [[ 0.0196, -0.0028, -0.0629],\n",
       "                        [ 0.0244,  0.0483, -0.0086],\n",
       "                        [ 0.0171,  0.0332, -0.0736]],\n",
       "              \n",
       "                       ...,\n",
       "              \n",
       "                       [[-0.0146, -0.0605,  0.0453],\n",
       "                        [ 0.0498,  0.0350,  0.0379],\n",
       "                        [ 0.0446,  0.0703,  0.0244]],\n",
       "              \n",
       "                       [[ 0.0269,  0.0234, -0.0421],\n",
       "                        [ 0.0187,  0.0225, -0.0593],\n",
       "                        [-0.0221, -0.0460, -0.0476]],\n",
       "              \n",
       "                       [[ 0.0518,  0.0586, -0.0103],\n",
       "                        [ 0.0228, -0.0175,  0.0158],\n",
       "                        [-0.0125, -0.0388, -0.0314]]],\n",
       "              \n",
       "              \n",
       "                      [[[ 0.0740,  0.0126, -0.0408],\n",
       "                        [ 0.0085, -0.0744,  0.0007],\n",
       "                        [ 0.0572,  0.0086,  0.0178]],\n",
       "              \n",
       "                       [[-0.0702, -0.0140,  0.0440],\n",
       "                        [-0.0546, -0.0349,  0.0504],\n",
       "                        [ 0.0214,  0.0348, -0.0695]],\n",
       "              \n",
       "                       [[ 0.0474, -0.0163,  0.0157],\n",
       "                        [ 0.0602, -0.0687,  0.0213],\n",
       "                        [-0.0674,  0.0552,  0.0219]],\n",
       "              \n",
       "                       ...,\n",
       "              \n",
       "                       [[-0.0240,  0.0026, -0.0139],\n",
       "                        [-0.0511, -0.0467,  0.0202],\n",
       "                        [ 0.0511,  0.0678, -0.0084]],\n",
       "              \n",
       "                       [[ 0.0287, -0.0592,  0.0397],\n",
       "                        [ 0.0712,  0.0388, -0.0295],\n",
       "                        [ 0.0608, -0.0706, -0.0089]],\n",
       "              \n",
       "                       [[-0.0185, -0.0743, -0.0425],\n",
       "                        [-0.0543,  0.0200, -0.0062],\n",
       "                        [ 0.0342, -0.0168,  0.0615]]],\n",
       "              \n",
       "              \n",
       "                      [[[ 0.0084,  0.0618,  0.0605],\n",
       "                        [-0.0632, -0.0501,  0.0449],\n",
       "                        [ 0.0704, -0.0636,  0.0011]],\n",
       "              \n",
       "                       [[-0.0287,  0.0702,  0.0619],\n",
       "                        [ 0.0542,  0.0401, -0.0070],\n",
       "                        [ 0.0688, -0.0349,  0.0037]],\n",
       "              \n",
       "                       [[-0.0196, -0.0544, -0.0353],\n",
       "                        [ 0.0181, -0.0067, -0.0494],\n",
       "                        [-0.0095,  0.0129, -0.0521]],\n",
       "              \n",
       "                       ...,\n",
       "              \n",
       "                       [[ 0.0694, -0.0263, -0.0359],\n",
       "                        [-0.0594, -0.0411, -0.0408],\n",
       "                        [ 0.0178,  0.0298,  0.0711]],\n",
       "              \n",
       "                       [[ 0.0489,  0.0011,  0.0402],\n",
       "                        [ 0.0426, -0.0643,  0.0376],\n",
       "                        [-0.0510,  0.0576, -0.0324]],\n",
       "              \n",
       "                       [[ 0.0155, -0.0008,  0.0346],\n",
       "                        [ 0.0116, -0.0541,  0.0302],\n",
       "                        [ 0.0440, -0.0388, -0.0484]]],\n",
       "              \n",
       "              \n",
       "                      ...,\n",
       "              \n",
       "              \n",
       "                      [[[ 0.0041, -0.0234, -0.0618],\n",
       "                        [-0.0646, -0.0479, -0.0541],\n",
       "                        [ 0.0569, -0.0114, -0.0498]],\n",
       "              \n",
       "                       [[ 0.0003, -0.0336, -0.0108],\n",
       "                        [ 0.0641, -0.0658, -0.0648],\n",
       "                        [ 0.0183,  0.0520, -0.0708]],\n",
       "              \n",
       "                       [[ 0.0234,  0.0738, -0.0120],\n",
       "                        [-0.0440,  0.0366,  0.0421],\n",
       "                        [-0.0077, -0.0608,  0.0029]],\n",
       "              \n",
       "                       ...,\n",
       "              \n",
       "                       [[-0.0327,  0.0317, -0.0613],\n",
       "                        [-0.0470,  0.0077,  0.0690],\n",
       "                        [-0.0688,  0.0324,  0.0130]],\n",
       "              \n",
       "                       [[-0.0609, -0.0541,  0.0376],\n",
       "                        [-0.0372,  0.0522, -0.0515],\n",
       "                        [ 0.0563, -0.0380,  0.0302]],\n",
       "              \n",
       "                       [[ 0.0223, -0.0585, -0.0391],\n",
       "                        [-0.0181,  0.0002,  0.0368],\n",
       "                        [-0.0306,  0.0110, -0.0404]]],\n",
       "              \n",
       "              \n",
       "                      [[[-0.0354,  0.0486, -0.0204],\n",
       "                        [-0.0653,  0.0031, -0.0106],\n",
       "                        [ 0.0212, -0.0380,  0.0032]],\n",
       "              \n",
       "                       [[-0.0368, -0.0450,  0.0170],\n",
       "                        [ 0.0230,  0.0138,  0.0688],\n",
       "                        [ 0.0069,  0.0063, -0.0097]],\n",
       "              \n",
       "                       [[-0.0721,  0.0292,  0.0581],\n",
       "                        [ 0.0074, -0.0581,  0.0669],\n",
       "                        [ 0.0167,  0.0539,  0.0324]],\n",
       "              \n",
       "                       ...,\n",
       "              \n",
       "                       [[-0.0422, -0.0535,  0.0128],\n",
       "                        [-0.0233,  0.0169, -0.0296],\n",
       "                        [-0.0680, -0.0384, -0.0716]],\n",
       "              \n",
       "                       [[ 0.0161, -0.0560,  0.0573],\n",
       "                        [ 0.0323, -0.0418, -0.0213],\n",
       "                        [-0.0668,  0.0537, -0.0333]],\n",
       "              \n",
       "                       [[-0.0157,  0.0055,  0.0362],\n",
       "                        [-0.0222,  0.0365,  0.0383],\n",
       "                        [-0.0092,  0.0494, -0.0654]]],\n",
       "              \n",
       "              \n",
       "                      [[[-0.0406, -0.0058, -0.0076],\n",
       "                        [ 0.0264,  0.0538, -0.0538],\n",
       "                        [ 0.0391,  0.0179,  0.0619]],\n",
       "              \n",
       "                       [[ 0.0398, -0.0162, -0.0106],\n",
       "                        [-0.0496,  0.0164,  0.0583],\n",
       "                        [ 0.0256,  0.0603,  0.0298]],\n",
       "              \n",
       "                       [[ 0.0143, -0.0161, -0.0644],\n",
       "                        [-0.0140,  0.0633,  0.0648],\n",
       "                        [-0.0252,  0.0612,  0.0614]],\n",
       "              \n",
       "                       ...,\n",
       "              \n",
       "                       [[-0.0437,  0.0707,  0.0185],\n",
       "                        [ 0.0597, -0.0602,  0.0696],\n",
       "                        [ 0.0607,  0.0052, -0.0349]],\n",
       "              \n",
       "                       [[ 0.0292, -0.0401, -0.0309],\n",
       "                        [ 0.0280, -0.0572,  0.0181],\n",
       "                        [-0.0040,  0.0007,  0.0034]],\n",
       "              \n",
       "                       [[ 0.0180, -0.0446,  0.0307],\n",
       "                        [-0.0699,  0.0314, -0.0606],\n",
       "                        [ 0.0717,  0.0179,  0.0206]]]], device='cuda:0')),\n",
       "             ('cnn_block_2.0.bias',\n",
       "              tensor([ 0.0198,  0.0145, -0.0285, -0.0725,  0.0446,  0.0451, -0.0136,  0.0037,\n",
       "                      -0.0048, -0.0168,  0.0509, -0.0446, -0.0696, -0.0123, -0.0435, -0.0492,\n",
       "                      -0.0214, -0.0029,  0.0490,  0.0419], device='cuda:0')),\n",
       "             ('cnn_block_2.2.weight',\n",
       "              tensor([[[[ 6.0671e-02,  5.5782e-02,  2.2417e-02],\n",
       "                        [-4.8592e-04, -2.3799e-03, -5.6571e-02],\n",
       "                        [ 7.1055e-03, -1.7429e-02, -2.0529e-02]],\n",
       "              \n",
       "                       [[ 6.2656e-02,  3.4200e-02,  4.6766e-02],\n",
       "                        [ 4.8145e-02, -4.3155e-02,  2.1510e-02],\n",
       "                        [-9.3501e-03,  2.6012e-02,  4.3820e-02]],\n",
       "              \n",
       "                       [[-1.8711e-02,  5.5932e-02,  3.1159e-03],\n",
       "                        [-1.4181e-02,  4.8829e-02,  5.7746e-02],\n",
       "                        [-2.1031e-02,  4.2868e-02, -1.6607e-02]],\n",
       "              \n",
       "                       ...,\n",
       "              \n",
       "                       [[-5.9049e-02, -9.5642e-03,  2.3648e-03],\n",
       "                        [-4.9773e-02, -5.8134e-02, -1.4695e-02],\n",
       "                        [ 4.3486e-03,  5.4791e-02,  2.7050e-02]],\n",
       "              \n",
       "                       [[-4.3405e-02, -6.8796e-02,  1.4534e-02],\n",
       "                        [-1.0693e-02,  4.3708e-02, -5.1565e-02],\n",
       "                        [-3.6172e-03, -5.4368e-02, -3.7380e-02]],\n",
       "              \n",
       "                       [[-4.3976e-02, -1.5523e-02, -6.2446e-03],\n",
       "                        [ 6.9290e-02,  6.6062e-02,  5.8060e-02],\n",
       "                        [ 1.7820e-02,  1.1787e-03,  7.0958e-02]]],\n",
       "              \n",
       "              \n",
       "                      [[[-5.1447e-02, -6.8850e-02, -4.0276e-02],\n",
       "                        [ 5.5831e-02,  7.2976e-02, -3.0629e-02],\n",
       "                        [-4.8240e-02, -6.6216e-02,  3.4537e-02]],\n",
       "              \n",
       "                       [[-3.0019e-02,  5.5712e-02, -2.6354e-02],\n",
       "                        [ 6.8191e-02,  4.8053e-02,  4.9100e-02],\n",
       "                        [ 3.9646e-02, -5.9894e-02,  1.0227e-02]],\n",
       "              \n",
       "                       [[-4.4468e-02, -2.2905e-02,  4.6166e-02],\n",
       "                        [-3.7876e-02,  4.7003e-02,  3.8458e-03],\n",
       "                        [-3.5342e-02, -3.6196e-02, -7.2456e-02]],\n",
       "              \n",
       "                       ...,\n",
       "              \n",
       "                       [[-4.7421e-02,  2.4757e-02, -6.7647e-02],\n",
       "                        [-3.9640e-02, -5.3800e-02, -4.1453e-02],\n",
       "                        [-1.6134e-02,  1.6973e-02,  1.4223e-02]],\n",
       "              \n",
       "                       [[-7.2856e-02, -7.1343e-02, -1.1308e-02],\n",
       "                        [ 6.3616e-02,  2.7612e-02,  6.6533e-02],\n",
       "                        [-3.5316e-02,  2.0777e-02, -6.4890e-02]],\n",
       "              \n",
       "                       [[ 3.8791e-02, -1.8364e-03, -5.6534e-03],\n",
       "                        [-4.0248e-02, -6.5125e-02, -2.7442e-02],\n",
       "                        [-7.0430e-03, -3.9582e-02,  3.1154e-02]]],\n",
       "              \n",
       "              \n",
       "                      [[[-1.2934e-02,  7.3390e-03, -6.9413e-02],\n",
       "                        [ 2.0991e-02, -3.6441e-02, -5.6320e-02],\n",
       "                        [-2.9914e-02, -6.7788e-02, -5.6892e-02]],\n",
       "              \n",
       "                       [[ 5.5572e-02,  6.1010e-02, -5.1772e-02],\n",
       "                        [ 1.6164e-02, -3.8392e-02,  6.9747e-02],\n",
       "                        [ 4.5504e-02,  2.9636e-02, -6.0769e-02]],\n",
       "              \n",
       "                       [[-3.6662e-02, -1.5664e-02, -6.6639e-02],\n",
       "                        [-4.3560e-02,  1.9624e-02, -6.0678e-02],\n",
       "                        [ 1.9832e-02, -1.7033e-03, -6.1380e-03]],\n",
       "              \n",
       "                       ...,\n",
       "              \n",
       "                       [[-1.8653e-02,  3.9705e-02,  4.1531e-02],\n",
       "                        [ 6.6592e-02,  5.3398e-02, -6.1561e-02],\n",
       "                        [-6.1578e-02, -6.1854e-02,  4.6835e-02]],\n",
       "              \n",
       "                       [[-3.7850e-02,  4.1172e-02, -1.1098e-02],\n",
       "                        [-3.0713e-02,  5.6087e-02, -1.4396e-02],\n",
       "                        [-4.0225e-02, -1.1423e-02, -4.7405e-02]],\n",
       "              \n",
       "                       [[-7.1769e-02, -1.3059e-02, -4.1964e-03],\n",
       "                        [-4.2483e-02,  6.6061e-02, -1.6652e-02],\n",
       "                        [-1.8933e-02,  5.9069e-02,  8.2942e-03]]],\n",
       "              \n",
       "              \n",
       "                      ...,\n",
       "              \n",
       "              \n",
       "                      [[[ 4.9050e-02,  3.2599e-02, -3.4628e-03],\n",
       "                        [ 4.0768e-02, -3.7922e-03, -1.2671e-02],\n",
       "                        [-2.9053e-02, -6.0805e-02,  6.2262e-02]],\n",
       "              \n",
       "                       [[-4.7233e-02, -7.1055e-02, -3.3432e-02],\n",
       "                        [ 1.5056e-02, -6.7641e-03,  3.3931e-02],\n",
       "                        [ 4.2704e-02,  4.3835e-02, -6.2537e-02]],\n",
       "              \n",
       "                       [[ 3.0388e-02,  3.6895e-02, -4.1349e-02],\n",
       "                        [ 3.6104e-04,  1.1172e-02,  9.3464e-03],\n",
       "                        [ 3.9997e-02,  6.3281e-02,  7.1589e-02]],\n",
       "              \n",
       "                       ...,\n",
       "              \n",
       "                       [[ 1.0923e-02,  8.5464e-03,  5.6713e-02],\n",
       "                        [ 4.1910e-03,  1.2704e-02,  2.6504e-02],\n",
       "                        [-2.1072e-02, -3.7140e-02, -7.0114e-02]],\n",
       "              \n",
       "                       [[-7.2594e-02,  4.9011e-03, -3.5247e-02],\n",
       "                        [ 2.0634e-02,  1.8524e-02,  5.8132e-02],\n",
       "                        [-9.0992e-03, -3.1519e-04,  5.1443e-02]],\n",
       "              \n",
       "                       [[ 1.2640e-02,  3.4114e-02, -4.0249e-02],\n",
       "                        [-5.3873e-02,  5.6825e-02,  5.3132e-02],\n",
       "                        [-2.8222e-02,  1.2382e-02, -6.6288e-02]]],\n",
       "              \n",
       "              \n",
       "                      [[[ 5.2163e-03, -6.9201e-02,  4.2128e-02],\n",
       "                        [-7.3876e-02, -1.7980e-02,  6.9542e-02],\n",
       "                        [-2.5251e-02, -4.3204e-02,  6.7239e-02]],\n",
       "              \n",
       "                       [[-3.7702e-02,  1.6439e-02,  4.1656e-02],\n",
       "                        [ 2.0026e-02, -5.1495e-02,  6.7647e-02],\n",
       "                        [ 3.5742e-02, -4.6871e-02, -4.2540e-02]],\n",
       "              \n",
       "                       [[-1.7191e-02,  2.4867e-02,  2.8183e-02],\n",
       "                        [ 9.5973e-03,  4.8881e-02,  7.4148e-02],\n",
       "                        [ 1.5334e-02,  2.9195e-02,  4.2388e-02]],\n",
       "              \n",
       "                       ...,\n",
       "              \n",
       "                       [[-2.8596e-02,  4.5035e-02, -3.4890e-02],\n",
       "                        [ 2.9972e-02,  4.7882e-02, -5.8466e-02],\n",
       "                        [-6.6041e-02, -4.2034e-02,  3.5765e-02]],\n",
       "              \n",
       "                       [[-4.1113e-02,  7.0457e-03,  1.1254e-02],\n",
       "                        [ 1.5648e-02, -3.8008e-02,  2.6062e-03],\n",
       "                        [ 5.1649e-02,  3.8637e-02,  1.4239e-02]],\n",
       "              \n",
       "                       [[-5.9276e-02,  3.5067e-02, -2.9679e-02],\n",
       "                        [ 5.2164e-02,  3.0956e-02, -1.3681e-02],\n",
       "                        [ 2.8813e-02, -3.0995e-02,  1.2865e-02]]],\n",
       "              \n",
       "              \n",
       "                      [[[-3.7191e-03,  1.1828e-03,  2.6245e-02],\n",
       "                        [ 7.2588e-02, -3.2899e-02,  7.2786e-02],\n",
       "                        [-1.3678e-02,  7.0891e-02,  1.6773e-02]],\n",
       "              \n",
       "                       [[ 6.0782e-03, -2.4927e-02, -3.9277e-02],\n",
       "                        [-7.3299e-02, -4.0685e-02, -6.6734e-03],\n",
       "                        [ 6.2705e-02,  4.0335e-02,  1.2996e-02]],\n",
       "              \n",
       "                       [[-7.2137e-02,  5.2511e-02,  5.1316e-02],\n",
       "                        [-3.3506e-02,  3.0189e-02, -6.2102e-02],\n",
       "                        [-3.7684e-02, -2.2493e-02, -6.7584e-02]],\n",
       "              \n",
       "                       ...,\n",
       "              \n",
       "                       [[-6.9490e-02,  2.0767e-02, -5.5756e-04],\n",
       "                        [-6.3272e-02, -4.1795e-02,  4.1780e-02],\n",
       "                        [ 4.7516e-02, -5.6532e-02, -3.3323e-02]],\n",
       "              \n",
       "                       [[ 4.3346e-04, -9.5144e-05, -5.4897e-02],\n",
       "                        [ 5.5122e-02, -5.2045e-02,  5.3026e-02],\n",
       "                        [-4.6102e-02, -7.4056e-02,  1.8571e-02]],\n",
       "              \n",
       "                       [[-3.5656e-02,  5.0248e-02, -2.4712e-02],\n",
       "                        [ 7.1170e-03,  5.5482e-02, -4.8408e-02],\n",
       "                        [-3.0687e-02,  5.0750e-02,  6.2874e-02]]]], device='cuda:0')),\n",
       "             ('cnn_block_2.2.bias',\n",
       "              tensor([ 0.0130,  0.0573,  0.0451,  0.0421, -0.0029,  0.0720, -0.0237,  0.0051,\n",
       "                      -0.0225, -0.0056,  0.0448,  0.0565,  0.0111,  0.0490,  0.0522,  0.0362,\n",
       "                      -0.0203,  0.0435,  0.0626,  0.0617], device='cuda:0')),\n",
       "             ('classifier.1.weight',\n",
       "              tensor([[ 0.0083,  0.0236, -0.0221,  ...,  0.0092,  0.0259,  0.0149],\n",
       "                      [-0.0317, -0.0316, -0.0038,  ..., -0.0121,  0.0251, -0.0108],\n",
       "                      [-0.0066,  0.0256, -0.0058,  ..., -0.0233, -0.0252,  0.0002],\n",
       "                      ...,\n",
       "                      [ 0.0151, -0.0217,  0.0315,  ...,  0.0086,  0.0055,  0.0272],\n",
       "                      [ 0.0209, -0.0181, -0.0116,  ...,  0.0280,  0.0191, -0.0104],\n",
       "                      [-0.0142,  0.0270,  0.0190,  ..., -0.0092, -0.0026,  0.0278]],\n",
       "                     device='cuda:0')),\n",
       "             ('classifier.1.bias',\n",
       "              tensor([-0.0253,  0.0127, -0.0173,  0.0216, -0.0131,  0.0071,  0.0202, -0.0042,\n",
       "                      -0.0051,  0.0288], device='cuda:0'))])"
      ]
     },
     "execution_count": 45,
     "metadata": {},
     "output_type": "execute_result"
    }
   ],
   "source": [
    "model_2.state_dict()"
   ]
  },
  {
   "cell_type": "code",
   "execution_count": 46,
   "id": "b5512d9d-6882-4639-b663-457e78f7ffdd",
   "metadata": {},
   "outputs": [],
   "source": [
    "loss_fn = nn.CrossEntropyLoss()\n",
    "optimizer = torch.optim.SGD(params=model_2.parameters(),lr = 0.01)"
   ]
  },
  {
   "cell_type": "code",
   "execution_count": 47,
   "id": "f113592c-3581-4b26-923a-fda0979de9e6",
   "metadata": {},
   "outputs": [
    {
     "data": {
      "application/vnd.jupyter.widget-view+json": {
       "model_id": "b82761fc63fd46cb9d4c281bf2bf190c",
       "version_major": 2,
       "version_minor": 0
      },
      "text/plain": [
       "  0%|          | 0/10 [00:00<?, ?it/s]"
      ]
     },
     "metadata": {},
     "output_type": "display_data"
    },
    {
     "name": "stdout",
     "output_type": "stream",
     "text": [
      "Epoch: 0\n",
      "-----\n",
      "Train loss: 0.80543 | train accuracy 70.94%\n",
      "test loss: 0.43680 | test accuracy 84.78%\n",
      "Epoch: 1\n",
      "-----\n",
      "Train loss: 0.40166 | train accuracy 85.41%\n",
      "test loss: 0.37570 | test accuracy 86.36%\n",
      "Epoch: 2\n",
      "-----\n",
      "Train loss: 0.34966 | train accuracy 87.37%\n",
      "test loss: 0.34517 | test accuracy 87.63%\n",
      "Epoch: 3\n",
      "-----\n",
      "Train loss: 0.32161 | train accuracy 88.38%\n",
      "test loss: 0.33433 | test accuracy 87.97%\n",
      "Epoch: 4\n",
      "-----\n",
      "Train loss: 0.30216 | train accuracy 89.17%\n",
      "test loss: 0.32057 | test accuracy 88.81%\n",
      "Epoch: 5\n",
      "-----\n",
      "Train loss: 0.28765 | train accuracy 89.67%\n",
      "test loss: 0.31734 | test accuracy 88.84%\n",
      "Epoch: 6\n",
      "-----\n",
      "Train loss: 0.27594 | train accuracy 90.19%\n",
      "test loss: 0.30056 | test accuracy 89.52%\n",
      "Epoch: 7\n",
      "-----\n",
      "Train loss: 0.26734 | train accuracy 90.38%\n",
      "test loss: 0.29095 | test accuracy 89.61%\n",
      "Epoch: 8\n",
      "-----\n",
      "Train loss: 0.25753 | train accuracy 90.77%\n",
      "test loss: 0.29329 | test accuracy 89.73%\n",
      "Epoch: 9\n",
      "-----\n",
      "Train loss: 0.25037 | train accuracy 90.87%\n",
      "test loss: 0.29713 | test accuracy 89.25%\n",
      "Train time on cuda: 147.609 seconds\n"
     ]
    }
   ],
   "source": [
    "torch.manual_seed(42)\n",
    "\n",
    "# measuring time\n",
    "\n",
    "from timeit import default_timer as timer\n",
    "train_time_start_model_2 = timer()\n",
    "\n",
    "epochs = 10\n",
    "\n",
    "for epoch in tqdm(range(epochs)):\n",
    "    print(f'Epoch: {epoch}\\n-----')\n",
    "    train_step_func(model = model_2,\n",
    "                    data_loader = train_dataloader,\n",
    "                    loss_fn = loss_fn,\n",
    "                    optimizer = optimizer,\n",
    "                    accuracy_fn = accuracy_fn,\n",
    "                    device = device)\n",
    "    \n",
    "    test_step_func(model = model_2,\n",
    "                    data_loader = test_dataloader,\n",
    "                    loss_fn = loss_fn,\n",
    "                    accuracy_fn = accuracy_fn,\n",
    "                    device = device)\n",
    "    \n",
    "train_time_end_model_2 = timer()\n",
    "total_train_time_model_2 = print_train_time(start=train_time_start_model_2,\n",
    "                                            end = train_time_end_model_2,\n",
    "                                            device = device)"
   ]
  },
  {
   "cell_type": "code",
   "execution_count": 48,
   "id": "c91b80b5-999f-45dc-921c-1e229b17ca82",
   "metadata": {},
   "outputs": [
    {
     "data": {
      "application/vnd.jupyter.widget-view+json": {
       "model_id": "5ac9623fc73e400594ee90129d63e58a",
       "version_major": 2,
       "version_minor": 0
      },
      "text/plain": [
       "  0%|          | 0/625 [00:00<?, ?it/s]"
      ]
     },
     "metadata": {},
     "output_type": "display_data"
    },
    {
     "data": {
      "text/plain": [
       "{'model_name': 'FashionMNISTV2',\n",
       " 'model_loss': 0.29713037610054016,\n",
       " 'model_acc': 89.25}"
      ]
     },
     "execution_count": 48,
     "metadata": {},
     "output_type": "execute_result"
    }
   ],
   "source": [
    "model_2_results = eval_model(model = model_2,\n",
    "                             data_loader = test_dataloader,\n",
    "                             loss_fn = loss_fn,\n",
    "                             accuracy_fn = accuracy_fn,\n",
    "                             device = device)\n",
    "model_2_results"
   ]
  },
  {
   "cell_type": "code",
   "execution_count": 49,
   "id": "e147e021-3627-48c0-9535-1113869a537c",
   "metadata": {},
   "outputs": [
    {
     "data": {
      "text/plain": [
       "{'model_name': 'FashionMNISTV0',\n",
       " 'model_loss': 0.4539719223976135,\n",
       " 'model_acc': 84.17}"
      ]
     },
     "execution_count": 49,
     "metadata": {},
     "output_type": "execute_result"
    }
   ],
   "source": [
    "model_0_results"
   ]
  },
  {
   "cell_type": "code",
   "execution_count": 50,
   "id": "a9b0dee6-3517-49dd-bb46-ababd49217c1",
   "metadata": {},
   "outputs": [
    {
     "data": {
      "text/plain": [
       "{'model_name': 'FashionMNISTV1',\n",
       " 'model_loss': 0.8687295913696289,\n",
       " 'model_acc': 67.67}"
      ]
     },
     "execution_count": 50,
     "metadata": {},
     "output_type": "execute_result"
    }
   ],
   "source": [
    "model_1_results"
   ]
  },
  {
   "cell_type": "code",
   "execution_count": 51,
   "id": "5eaa003c-0cf8-4314-a053-b140c7b173f2",
   "metadata": {},
   "outputs": [
    {
     "data": {
      "text/html": [
       "<div>\n",
       "<style scoped>\n",
       "    .dataframe tbody tr th:only-of-type {\n",
       "        vertical-align: middle;\n",
       "    }\n",
       "\n",
       "    .dataframe tbody tr th {\n",
       "        vertical-align: top;\n",
       "    }\n",
       "\n",
       "    .dataframe thead th {\n",
       "        text-align: right;\n",
       "    }\n",
       "</style>\n",
       "<table border=\"1\" class=\"dataframe\">\n",
       "  <thead>\n",
       "    <tr style=\"text-align: right;\">\n",
       "      <th></th>\n",
       "      <th>model_name</th>\n",
       "      <th>model_loss</th>\n",
       "      <th>model_acc</th>\n",
       "    </tr>\n",
       "  </thead>\n",
       "  <tbody>\n",
       "    <tr>\n",
       "      <th>0</th>\n",
       "      <td>FashionMNISTV0</td>\n",
       "      <td>0.453972</td>\n",
       "      <td>84.17</td>\n",
       "    </tr>\n",
       "    <tr>\n",
       "      <th>1</th>\n",
       "      <td>FashionMNISTV1</td>\n",
       "      <td>0.868730</td>\n",
       "      <td>67.67</td>\n",
       "    </tr>\n",
       "    <tr>\n",
       "      <th>2</th>\n",
       "      <td>FashionMNISTV2</td>\n",
       "      <td>0.297130</td>\n",
       "      <td>89.25</td>\n",
       "    </tr>\n",
       "  </tbody>\n",
       "</table>\n",
       "</div>"
      ],
      "text/plain": [
       "       model_name  model_loss  model_acc\n",
       "0  FashionMNISTV0    0.453972      84.17\n",
       "1  FashionMNISTV1    0.868730      67.67\n",
       "2  FashionMNISTV2    0.297130      89.25"
      ]
     },
     "execution_count": 51,
     "metadata": {},
     "output_type": "execute_result"
    }
   ],
   "source": [
    "import pandas as pd\n",
    "compare_results = pd.DataFrame([model_0_results,model_1_results,model_2_results])\n",
    "compare_results"
   ]
  },
  {
   "cell_type": "code",
   "execution_count": 52,
   "id": "3f3d7dde-2833-4f1d-a24a-850fb0caa36a",
   "metadata": {},
   "outputs": [],
   "source": [
    "compare_results['training_time'] = [total_train_time_model_0,\n",
    "                                    total_train_time_model_1,\n",
    "                                    total_train_time_model_2]"
   ]
  },
  {
   "cell_type": "code",
   "execution_count": 53,
   "id": "d74026f8-9773-4ee4-b051-66d267f36070",
   "metadata": {},
   "outputs": [
    {
     "data": {
      "text/html": [
       "<div>\n",
       "<style scoped>\n",
       "    .dataframe tbody tr th:only-of-type {\n",
       "        vertical-align: middle;\n",
       "    }\n",
       "\n",
       "    .dataframe tbody tr th {\n",
       "        vertical-align: top;\n",
       "    }\n",
       "\n",
       "    .dataframe thead th {\n",
       "        text-align: right;\n",
       "    }\n",
       "</style>\n",
       "<table border=\"1\" class=\"dataframe\">\n",
       "  <thead>\n",
       "    <tr style=\"text-align: right;\">\n",
       "      <th></th>\n",
       "      <th>model_name</th>\n",
       "      <th>model_loss</th>\n",
       "      <th>model_acc</th>\n",
       "      <th>training_time</th>\n",
       "    </tr>\n",
       "  </thead>\n",
       "  <tbody>\n",
       "    <tr>\n",
       "      <th>0</th>\n",
       "      <td>FashionMNISTV0</td>\n",
       "      <td>0.453972</td>\n",
       "      <td>84.17</td>\n",
       "      <td>64.331299</td>\n",
       "    </tr>\n",
       "    <tr>\n",
       "      <th>1</th>\n",
       "      <td>FashionMNISTV1</td>\n",
       "      <td>0.868730</td>\n",
       "      <td>67.67</td>\n",
       "      <td>105.217639</td>\n",
       "    </tr>\n",
       "    <tr>\n",
       "      <th>2</th>\n",
       "      <td>FashionMNISTV2</td>\n",
       "      <td>0.297130</td>\n",
       "      <td>89.25</td>\n",
       "      <td>147.608901</td>\n",
       "    </tr>\n",
       "  </tbody>\n",
       "</table>\n",
       "</div>"
      ],
      "text/plain": [
       "       model_name  model_loss  model_acc  training_time\n",
       "0  FashionMNISTV0    0.453972      84.17      64.331299\n",
       "1  FashionMNISTV1    0.868730      67.67     105.217639\n",
       "2  FashionMNISTV2    0.297130      89.25     147.608901"
      ]
     },
     "execution_count": 53,
     "metadata": {},
     "output_type": "execute_result"
    }
   ],
   "source": [
    "compare_results"
   ]
  },
  {
   "cell_type": "code",
   "execution_count": 54,
   "id": "5f0ecc5d-1338-4328-be75-b7e99664ab95",
   "metadata": {},
   "outputs": [
    {
     "data": {
      "image/png": "[encoded data removed]",
      "text/plain": [
       "<Figure size 640x480 with 1 Axes>"
      ]
     },
     "metadata": {},
     "output_type": "display_data"
    }
   ],
   "source": [
    "# Visualize our model results\n",
    "compare_results.set_index(\"model_name\")[\"model_acc\"].plot(kind=\"barh\")\n",
    "plt.xlabel(\"accuracy (%)\")\n",
    "plt.ylabel(\"model\");"
   ]
  },
  {
   "cell_type": "code",
   "execution_count": 55,
   "id": "1b4b45c9-c7c3-46f6-8b3e-afe73a5e8c77",
   "metadata": {},
   "outputs": [],
   "source": [
    "def make_predictions(model: torch.nn.Module,\n",
    "                     data : list,\n",
    "                     device: torch.device = device):\n",
    "    pred_probs = []\n",
    "    model.to(device)\n",
    "    model.eval()\n",
    "    with torch.inference_mode():\n",
    "        for sample in data:\n",
    "            sample = torch.unsqueeze(sample,dim =0).to(device)\n",
    "            pred_logit = model(sample)\n",
    "            pred_prob = torch.softmax(pred_logit.squeeze(),dim = 0)\n",
    "            pred_probs.append(pred_prob.cpu())\n",
    "    return torch.stack(pred_probs)"
   ]
  },
  {
   "cell_type": "code",
   "execution_count": 56,
   "id": "0b858b42-0890-4aa3-ab65-abd9619bc168",
   "metadata": {},
   "outputs": [
    {
     "data": {
      "text/plain": [
       "torch.Size([1, 28, 28])"
      ]
     },
     "execution_count": 56,
     "metadata": {},
     "output_type": "execute_result"
    }
   ],
   "source": [
    "import random\n",
    "random.seed(42)\n",
    "test_samples = []\n",
    "test_labels = []\n",
    "for sample,label  in random.sample(list(test_data),k=9):\n",
    "    test_samples.append(sample)\n",
    "    test_labels.append(label)\n",
    "    \n",
    "test_samples[0].shape"
   ]
  },
  {
   "cell_type": "code",
   "execution_count": 57,
   "id": "ceaa6730-97cb-4f13-95bb-8e589874c60e",
   "metadata": {},
   "outputs": [
    {
     "data": {
      "image/png": "[encoded data removed]",
      "text/plain": [
       "<Figure size 640x480 with 1 Axes>"
      ]
     },
     "metadata": {},
     "output_type": "display_data"
    }
   ],
   "source": [
    "plt.imshow(test_samples[0].squeeze(),cmap = 'gray')\n",
    "plt.title(class_names[test_labels[0]])\n",
    "plt.show()"
   ]
  },
  {
   "cell_type": "code",
   "execution_count": 58,
   "id": "e34d6e2a-2911-41ca-88e5-331d8aa8f0fe",
   "metadata": {},
   "outputs": [
    {
     "data": {
      "text/plain": [
       "tensor([[1.9896e-09, 2.2324e-11, 2.9961e-10, 9.5356e-11, 1.1161e-08, 9.9958e-01,\n",
       "         3.3293e-07, 1.6776e-08, 3.9847e-06, 4.1725e-04],\n",
       "        [9.5746e-03, 9.7512e-01, 6.7180e-05, 1.1712e-02, 9.2274e-04, 1.1527e-05,\n",
       "         2.5192e-03, 1.6003e-05, 4.7649e-05, 7.2656e-06]])"
      ]
     },
     "execution_count": 58,
     "metadata": {},
     "output_type": "execute_result"
    }
   ],
   "source": [
    "pred_probs = make_predictions(model = model_2,\n",
    "                              data = test_samples)\n",
    "\n",
    "pred_probs[:2]"
   ]
  },
  {
   "cell_type": "code",
   "execution_count": 59,
   "id": "5710ab6f-345f-44b3-9485-6c3824445e59",
   "metadata": {},
   "outputs": [
    {
     "data": {
      "text/plain": [
       "tensor([5, 1, 7, 4, 3, 6, 4, 7, 1])"
      ]
     },
     "execution_count": 59,
     "metadata": {},
     "output_type": "execute_result"
    }
   ],
   "source": [
    "pred_classes = pred_probs.argmax(dim = 1)\n",
    "pred_classes"
   ]
  },
  {
   "cell_type": "code",
   "execution_count": 60,
   "id": "277fd313-cc45-44eb-bed7-bcb05cb6962d",
   "metadata": {},
   "outputs": [
    {
     "data": {
      "text/plain": [
       "[5, 1, 7, 4, 3, 0, 4, 7, 1]"
      ]
     },
     "execution_count": 60,
     "metadata": {},
     "output_type": "execute_result"
    }
   ],
   "source": [
    "test_labels"
   ]
  },
  {
   "cell_type": "code",
   "execution_count": 61,
   "id": "0a195321-9819-4fd8-8bc2-df53abdf10ff",
   "metadata": {},
   "outputs": [
    {
     "data": {
      "image/png": "[encoded data removed]",
      "text/plain": [
       "<Figure size 900x900 with 9 Axes>"
      ]
     },
     "metadata": {},
     "output_type": "display_data"
    }
   ],
   "source": [
    "plt.figure(figsize=(9,9))\n",
    "nrows = 3\n",
    "ncols = 3\n",
    "for i ,sample in enumerate(test_samples):\n",
    "    plt.subplot(nrows,ncols,i+1)\n",
    "    plt.imshow(sample.squeeze(),cmap = 'gray')\n",
    "    pred_label = class_names[pred_classes[i]]\n",
    "    truth_label = class_names[test_labels[i]]\n",
    "    title_text = f'pred:{pred_label} | Truth: {truth_label}'\n",
    "    if pred_label == truth_label:\n",
    "        plt.title(title_text,fontsize = 10, c = 'g')\n",
    "    else:\n",
    "        plt.title(title_text,fontsize = 10, c = 'r')\n",
    "        \n",
    "    plt.axis(False);"
   ]
  },
  {
   "cell_type": "code",
   "execution_count": 62,
   "id": "7393abd9-6c98-49b5-ba7f-d923f3847709",
   "metadata": {
    "tags": []
   },
   "outputs": [
    {
     "data": {
      "application/vnd.jupyter.widget-view+json": {
       "model_id": "281cec1cc6184cef8bb6ece7e8006f30",
       "version_major": 2,
       "version_minor": 0
      },
      "text/plain": [
       "Making predictions:   0%|          | 0/625 [00:00<?, ?it/s]"
      ]
     },
     "metadata": {},
     "output_type": "display_data"
    },
    {
     "data": {
      "text/plain": [
       "tensor([9, 2, 1, 1, 0, 0, 4, 6, 5, 7])"
      ]
     },
     "execution_count": 62,
     "metadata": {},
     "output_type": "execute_result"
    }
   ],
   "source": [
    "from tqdm.auto import tqdm\n",
    "\n",
    "y_preds = []\n",
    "model_2.eval()\n",
    "with torch.inference_mode():\n",
    "    for X,y in tqdm(test_dataloader,desc = 'Making predictions'):\n",
    "        X,y = X.to(device),y.to(device)\n",
    "        y_logit = model_2(X)\n",
    "        y_pred = torch.softmax(y_logit.squeeze(),dim = 0).argmax(dim=1)\n",
    "        y_preds.append(y_pred.cpu())\n",
    "        \n",
    "\n",
    "y_pred_tensor = torch.cat(y_preds)\n",
    "y_pred_tensor[:10]"
   ]
  },
  {
   "cell_type": "code",
   "execution_count": 63,
   "id": "76de04f0-302e-477e-b573-741c67cb954c",
   "metadata": {},
   "outputs": [
    {
     "data": {
      "text/plain": [
       "10000"
      ]
     },
     "execution_count": 63,
     "metadata": {},
     "output_type": "execute_result"
    }
   ],
   "source": [
    "len(y_pred_tensor)"
   ]
  },
  {
   "cell_type": "code",
   "execution_count": 65,
   "id": "20164d8e-8e4f-478a-b781-8d76b8febdbc",
   "metadata": {},
   "outputs": [
    {
     "name": "stdout",
     "output_type": "stream",
     "text": [
      "Collecting torchmetrics\n",
      "  Downloading torchmetrics-0.11.1-py3-none-any.whl (517 kB)\n",
      "     -------------------------------------- 517.2/517.2 kB 4.6 MB/s eta 0:00:00\n",
      "Collecting mlxtend\n",
      "  Downloading mlxtend-0.21.0-py2.py3-none-any.whl (1.3 MB)\n",
      "     ---------------------------------------- 1.3/1.3 MB 4.5 MB/s eta 0:00:00\n",
      "Requirement already satisfied: packaging in c:\\users\\prash\\anaconda3\\envs\\pytorch\\lib\\site-packages (from torchmetrics) (22.0)\n",
      "Requirement already satisfied: torch>=1.8.1 in c:\\users\\prash\\anaconda3\\envs\\pytorch\\lib\\site-packages (from torchmetrics) (1.13.1+cu117)\n",
      "Requirement already satisfied: numpy>=1.17.2 in c:\\users\\prash\\anaconda3\\envs\\pytorch\\lib\\site-packages (from torchmetrics) (1.24.1)\n",
      "Requirement already satisfied: scikit-learn>=1.0.2 in c:\\users\\prash\\anaconda3\\envs\\pytorch\\lib\\site-packages (from mlxtend) (1.2.1)\n",
      "Requirement already satisfied: pandas>=0.24.2 in c:\\users\\prash\\anaconda3\\envs\\pytorch\\lib\\site-packages (from mlxtend) (1.5.2)\n",
      "Requirement already satisfied: joblib>=0.13.2 in c:\\users\\prash\\anaconda3\\envs\\pytorch\\lib\\site-packages (from mlxtend) (1.2.0)\n",
      "Requirement already satisfied: scipy>=1.2.1 in c:\\users\\prash\\anaconda3\\envs\\pytorch\\lib\\site-packages (from mlxtend) (1.10.0)\n",
      "Requirement already satisfied: matplotlib>=3.0.0 in c:\\users\\prash\\anaconda3\\envs\\pytorch\\lib\\site-packages (from mlxtend) (3.6.2)\n",
      "Requirement already satisfied: setuptools in c:\\users\\prash\\anaconda3\\envs\\pytorch\\lib\\site-packages (from mlxtend) (66.0.0)\n",
      "Requirement already satisfied: pyparsing>=2.2.1 in c:\\users\\prash\\anaconda3\\envs\\pytorch\\lib\\site-packages (from matplotlib>=3.0.0->mlxtend) (3.0.9)\n",
      "Requirement already satisfied: contourpy>=1.0.1 in c:\\users\\prash\\anaconda3\\envs\\pytorch\\lib\\site-packages (from matplotlib>=3.0.0->mlxtend) (1.0.6)\n",
      "Requirement already satisfied: pillow>=6.2.0 in c:\\users\\prash\\anaconda3\\envs\\pytorch\\lib\\site-packages (from matplotlib>=3.0.0->mlxtend) (9.4.0)\n",
      "Requirement already satisfied: python-dateutil>=2.7 in c:\\users\\prash\\anaconda3\\envs\\pytorch\\lib\\site-packages (from matplotlib>=3.0.0->mlxtend) (2.8.2)\n",
      "Requirement already satisfied: cycler>=0.10 in c:\\users\\prash\\anaconda3\\envs\\pytorch\\lib\\site-packages (from matplotlib>=3.0.0->mlxtend) (0.11.0)\n",
      "Requirement already satisfied: kiwisolver>=1.0.1 in c:\\users\\prash\\anaconda3\\envs\\pytorch\\lib\\site-packages (from matplotlib>=3.0.0->mlxtend) (1.4.4)\n",
      "Requirement already satisfied: fonttools>=4.22.0 in c:\\users\\prash\\anaconda3\\envs\\pytorch\\lib\\site-packages (from matplotlib>=3.0.0->mlxtend) (4.38.0)\n",
      "Requirement already satisfied: pytz>=2020.1 in c:\\users\\prash\\anaconda3\\envs\\pytorch\\lib\\site-packages (from pandas>=0.24.2->mlxtend) (2022.7)\n",
      "Requirement already satisfied: threadpoolctl>=2.0.0 in c:\\users\\prash\\anaconda3\\envs\\pytorch\\lib\\site-packages (from scikit-learn>=1.0.2->mlxtend) (3.1.0)\n",
      "Requirement already satisfied: typing-extensions in c:\\users\\prash\\anaconda3\\envs\\pytorch\\lib\\site-packages (from torch>=1.8.1->torchmetrics) (4.4.0)\n",
      "Requirement already satisfied: six>=1.5 in c:\\users\\prash\\anaconda3\\envs\\pytorch\\lib\\site-packages (from python-dateutil>=2.7->matplotlib>=3.0.0->mlxtend) (1.16.0)\n",
      "Installing collected packages: torchmetrics, mlxtend\n",
      "Successfully installed mlxtend-0.21.0 torchmetrics-0.11.1\n"
     ]
    }
   ],
   "source": [
    "try:\n",
    "    import torchmetrics,mlxtend\n",
    "    print(f'mlxtend version: {mlxtend.__version__}')\n",
    "    assert int(mlxtend.__version__.split(\".\")[1]) >= 19, 'mlxtend version should br 0.19.0 or higher'\n",
    "except:\n",
    "    !pip install torchmetrics -U mlxtend\n",
    "    import torchmetrics,mlxtend"
   ]
  },
  {
   "cell_type": "code",
   "execution_count": 66,
   "id": "8764e3a2-8783-4baf-8bb2-984e71869662",
   "metadata": {},
   "outputs": [
    {
     "name": "stdout",
     "output_type": "stream",
     "text": [
      "0.21.0\n"
     ]
    }
   ],
   "source": [
    "import mlxtend\n",
    "print(mlxtend.__version__)"
   ]
  },
  {
   "cell_type": "code",
   "execution_count": 70,
   "id": "bb835eae-b357-4c5f-9296-e2944e7b4068",
   "metadata": {},
   "outputs": [
    {
     "data": {
      "image/png": "[encoded data removed]",
      "text/plain": [
       "<Figure size 1000x800 with 1 Axes>"
      ]
     },
     "metadata": {},
     "output_type": "display_data"
    }
   ],
   "source": [
    "from torchmetrics import ConfusionMatrix\n",
    "from mlxtend.plotting import plot_confusion_matrix\n",
    "\n",
    "con_mat =ConfusionMatrix(num_classes = len(class_names),task='multiclass')\n",
    "con_mat_tensor = con_mat(preds = y_pred_tensor,\n",
    "                         target = test_data.targets)\n",
    "fig,ax = plot_confusion_matrix(\n",
    "    conf_mat = con_mat_tensor.numpy(),\n",
    "    class_names = class_names,\n",
    "    figsize = (10,8)\n",
    ")"
   ]
  },
  {
   "cell_type": "code",
   "execution_count": 77,
   "id": "21e3c5d7-e844-4cab-95e9-ad8bc4a67423",
   "metadata": {},
   "outputs": [
    {
     "name": "stdout",
     "output_type": "stream",
     "text": [
      "saving model to:C:\\Users\\prash\\PyTorch\\models\\PyTorch_computer_vision_model_2.pt\n"
     ]
    }
   ],
   "source": [
    "# saving a model\n",
    "import os\n",
    "from pathlib import Path\n",
    "\n",
    "model_path = Path('C:/Users/prash/PyTorch/models')\n",
    "\n",
    "model_name = 'PyTorch_computer_vision_model_2.pt'\n",
    "model_save_path = model_path/ model_name\n",
    "\n",
    "model_save_path\n",
    "\n",
    "print(f'saving model to:{model_save_path}')\n",
    "torch.save(model_2.state_dict(), model_save_path)"
   ]
  },
  {
   "cell_type": "code",
   "execution_count": 78,
   "id": "7a67a627-af5c-4578-9ce5-404a4a984610",
   "metadata": {},
   "outputs": [
    {
     "data": {
      "text/plain": [
       "FashionMNISTV2(\n",
       "  (cnn_block_1): Sequential(\n",
       "    (0): Conv2d(1, 20, kernel_size=(3, 3), stride=(1, 1), padding=(1, 1))\n",
       "    (1): ReLU()\n",
       "    (2): Conv2d(20, 20, kernel_size=(3, 3), stride=(1, 1), padding=(1, 1))\n",
       "    (3): ReLU()\n",
       "    (4): MaxPool2d(kernel_size=2, stride=2, padding=0, dilation=1, ceil_mode=False)\n",
       "  )\n",
       "  (cnn_block_2): Sequential(\n",
       "    (0): Conv2d(20, 20, kernel_size=(3, 3), stride=(1, 1), padding=(1, 1))\n",
       "    (1): ReLU()\n",
       "    (2): Conv2d(20, 20, kernel_size=(3, 3), stride=(1, 1), padding=(1, 1))\n",
       "    (3): ReLU()\n",
       "    (4): MaxPool2d(kernel_size=2, stride=2, padding=0, dilation=1, ceil_mode=False)\n",
       "  )\n",
       "  (classifier): Sequential(\n",
       "    (0): Flatten(start_dim=1, end_dim=-1)\n",
       "    (1): Linear(in_features=980, out_features=10, bias=True)\n",
       "  )\n",
       ")"
      ]
     },
     "execution_count": 78,
     "metadata": {},
     "output_type": "execute_result"
    }
   ],
   "source": [
    "torch.manual_seed(42)\n",
    "loaded_model_2 = FashionMNISTV2(input_shape = 1,\n",
    "                         hidden_units = 20,\n",
    "                         output_shape = len(class_names))\n",
    "loaded_model_2.load_state_dict(torch.load(f=model_save_path))\n",
    "loaded_model_2.to(device)"
   ]
  },
  {
   "cell_type": "code",
   "execution_count": 79,
   "id": "93c5e67d-6e56-46b2-8fd9-7007bfacb22b",
   "metadata": {},
   "outputs": [
    {
     "data": {
      "text/plain": [
       "{'model_name': 'FashionMNISTV2',\n",
       " 'model_loss': 0.29713037610054016,\n",
       " 'model_acc': 89.25}"
      ]
     },
     "execution_count": 79,
     "metadata": {},
     "output_type": "execute_result"
    }
   ],
   "source": [
    "model_2_results"
   ]
  },
  {
   "cell_type": "code",
   "execution_count": 81,
   "id": "6f5f06dc-3b8c-4f59-acda-2f589b536810",
   "metadata": {},
   "outputs": [
    {
     "data": {
      "application/vnd.jupyter.widget-view+json": {
       "model_id": "b230951568f148f595906ee3317dcc0a",
       "version_major": 2,
       "version_minor": 0
      },
      "text/plain": [
       "  0%|          | 0/625 [00:00<?, ?it/s]"
      ]
     },
     "metadata": {},
     "output_type": "display_data"
    },
    {
     "data": {
      "text/plain": [
       "{'model_name': 'FashionMNISTV2',\n",
       " 'model_loss': 0.29713037610054016,\n",
       " 'model_acc': 89.25}"
      ]
     },
     "execution_count": 81,
     "metadata": {},
     "output_type": "execute_result"
    }
   ],
   "source": [
    "torch.manual_seed(42)\n",
    "\n",
    "loaded_model_2_results = eval_model(\n",
    "    model = loaded_model_2,\n",
    "    data_loader = test_dataloader,\n",
    "    loss_fn = loss_fn,\n",
    "    accuracy_fn = accuracy_fn\n",
    ")\n",
    "\n",
    "loaded_model_2_results"
   ]
  },
  {
   "cell_type": "code",
   "execution_count": null,
   "id": "088f9c20-b064-449c-a719-34d9ccb8f6dc",
   "metadata": {},
   "outputs": [],
   "source": []
  }
 ],
 "metadata": {
  "kernelspec": {
   "display_name": "Python 3 (ipykernel)",
   "language": "python",
   "name": "python3"
  },
  "language_info": {
   "codemirror_mode": {
    "name": "ipython",
    "version": 3
   },
   "file_extension": ".py",
   "mimetype": "text/x-python",
   "name": "python",
   "nbconvert_exporter": "python",
   "pygments_lexer": "ipython3",
   "version": "3.9.15"
  }
 },
 "nbformat": 4,
 "nbformat_minor": 5
}
