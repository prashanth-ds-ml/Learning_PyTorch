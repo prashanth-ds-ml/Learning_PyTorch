{
 "cells": [
  {
   "cell_type": "code",
   "execution_count": 1,
   "id": "1650e2c7-7041-4079-8bc7-8fe8229c888f",
   "metadata": {},
   "outputs": [
    {
     "name": "stdout",
     "output_type": "stream",
     "text": [
      "1.13.1+cu117\n"
     ]
    }
   ],
   "source": [
    "import pandas as pd\n",
    "import numpy as np\n",
    "import seaborn as sb\n",
    "import matplotlib.pyplot as plt\n",
    "import torch\n",
    "print(torch.__version__)"
   ]
  },
  {
   "cell_type": "code",
   "execution_count": 2,
   "id": "9bb8bb69-9764-43b9-9d7b-2dddad9d4fa7",
   "metadata": {},
   "outputs": [],
   "source": [
    "scalar = torch.tensor(7)"
   ]
  },
  {
   "cell_type": "code",
   "execution_count": 3,
   "id": "0f423969-e7e8-4cbf-be9f-09f75c83f148",
   "metadata": {},
   "outputs": [
    {
     "data": {
      "text/plain": [
       "tensor(7)"
      ]
     },
     "execution_count": 3,
     "metadata": {},
     "output_type": "execute_result"
    }
   ],
   "source": [
    "scalar"
   ]
  },
  {
   "cell_type": "code",
   "execution_count": 4,
   "id": "a67888c1-eeef-4ef3-822e-d29a23b77bd9",
   "metadata": {},
   "outputs": [
    {
     "data": {
      "text/plain": [
       "0"
      ]
     },
     "execution_count": 4,
     "metadata": {},
     "output_type": "execute_result"
    }
   ],
   "source": [
    "scalar.ndim"
   ]
  },
  {
   "cell_type": "code",
   "execution_count": 5,
   "id": "c6f033f6-83d9-4621-930b-35842014dbbc",
   "metadata": {},
   "outputs": [
    {
     "data": {
      "text/plain": [
       "7"
      ]
     },
     "execution_count": 5,
     "metadata": {},
     "output_type": "execute_result"
    }
   ],
   "source": [
    "# tensor back as python int\n",
    "scalar.item()"
   ]
  },
  {
   "cell_type": "code",
   "execution_count": 6,
   "id": "b86e80f3-57e8-4b04-b834-17f788708c5a",
   "metadata": {},
   "outputs": [
    {
     "data": {
      "text/plain": [
       "tensor([7, 7])"
      ]
     },
     "execution_count": 6,
     "metadata": {},
     "output_type": "execute_result"
    }
   ],
   "source": [
    "vector = torch.tensor([7,7])\n",
    "vector"
   ]
  },
  {
   "cell_type": "code",
   "execution_count": 7,
   "id": "a03fe6a5-82ab-4a31-b8df-ca5127b0bdce",
   "metadata": {},
   "outputs": [
    {
     "data": {
      "text/plain": [
       "1"
      ]
     },
     "execution_count": 7,
     "metadata": {},
     "output_type": "execute_result"
    }
   ],
   "source": [
    "vector.ndim"
   ]
  },
  {
   "cell_type": "code",
   "execution_count": 8,
   "id": "e8154965-ec13-4d29-936f-2a7a558e9ce4",
   "metadata": {},
   "outputs": [
    {
     "data": {
      "text/plain": [
       "torch.Size([2])"
      ]
     },
     "execution_count": 8,
     "metadata": {},
     "output_type": "execute_result"
    }
   ],
   "source": [
    "vector.shape"
   ]
  },
  {
   "cell_type": "code",
   "execution_count": 9,
   "id": "1a3e5f57-b529-4b97-9c97-1a665bf04a47",
   "metadata": {},
   "outputs": [
    {
     "data": {
      "text/plain": [
       "tensor([[7, 8],\n",
       "        [1, 3]])"
      ]
     },
     "execution_count": 9,
     "metadata": {},
     "output_type": "execute_result"
    }
   ],
   "source": [
    "MATRIX = torch.tensor([[7,8],[1,3]])\n",
    "MATRIX"
   ]
  },
  {
   "cell_type": "code",
   "execution_count": 10,
   "id": "9da3999b-a22d-4961-abc6-99d2edc172c0",
   "metadata": {},
   "outputs": [
    {
     "data": {
      "text/plain": [
       "2"
      ]
     },
     "execution_count": 10,
     "metadata": {},
     "output_type": "execute_result"
    }
   ],
   "source": [
    "MATRIX.ndim"
   ]
  },
  {
   "cell_type": "code",
   "execution_count": 11,
   "id": "bf762d65-84ed-41f4-be18-01e274c622a4",
   "metadata": {},
   "outputs": [
    {
     "data": {
      "text/plain": [
       "tensor([7, 8])"
      ]
     },
     "execution_count": 11,
     "metadata": {},
     "output_type": "execute_result"
    }
   ],
   "source": [
    "MATRIX[0]"
   ]
  },
  {
   "cell_type": "code",
   "execution_count": 12,
   "id": "49b5fb07-4ac1-45ff-b70b-eea90842cff7",
   "metadata": {},
   "outputs": [
    {
     "data": {
      "text/plain": [
       "tensor([1, 3])"
      ]
     },
     "execution_count": 12,
     "metadata": {},
     "output_type": "execute_result"
    }
   ],
   "source": [
    "MATRIX[1]"
   ]
  },
  {
   "cell_type": "code",
   "execution_count": 13,
   "id": "432726ac-ef93-48aa-bed6-2d0bde21ea19",
   "metadata": {},
   "outputs": [
    {
     "data": {
      "text/plain": [
       "torch.Size([2, 2])"
      ]
     },
     "execution_count": 13,
     "metadata": {},
     "output_type": "execute_result"
    }
   ],
   "source": [
    "MATRIX.shape"
   ]
  },
  {
   "cell_type": "code",
   "execution_count": 14,
   "id": "9725d98e-89a2-402b-be49-d5924a08e337",
   "metadata": {},
   "outputs": [
    {
     "data": {
      "text/plain": [
       "tensor([[[1, 2, 3],\n",
       "         [5, 6, 4],\n",
       "         [7, 8, 9],\n",
       "         [4, 5, 6]]])"
      ]
     },
     "execution_count": 14,
     "metadata": {},
     "output_type": "execute_result"
    }
   ],
   "source": [
    "TENSOR = torch.tensor([[[1,2,3],[5,6,4],[7,8,9],[4,5,6]]])\n",
    "TENSOR"
   ]
  },
  {
   "cell_type": "code",
   "execution_count": 15,
   "id": "7e1b4818-7137-4814-b14e-ec6ee55efafb",
   "metadata": {},
   "outputs": [
    {
     "data": {
      "text/plain": [
       "3"
      ]
     },
     "execution_count": 15,
     "metadata": {},
     "output_type": "execute_result"
    }
   ],
   "source": [
    "TENSOR.ndim"
   ]
  },
  {
   "cell_type": "code",
   "execution_count": 16,
   "id": "d7b3f5ce-7129-441a-a06c-ad3752514c1b",
   "metadata": {},
   "outputs": [
    {
     "data": {
      "text/plain": [
       "torch.Size([1, 4, 3])"
      ]
     },
     "execution_count": 16,
     "metadata": {},
     "output_type": "execute_result"
    }
   ],
   "source": [
    "TENSOR.shape"
   ]
  },
  {
   "cell_type": "markdown",
   "id": "6d3ac6d4-1c09-4eb3-a469-e26c52d625df",
   "metadata": {},
   "source": [
    "### Random Tensors\n",
    "\n",
    "Random tensors are imp bc the way many nn learn is that they start with tensors full of random numbers and then adjust those random numbers\n",
    "to better represent data\n"
   ]
  },
  {
   "cell_type": "code",
   "execution_count": 17,
   "id": "94ca5688-836e-4693-b807-cb10170a4862",
   "metadata": {},
   "outputs": [
    {
     "data": {
      "text/plain": [
       "tensor([[[0.9328, 0.6516, 0.0790, 0.4870],\n",
       "         [0.4196, 0.9089, 0.3953, 0.0245],\n",
       "         [0.1478, 0.9368, 0.0494, 0.4796]]])"
      ]
     },
     "execution_count": 17,
     "metadata": {},
     "output_type": "execute_result"
    }
   ],
   "source": [
    "random_tensor = torch.rand(1,3,4)\n",
    "random_tensor"
   ]
  },
  {
   "cell_type": "code",
   "execution_count": 18,
   "id": "f4b5cd0a-27b0-4008-806a-4c4ff32d06d4",
   "metadata": {},
   "outputs": [
    {
     "data": {
      "text/plain": [
       "3"
      ]
     },
     "execution_count": 18,
     "metadata": {},
     "output_type": "execute_result"
    }
   ],
   "source": [
    "random_tensor.ndim"
   ]
  },
  {
   "cell_type": "code",
   "execution_count": 19,
   "id": "c1bd5131-5eec-4b0d-94e1-00215b38d3ba",
   "metadata": {},
   "outputs": [
    {
     "data": {
      "text/plain": [
       "tensor([[[6.3531e-01, 9.6447e-01, 7.8929e-01],\n",
       "         [5.6998e-01, 8.3630e-01, 1.6826e-01],\n",
       "         [6.7721e-01, 3.7317e-01, 2.8860e-02],\n",
       "         ...,\n",
       "         [7.3397e-01, 6.4298e-01, 2.2605e-01],\n",
       "         [1.4127e-01, 1.8702e-01, 3.2289e-01],\n",
       "         [7.7338e-01, 7.7315e-01, 9.9750e-01]],\n",
       "\n",
       "        [[2.4099e-01, 9.3657e-01, 6.4907e-01],\n",
       "         [1.9554e-01, 2.6872e-01, 1.7125e-01],\n",
       "         [8.5153e-02, 8.8727e-01, 2.8387e-03],\n",
       "         ...,\n",
       "         [1.8417e-01, 3.5825e-01, 5.7248e-01],\n",
       "         [9.5099e-01, 9.1069e-01, 6.7080e-01],\n",
       "         [9.1257e-01, 1.4581e-01, 4.3530e-01]],\n",
       "\n",
       "        [[5.2887e-04, 2.7335e-02, 2.8358e-01],\n",
       "         [6.3915e-01, 7.7547e-01, 6.5777e-01],\n",
       "         [6.1604e-01, 2.6190e-02, 2.0766e-01],\n",
       "         ...,\n",
       "         [1.0736e-02, 9.0165e-01, 8.3196e-01],\n",
       "         [1.8138e-01, 3.7787e-01, 8.2920e-02],\n",
       "         [2.2337e-01, 8.4649e-01, 5.6449e-01]],\n",
       "\n",
       "        ...,\n",
       "\n",
       "        [[9.4694e-01, 1.4517e-01, 3.1469e-01],\n",
       "         [6.0902e-01, 3.5449e-01, 6.1096e-01],\n",
       "         [7.0772e-01, 3.2766e-01, 2.6175e-01],\n",
       "         ...,\n",
       "         [9.1701e-01, 9.1848e-01, 8.7330e-01],\n",
       "         [2.8910e-01, 9.9873e-01, 2.8173e-01],\n",
       "         [7.7165e-01, 4.0069e-01, 7.2728e-01]],\n",
       "\n",
       "        [[6.0201e-02, 2.6001e-01, 5.5996e-01],\n",
       "         [2.9797e-01, 8.6315e-01, 2.0149e-01],\n",
       "         [8.9622e-01, 9.8253e-01, 8.8343e-01],\n",
       "         ...,\n",
       "         [3.5920e-01, 9.5791e-01, 4.0353e-01],\n",
       "         [5.0327e-01, 3.0640e-01, 6.0700e-01],\n",
       "         [1.4216e-01, 1.7134e-01, 2.9146e-01]],\n",
       "\n",
       "        [[7.1436e-02, 2.0299e-01, 3.9990e-01],\n",
       "         [8.8501e-01, 5.9630e-02, 1.9160e-01],\n",
       "         [7.6446e-01, 3.6260e-01, 5.4862e-01],\n",
       "         ...,\n",
       "         [9.7015e-01, 9.7743e-01, 3.6033e-01],\n",
       "         [1.6540e-01, 7.9950e-01, 9.5956e-01],\n",
       "         [9.7780e-01, 7.1509e-01, 5.2650e-01]]])"
      ]
     },
     "execution_count": 19,
     "metadata": {},
     "output_type": "execute_result"
    }
   ],
   "source": [
    "random_image_size = torch.rand(size =(256,256,3))\n",
    "random_image_size"
   ]
  },
  {
   "cell_type": "code",
   "execution_count": 20,
   "id": "d4da4def-b59a-410a-a5bd-ab69893281c3",
   "metadata": {},
   "outputs": [
    {
     "data": {
      "text/plain": [
       "torch.Size([256, 256, 3])"
      ]
     },
     "execution_count": 20,
     "metadata": {},
     "output_type": "execute_result"
    }
   ],
   "source": [
    "random_image_size.size()"
   ]
  },
  {
   "cell_type": "code",
   "execution_count": 21,
   "id": "c06fe976-71b2-40f8-ab88-b8863106a544",
   "metadata": {},
   "outputs": [
    {
     "data": {
      "text/plain": [
       "torch.Size([256, 256, 3])"
      ]
     },
     "execution_count": 21,
     "metadata": {},
     "output_type": "execute_result"
    }
   ],
   "source": [
    "random_image_size.shape"
   ]
  },
  {
   "cell_type": "code",
   "execution_count": 22,
   "id": "f26b9c2a-9cc0-4b00-9fd0-b1e57f78da4f",
   "metadata": {},
   "outputs": [
    {
     "data": {
      "text/plain": [
       "tensor([[[0., 0., 0., 0.],\n",
       "         [0., 0., 0., 0.],\n",
       "         [0., 0., 0., 0.]]])"
      ]
     },
     "execution_count": 22,
     "metadata": {},
     "output_type": "execute_result"
    }
   ],
   "source": [
    "zeroes = torch.zeros(size=(1,3,4))\n",
    "zeroes"
   ]
  },
  {
   "cell_type": "code",
   "execution_count": 23,
   "id": "5abf50f0-ee79-4039-abc4-2d7891f3f36b",
   "metadata": {},
   "outputs": [
    {
     "data": {
      "text/plain": [
       "tensor([[[0., 0., 0., 0.],\n",
       "         [0., 0., 0., 0.],\n",
       "         [0., 0., 0., 0.]]])"
      ]
     },
     "execution_count": 23,
     "metadata": {},
     "output_type": "execute_result"
    }
   ],
   "source": [
    "zeroes*random_tensor"
   ]
  },
  {
   "cell_type": "code",
   "execution_count": 24,
   "id": "e1007d65-b2a2-4008-8359-1367731f8e6b",
   "metadata": {},
   "outputs": [],
   "source": [
    "one_to_ten  = torch.arange(0,10)"
   ]
  },
  {
   "cell_type": "code",
   "execution_count": 25,
   "id": "f54942ab-1208-4732-b9af-c5d0c4f1352f",
   "metadata": {},
   "outputs": [
    {
     "data": {
      "text/plain": [
       "tensor([1, 4, 7])"
      ]
     },
     "execution_count": 25,
     "metadata": {},
     "output_type": "execute_result"
    }
   ],
   "source": [
    "torch.arange(start =1 ,end = 10,step = 3)"
   ]
  },
  {
   "cell_type": "code",
   "execution_count": 26,
   "id": "38835ee3-dc9f-45e2-a2a3-d43e9c1c07ad",
   "metadata": {},
   "outputs": [
    {
     "data": {
      "text/plain": [
       "tensor([0, 0, 0, 0, 0, 0, 0, 0, 0, 0])"
      ]
     },
     "execution_count": 26,
     "metadata": {},
     "output_type": "execute_result"
    }
   ],
   "source": [
    "ten_zeros = torch.zeros_like(input=one_to_ten)\n",
    "ten_zeros"
   ]
  },
  {
   "cell_type": "code",
   "execution_count": 27,
   "id": "81dd98f3-d17b-4a84-933a-379f4f48e70d",
   "metadata": {},
   "outputs": [
    {
     "data": {
      "text/plain": [
       "tensor([3., 6., 9.])"
      ]
     },
     "execution_count": 27,
     "metadata": {},
     "output_type": "execute_result"
    }
   ],
   "source": [
    "## Tensor dtypes\n",
    "\n",
    "float_32_tensor = torch.tensor([3.,6.0,9.0],dtype = None)\n",
    "float_32_tensor"
   ]
  },
  {
   "cell_type": "code",
   "execution_count": 28,
   "id": "0674f6a2-15f0-4806-ae89-0c3e315b2a50",
   "metadata": {},
   "outputs": [
    {
     "data": {
      "text/plain": [
       "tensor([3., 6., 9.], dtype=torch.float16)"
      ]
     },
     "execution_count": 28,
     "metadata": {},
     "output_type": "execute_result"
    }
   ],
   "source": [
    "float_32 = torch.tensor([3.,6.0,9.0],dtype = torch.float16)\n",
    "float_32"
   ]
  },
  {
   "cell_type": "code",
   "execution_count": 29,
   "id": "61201791-2a41-4776-9384-19127af900e7",
   "metadata": {},
   "outputs": [
    {
     "data": {
      "text/plain": [
       "tensor([3., 6., 9.])"
      ]
     },
     "execution_count": 29,
     "metadata": {},
     "output_type": "execute_result"
    }
   ],
   "source": [
    "float_32 = torch.tensor([3.,6.0,9.0],dtype = None,device = None,requires_grad = False)\n",
    "float_32"
   ]
  },
  {
   "cell_type": "code",
   "execution_count": 30,
   "id": "8d8d9ab8-88fe-4070-b97a-0a9eefe436e7",
   "metadata": {},
   "outputs": [
    {
     "data": {
      "text/plain": [
       "tensor([3., 6., 9.], dtype=torch.float16)"
      ]
     },
     "execution_count": 30,
     "metadata": {},
     "output_type": "execute_result"
    }
   ],
   "source": [
    "float_16 = float_32.type(torch.float16)\n",
    "float_16"
   ]
  },
  {
   "cell_type": "code",
   "execution_count": 31,
   "id": "ddaf3180-413f-49b1-94be-6cbc4c651bd4",
   "metadata": {},
   "outputs": [
    {
     "data": {
      "text/plain": [
       "tensor([ 9., 36., 81.])"
      ]
     },
     "execution_count": 31,
     "metadata": {},
     "output_type": "execute_result"
    }
   ],
   "source": [
    "float_16*float_32_tensor"
   ]
  },
  {
   "cell_type": "code",
   "execution_count": 32,
   "id": "0b3dd0d2-79a7-404f-97d4-3cd06c6cfdf9",
   "metadata": {},
   "outputs": [
    {
     "data": {
      "text/plain": [
       "tensor([3, 6, 9], dtype=torch.int32)"
      ]
     },
     "execution_count": 32,
     "metadata": {},
     "output_type": "execute_result"
    }
   ],
   "source": [
    "int_32 = torch.tensor([3,6,9],dtype = torch.int32)\n",
    "int_32"
   ]
  },
  {
   "cell_type": "code",
   "execution_count": 33,
   "id": "10f0b5e2-a5d0-4f44-9b25-95207eba14d8",
   "metadata": {},
   "outputs": [
    {
     "data": {
      "text/plain": [
       "tensor([ 9., 36., 81.], dtype=torch.float16)"
      ]
     },
     "execution_count": 33,
     "metadata": {},
     "output_type": "execute_result"
    }
   ],
   "source": [
    "float_16*int_32"
   ]
  },
  {
   "cell_type": "code",
   "execution_count": 34,
   "id": "b5b117d1-6a15-4877-8dce-3c110d08676e",
   "metadata": {},
   "outputs": [
    {
     "data": {
      "text/plain": [
       "tensor([[0.6408, 0.2330, 0.8292, 0.2922],\n",
       "        [0.3464, 0.0705, 0.5576, 0.4762],\n",
       "        [0.1901, 0.4561, 0.7315, 0.9219],\n",
       "        [0.5916, 0.2953, 0.8143, 0.6994]])"
      ]
     },
     "execution_count": 34,
     "metadata": {},
     "output_type": "execute_result"
    }
   ],
   "source": [
    "tensor = torch.rand(4,4)\n",
    "tensor"
   ]
  },
  {
   "cell_type": "code",
   "execution_count": 35,
   "id": "f7425e54-7a47-426a-9819-e44e527b601f",
   "metadata": {},
   "outputs": [
    {
     "name": "stdout",
     "output_type": "stream",
     "text": [
      "tensor([[0.6408, 0.2330, 0.8292, 0.2922],\n",
      "        [0.3464, 0.0705, 0.5576, 0.4762],\n",
      "        [0.1901, 0.4561, 0.7315, 0.9219],\n",
      "        [0.5916, 0.2953, 0.8143, 0.6994]])\n",
      "dtype of tensor:torch.float32\n",
      "shape of tensor:torch.Size([4, 4])\n",
      "device of tensor:cpu\n"
     ]
    }
   ],
   "source": [
    "# attributes of tensors\n",
    "\n",
    "print(tensor)\n",
    "print(f'dtype of tensor:{tensor.dtype}')\n",
    "print(f'shape of tensor:{tensor.shape}')\n",
    "print(f'device of tensor:{tensor.device}')"
   ]
  },
  {
   "cell_type": "code",
   "execution_count": 36,
   "id": "5cd6226d-e82d-4f5a-b3b5-0b437f8db30e",
   "metadata": {},
   "outputs": [
    {
     "data": {
      "text/plain": [
       "tensor([3, 6, 9], device='cuda:0', dtype=torch.int32)"
      ]
     },
     "execution_count": 36,
     "metadata": {},
     "output_type": "execute_result"
    }
   ],
   "source": [
    "int_32_tensor = torch.tensor([3,6,9],dtype =torch.int32,device = 'cuda',requires_grad = False)\n",
    "int_32_tensor"
   ]
  },
  {
   "cell_type": "code",
   "execution_count": 37,
   "id": "d75f6240-7e7d-4b4d-ab16-a600e90e06b3",
   "metadata": {},
   "outputs": [
    {
     "data": {
      "text/plain": [
       "tensor([21, 22, 23])"
      ]
     },
     "execution_count": 37,
     "metadata": {},
     "output_type": "execute_result"
    }
   ],
   "source": [
    "# arithmetic operations on tensors\n",
    "\n",
    "tensor =  torch.tensor([1,2,3])\n",
    "tensor + 20"
   ]
  },
  {
   "cell_type": "code",
   "execution_count": 38,
   "id": "92581b5c-588f-41d1-877f-9f3242148c67",
   "metadata": {},
   "outputs": [
    {
     "data": {
      "text/plain": [
       "tensor([20, 40, 60])"
      ]
     },
     "execution_count": 38,
     "metadata": {},
     "output_type": "execute_result"
    }
   ],
   "source": [
    "tensor * 20"
   ]
  },
  {
   "cell_type": "code",
   "execution_count": 39,
   "id": "11d6a915-efdc-44db-85f0-f7ef06063732",
   "metadata": {},
   "outputs": [
    {
     "data": {
      "text/plain": [
       "tensor([0.0500, 0.1000, 0.1500])"
      ]
     },
     "execution_count": 39,
     "metadata": {},
     "output_type": "execute_result"
    }
   ],
   "source": [
    "tensor / 20"
   ]
  },
  {
   "cell_type": "code",
   "execution_count": 40,
   "id": "497dad4d-733a-421e-bf71-ecc0c2cec7a4",
   "metadata": {},
   "outputs": [
    {
     "data": {
      "text/plain": [
       "tensor([0, 0, 0])"
      ]
     },
     "execution_count": 40,
     "metadata": {},
     "output_type": "execute_result"
    }
   ],
   "source": [
    "tensor // 20"
   ]
  },
  {
   "cell_type": "code",
   "execution_count": 41,
   "id": "e4b2cd4d-ff0c-4015-9760-2c189bc686ae",
   "metadata": {},
   "outputs": [
    {
     "data": {
      "text/plain": [
       "tensor([1, 2, 3])"
      ]
     },
     "execution_count": 41,
     "metadata": {},
     "output_type": "execute_result"
    }
   ],
   "source": [
    "tensor % 20"
   ]
  },
  {
   "cell_type": "code",
   "execution_count": 42,
   "id": "337c9194-965d-4266-aa2d-4687a62a531e",
   "metadata": {},
   "outputs": [
    {
     "data": {
      "text/plain": [
       "tensor([-4, -3, -2])"
      ]
     },
     "execution_count": 42,
     "metadata": {},
     "output_type": "execute_result"
    }
   ],
   "source": [
    "tensor - 5"
   ]
  },
  {
   "cell_type": "code",
   "execution_count": 43,
   "id": "60d0db3b-2b66-4dee-a314-2f917b450692",
   "metadata": {},
   "outputs": [
    {
     "data": {
      "text/plain": [
       "tensor([10, 20, 30])"
      ]
     },
     "execution_count": 43,
     "metadata": {},
     "output_type": "execute_result"
    }
   ],
   "source": [
    "# PyTorch inbuild functions\n",
    "\n",
    "torch.mul(tensor,10)"
   ]
  },
  {
   "cell_type": "code",
   "execution_count": 44,
   "id": "fec4fa8e-0cc7-4fe9-9c48-989218565190",
   "metadata": {},
   "outputs": [
    {
     "data": {
      "text/plain": [
       "tensor([11, 12, 13])"
      ]
     },
     "execution_count": 44,
     "metadata": {},
     "output_type": "execute_result"
    }
   ],
   "source": [
    "torch.add(tensor,10)"
   ]
  },
  {
   "cell_type": "code",
   "execution_count": 45,
   "id": "a75ab354-0030-470b-87f5-6f7595ab1d46",
   "metadata": {},
   "outputs": [
    {
     "data": {
      "text/plain": [
       "tensor([-9, -8, -7])"
      ]
     },
     "execution_count": 45,
     "metadata": {},
     "output_type": "execute_result"
    }
   ],
   "source": [
    "torch.sub(tensor,10)"
   ]
  },
  {
   "cell_type": "code",
   "execution_count": 46,
   "id": "7142ab04-c189-458f-add3-79694c546334",
   "metadata": {},
   "outputs": [
    {
     "data": {
      "text/plain": [
       "tensor([0.1000, 0.2000, 0.3000])"
      ]
     },
     "execution_count": 46,
     "metadata": {},
     "output_type": "execute_result"
    }
   ],
   "source": [
    "torch.div(tensor,10)"
   ]
  },
  {
   "cell_type": "code",
   "execution_count": 47,
   "id": "12570d41-78ff-4680-8535-90786aa968fe",
   "metadata": {},
   "outputs": [],
   "source": [
    "# matrix multiplication or dot product\n",
    "\n",
    "tensor_a =  torch.rand(5,3)\n",
    "tensor_b = torch.rand(3,5)"
   ]
  },
  {
   "cell_type": "code",
   "execution_count": 48,
   "id": "86679fe9-57d3-4d11-9c40-15640368c391",
   "metadata": {},
   "outputs": [
    {
     "name": "stdout",
     "output_type": "stream",
     "text": [
      "CPU times: total: 0 ns\n",
      "Wall time: 999 µs\n"
     ]
    },
    {
     "data": {
      "text/plain": [
       "tensor([[0.7348, 0.8475, 0.2904, 0.3927, 1.4951],\n",
       "        [0.7595, 0.6737, 0.2919, 0.3264, 1.1517],\n",
       "        [0.6737, 0.5763, 0.9181, 0.8023, 1.2290],\n",
       "        [0.3883, 0.5617, 0.3998, 0.4431, 1.1027],\n",
       "        [0.7724, 0.7181, 0.3007, 0.3468, 1.2363]])"
      ]
     },
     "execution_count": 48,
     "metadata": {},
     "output_type": "execute_result"
    }
   ],
   "source": [
    "%%time\n",
    "torch.matmul(tensor_a,tensor_b)"
   ]
  },
  {
   "cell_type": "code",
   "execution_count": 49,
   "id": "57f71575-9e9e-4fab-a04d-14b2470778e0",
   "metadata": {},
   "outputs": [
    {
     "data": {
      "text/plain": [
       "tensor([[0.8867, 1.1296, 0.4165],\n",
       "        [0.5661, 0.6291, 0.0428],\n",
       "        [0.7890, 1.1472, 0.2771]])"
      ]
     },
     "execution_count": 49,
     "metadata": {},
     "output_type": "execute_result"
    }
   ],
   "source": [
    "tensor_c =  torch.rand(3,3)\n",
    "tensor_d = torch.rand(3,3)\n",
    "torch.matmul(tensor_c,tensor_d)"
   ]
  },
  {
   "cell_type": "code",
   "execution_count": 50,
   "id": "b83622e6-54d1-451a-bb90-69872b720fa2",
   "metadata": {},
   "outputs": [
    {
     "data": {
      "text/plain": [
       "tensor([[0.5638, 0.4341, 0.8086, 0.6858, 0.9506],\n",
       "        [0.7337, 0.5603, 0.0399, 0.0915, 0.8467],\n",
       "        [0.8957, 0.7850, 0.2509, 0.3078, 1.3048]])"
      ]
     },
     "execution_count": 50,
     "metadata": {},
     "output_type": "execute_result"
    }
   ],
   "source": [
    "tensor_c @ tensor_b"
   ]
  },
  {
   "cell_type": "code",
   "execution_count": 51,
   "id": "2d34ecf1-4fb3-4bc7-8092-afcf36e634d0",
   "metadata": {},
   "outputs": [
    {
     "data": {
      "text/plain": [
       "tensor([[0.5926, 0.2227, 0.4298, 0.0105],\n",
       "        [0.5288, 0.7440, 0.0307, 0.7249],\n",
       "        [0.1929, 0.3340, 0.9569, 0.8687]])"
      ]
     },
     "execution_count": 51,
     "metadata": {},
     "output_type": "execute_result"
    }
   ],
   "source": [
    "tensor_e = torch.rand(3,4)\n",
    "tensor_e"
   ]
  },
  {
   "cell_type": "code",
   "execution_count": 52,
   "id": "289881e2-4813-4214-b113-39dd431b68a1",
   "metadata": {},
   "outputs": [
    {
     "data": {
      "text/plain": [
       "tensor([[0.9035, 0.7691, 0.5729, 0.6832],\n",
       "        [0.6588, 0.7475, 0.4140, 0.8052],\n",
       "        [0.6132, 0.6887, 1.0824, 1.1068],\n",
       "        [0.6535, 0.4443, 0.6717, 0.4452],\n",
       "        [0.7150, 0.7680, 0.4528, 0.8042]])"
      ]
     },
     "execution_count": 52,
     "metadata": {},
     "output_type": "execute_result"
    }
   ],
   "source": [
    "torch.mm(tensor_a,tensor_e)"
   ]
  },
  {
   "cell_type": "code",
   "execution_count": 53,
   "id": "25db908c-f58b-44df-ad0f-20d132733a23",
   "metadata": {},
   "outputs": [
    {
     "data": {
      "text/plain": [
       "tensor([[0.8421, 0.3206, 0.3819, 0.8114, 0.4161],\n",
       "        [0.6926, 0.7905, 0.3861, 0.2058, 0.7906],\n",
       "        [0.1983, 0.2634, 0.9472, 0.3309, 0.2610]])"
      ]
     },
     "execution_count": 53,
     "metadata": {},
     "output_type": "execute_result"
    }
   ],
   "source": [
    "# Transpose matrix\n",
    "\n",
    "tensor_a.T"
   ]
  },
  {
   "cell_type": "code",
   "execution_count": 54,
   "id": "ee965bdf-2785-467d-9ded-f1388623474b",
   "metadata": {},
   "outputs": [
    {
     "data": {
      "text/plain": [
       "tensor([[0.5926, 0.5288, 0.1929],\n",
       "        [0.2227, 0.7440, 0.3340],\n",
       "        [0.4298, 0.0307, 0.9569],\n",
       "        [0.0105, 0.7249, 0.8687]])"
      ]
     },
     "execution_count": 54,
     "metadata": {},
     "output_type": "execute_result"
    }
   ],
   "source": [
    "tensor_e.T"
   ]
  },
  {
   "cell_type": "code",
   "execution_count": 55,
   "id": "bc832a0d-df64-4de8-8287-0becd0409fbc",
   "metadata": {},
   "outputs": [
    {
     "data": {
      "text/plain": [
       "tensor([ 0, 10, 20, 30, 40, 50, 60, 70, 80, 90])"
      ]
     },
     "execution_count": 55,
     "metadata": {},
     "output_type": "execute_result"
    }
   ],
   "source": [
    "# find min,max,sum,mean\n",
    "\n",
    "x = torch.arange(0,100,10)\n",
    "x"
   ]
  },
  {
   "cell_type": "code",
   "execution_count": 56,
   "id": "5f87b68a-57c2-4534-b73e-ffdd85835d2b",
   "metadata": {},
   "outputs": [
    {
     "data": {
      "text/plain": [
       "tensor(0)"
      ]
     },
     "execution_count": 56,
     "metadata": {},
     "output_type": "execute_result"
    }
   ],
   "source": [
    "torch.min(x)"
   ]
  },
  {
   "cell_type": "code",
   "execution_count": 57,
   "id": "c520d9e2-2b42-4ee6-b78c-3bbec59597c7",
   "metadata": {},
   "outputs": [
    {
     "data": {
      "text/plain": [
       "tensor(0)"
      ]
     },
     "execution_count": 57,
     "metadata": {},
     "output_type": "execute_result"
    }
   ],
   "source": [
    "x.min()"
   ]
  },
  {
   "cell_type": "code",
   "execution_count": 58,
   "id": "45a30e41-b76e-470a-81ea-a497d7c19b6c",
   "metadata": {},
   "outputs": [
    {
     "data": {
      "text/plain": [
       "(tensor(90), tensor(90))"
      ]
     },
     "execution_count": 58,
     "metadata": {},
     "output_type": "execute_result"
    }
   ],
   "source": [
    "torch.max(x),x.max()"
   ]
  },
  {
   "cell_type": "code",
   "execution_count": 59,
   "id": "48fb3420-dfe0-4571-bf1d-386ecb83d503",
   "metadata": {},
   "outputs": [
    {
     "data": {
      "text/plain": [
       "tensor(45.)"
      ]
     },
     "execution_count": 59,
     "metadata": {},
     "output_type": "execute_result"
    }
   ],
   "source": [
    "torch.mean(x.type(torch.float32))"
   ]
  },
  {
   "cell_type": "code",
   "execution_count": 60,
   "id": "639ae490-2b6d-4868-ae32-af0fe940fa13",
   "metadata": {},
   "outputs": [
    {
     "data": {
      "text/plain": [
       "tensor(45.)"
      ]
     },
     "execution_count": 60,
     "metadata": {},
     "output_type": "execute_result"
    }
   ],
   "source": [
    "x.type(torch.float32).mean()"
   ]
  },
  {
   "cell_type": "code",
   "execution_count": 61,
   "id": "3ff7b75b-5303-4bc5-b20c-929a16f72edc",
   "metadata": {},
   "outputs": [
    {
     "data": {
      "text/plain": [
       "(tensor(450), tensor(450))"
      ]
     },
     "execution_count": 61,
     "metadata": {},
     "output_type": "execute_result"
    }
   ],
   "source": [
    "torch.sum(x),x.sum()"
   ]
  },
  {
   "cell_type": "code",
   "execution_count": 62,
   "id": "6c2e8e0b-091f-4e8e-b7e4-e5e4d292454f",
   "metadata": {},
   "outputs": [
    {
     "data": {
      "text/plain": [
       "(tensor(0), tensor(9))"
      ]
     },
     "execution_count": 62,
     "metadata": {},
     "output_type": "execute_result"
    }
   ],
   "source": [
    "# to find the min and max position in the tensor\n",
    "\n",
    "x.argmin(),x.argmax()"
   ]
  },
  {
   "cell_type": "code",
   "execution_count": 63,
   "id": "5cd61fb5-e68c-4583-872c-8eb7c5513e85",
   "metadata": {},
   "outputs": [
    {
     "data": {
      "text/plain": [
       "tensor([ 0, 10, 20, 30, 40, 50, 60, 70, 80, 90])"
      ]
     },
     "execution_count": 63,
     "metadata": {},
     "output_type": "execute_result"
    }
   ],
   "source": [
    "x"
   ]
  },
  {
   "cell_type": "code",
   "execution_count": 64,
   "id": "e8693a10-6398-4d7a-868e-144d4abbc436",
   "metadata": {},
   "outputs": [
    {
     "data": {
      "text/plain": [
       "(tensor([1., 2., 3., 4., 5., 6., 7., 8., 9.]), torch.Size([9]))"
      ]
     },
     "execution_count": 64,
     "metadata": {},
     "output_type": "execute_result"
    }
   ],
   "source": [
    "# Reshape,stacking,squeezing,unsqueezing\n",
    "\n",
    "tensor_x = torch.arange(1.,10.)\n",
    "tensor_x,tensor_x.shape"
   ]
  },
  {
   "cell_type": "code",
   "execution_count": 65,
   "id": "523af08d-236a-4bf5-81b9-65e55836fc49",
   "metadata": {},
   "outputs": [
    {
     "data": {
      "text/plain": [
       "(tensor([[1., 2., 3., 4., 5., 6., 7., 8., 9.]]), torch.Size([1, 9]))"
      ]
     },
     "execution_count": 65,
     "metadata": {},
     "output_type": "execute_result"
    }
   ],
   "source": [
    "reshape_tensor_x = tensor_x.reshape(1,9)\n",
    "reshape_tensor_x,reshape_tensor_x.shape"
   ]
  },
  {
   "cell_type": "code",
   "execution_count": 66,
   "id": "ff8ac5c3-a841-445a-941e-f1b470d69557",
   "metadata": {},
   "outputs": [
    {
     "data": {
      "text/plain": [
       "(tensor([[1., 2., 3., 4., 5., 6., 7., 8., 9.]]), torch.Size([1, 9]))"
      ]
     },
     "execution_count": 66,
     "metadata": {},
     "output_type": "execute_result"
    }
   ],
   "source": [
    "y = tensor_x.view(1,9)\n",
    "y,y.shape"
   ]
  },
  {
   "cell_type": "code",
   "execution_count": 67,
   "id": "b83ea617-8331-4bd3-a269-fde248d2273a",
   "metadata": {},
   "outputs": [
    {
     "data": {
      "text/plain": [
       "tensor([[1., 1., 1.],\n",
       "        [2., 2., 2.],\n",
       "        [3., 3., 3.],\n",
       "        [4., 4., 4.],\n",
       "        [5., 5., 5.],\n",
       "        [6., 6., 6.],\n",
       "        [7., 7., 7.],\n",
       "        [8., 8., 8.],\n",
       "        [9., 9., 9.]])"
      ]
     },
     "execution_count": 67,
     "metadata": {},
     "output_type": "execute_result"
    }
   ],
   "source": [
    "stack_tensor_x = torch.stack([tensor_x,tensor_x,tensor_x],dim = 1)\n",
    "stack_tensor_x"
   ]
  },
  {
   "cell_type": "code",
   "execution_count": 68,
   "id": "f6d59aa1-78fd-4297-a69b-21e091eb2f5e",
   "metadata": {},
   "outputs": [
    {
     "data": {
      "text/plain": [
       "tensor([1., 2., 3., 4., 5., 6., 7., 8., 9.])"
      ]
     },
     "execution_count": 68,
     "metadata": {},
     "output_type": "execute_result"
    }
   ],
   "source": [
    "torch.squeeze(tensor_x)"
   ]
  },
  {
   "cell_type": "code",
   "execution_count": 69,
   "id": "d3966460-4ec5-4a06-9e07-9ecb9a8c62d5",
   "metadata": {},
   "outputs": [
    {
     "data": {
      "text/plain": [
       "torch.Size([9])"
      ]
     },
     "execution_count": 69,
     "metadata": {},
     "output_type": "execute_result"
    }
   ],
   "source": [
    "tensor_x.shape"
   ]
  },
  {
   "cell_type": "code",
   "execution_count": 70,
   "id": "d540471c-eb6e-475c-9a14-5a37eaa2ddfa",
   "metadata": {},
   "outputs": [
    {
     "data": {
      "text/plain": [
       "tensor([[1., 2., 3., 4., 5., 6., 7., 8., 9.]])"
      ]
     },
     "execution_count": 70,
     "metadata": {},
     "output_type": "execute_result"
    }
   ],
   "source": [
    "tensor_x.unsqueeze(dim = 0)"
   ]
  },
  {
   "cell_type": "code",
   "execution_count": 71,
   "id": "2e9ffb23-856a-43cd-8221-120f76250614",
   "metadata": {},
   "outputs": [
    {
     "data": {
      "text/plain": [
       "torch.Size([9])"
      ]
     },
     "execution_count": 71,
     "metadata": {},
     "output_type": "execute_result"
    }
   ],
   "source": [
    "tensor_x.shape"
   ]
  },
  {
   "cell_type": "code",
   "execution_count": 72,
   "id": "0175c268-f56c-489d-a726-ae58b4a16c31",
   "metadata": {},
   "outputs": [
    {
     "data": {
      "text/plain": [
       "tensor([[1., 2., 3., 4., 5., 6., 7., 8., 9.]])"
      ]
     },
     "execution_count": 72,
     "metadata": {},
     "output_type": "execute_result"
    }
   ],
   "source": [
    "tensor_x_unsqueeze  = torch.unsqueeze(tensor_x,dim = 0)\n",
    "tensor_x_unsqueeze"
   ]
  },
  {
   "cell_type": "code",
   "execution_count": 73,
   "id": "32507191-c663-4780-8e3a-fda6b828828d",
   "metadata": {},
   "outputs": [
    {
     "data": {
      "text/plain": [
       "torch.Size([1, 9])"
      ]
     },
     "execution_count": 73,
     "metadata": {},
     "output_type": "execute_result"
    }
   ],
   "source": [
    "tensor_x_unsqueeze.shape"
   ]
  },
  {
   "cell_type": "code",
   "execution_count": 74,
   "id": "4a9791b7-baea-4107-ab93-7f5dc32cec67",
   "metadata": {},
   "outputs": [
    {
     "data": {
      "text/plain": [
       "torch.Size([256, 256, 3])"
      ]
     },
     "execution_count": 74,
     "metadata": {},
     "output_type": "execute_result"
    }
   ],
   "source": [
    "x = torch.rand(size=(256,256,3))\n",
    "x.size()"
   ]
  },
  {
   "cell_type": "code",
   "execution_count": 75,
   "id": "3f0fef6f-587e-4fc0-b611-a49d96f57a11",
   "metadata": {},
   "outputs": [
    {
     "data": {
      "text/plain": [
       "torch.Size([3, 256, 256])"
      ]
     },
     "execution_count": 75,
     "metadata": {},
     "output_type": "execute_result"
    }
   ],
   "source": [
    "x_permuted = x.permute(2,0,1)\n",
    "x_permuted.size()"
   ]
  },
  {
   "cell_type": "code",
   "execution_count": 76,
   "id": "afb0abb5-e506-4a43-82d9-92cccbba34f6",
   "metadata": {},
   "outputs": [
    {
     "data": {
      "text/plain": [
       "(tensor(123.), tensor(123.))"
      ]
     },
     "execution_count": 76,
     "metadata": {},
     "output_type": "execute_result"
    }
   ],
   "source": [
    "x[0,0,0] = 123\n",
    "x[0,0,0],x_permuted[0,0,0]"
   ]
  },
  {
   "cell_type": "code",
   "execution_count": 77,
   "id": "65f3b293-2a71-4197-a042-40c9696b6f5f",
   "metadata": {},
   "outputs": [
    {
     "data": {
      "text/plain": [
       "(tensor([[[1, 2, 3],\n",
       "          [4, 5, 6],\n",
       "          [7, 8, 9]]]),\n",
       " torch.Size([1, 3, 3]))"
      ]
     },
     "execution_count": 77,
     "metadata": {},
     "output_type": "execute_result"
    }
   ],
   "source": [
    "a = torch.arange(1,10).reshape(1,3,3)\n",
    "a, a.shape"
   ]
  },
  {
   "cell_type": "code",
   "execution_count": 78,
   "id": "026f6570-2cf7-4656-a966-1902b8e514fa",
   "metadata": {},
   "outputs": [
    {
     "data": {
      "text/plain": [
       "tensor([[1, 2, 3],\n",
       "        [4, 5, 6],\n",
       "        [7, 8, 9]])"
      ]
     },
     "execution_count": 78,
     "metadata": {},
     "output_type": "execute_result"
    }
   ],
   "source": [
    "a[0]"
   ]
  },
  {
   "cell_type": "code",
   "execution_count": 79,
   "id": "9047fbef-e008-4ecb-a3d8-b8e8d7e50233",
   "metadata": {},
   "outputs": [
    {
     "data": {
      "text/plain": [
       "tensor([1, 2, 3])"
      ]
     },
     "execution_count": 79,
     "metadata": {},
     "output_type": "execute_result"
    }
   ],
   "source": [
    "a[0][0]"
   ]
  },
  {
   "cell_type": "code",
   "execution_count": 80,
   "id": "e8bdc60d-502f-4d6e-8bbc-cedc5ebff5fb",
   "metadata": {},
   "outputs": [
    {
     "data": {
      "text/plain": [
       "tensor(1)"
      ]
     },
     "execution_count": 80,
     "metadata": {},
     "output_type": "execute_result"
    }
   ],
   "source": [
    "a[0][0][0]"
   ]
  },
  {
   "cell_type": "code",
   "execution_count": 81,
   "id": "cba0978c-3d23-4710-bc17-cc3bc2bb890f",
   "metadata": {},
   "outputs": [
    {
     "data": {
      "text/plain": [
       "tensor(4)"
      ]
     },
     "execution_count": 81,
     "metadata": {},
     "output_type": "execute_result"
    }
   ],
   "source": [
    "a[0][1][0]"
   ]
  },
  {
   "cell_type": "code",
   "execution_count": 82,
   "id": "d3534318-977e-4476-abbc-fbdbdf5f398f",
   "metadata": {},
   "outputs": [
    {
     "data": {
      "text/plain": [
       "tensor(9)"
      ]
     },
     "execution_count": 82,
     "metadata": {},
     "output_type": "execute_result"
    }
   ],
   "source": [
    "a[0][2][2]"
   ]
  },
  {
   "cell_type": "code",
   "execution_count": 83,
   "id": "7ea6982f-9372-44c8-aa86-f7971afc75db",
   "metadata": {},
   "outputs": [
    {
     "data": {
      "text/plain": [
       "tensor([[1, 2, 3]])"
      ]
     },
     "execution_count": 83,
     "metadata": {},
     "output_type": "execute_result"
    }
   ],
   "source": [
    "a[:,0]"
   ]
  },
  {
   "cell_type": "code",
   "execution_count": 84,
   "id": "0fa0098b-115f-4ca2-b41f-e88f79a104d6",
   "metadata": {},
   "outputs": [
    {
     "data": {
      "text/plain": [
       "tensor([[1, 4, 7]])"
      ]
     },
     "execution_count": 84,
     "metadata": {},
     "output_type": "execute_result"
    }
   ],
   "source": [
    "a[:,:,0]"
   ]
  },
  {
   "cell_type": "code",
   "execution_count": 85,
   "id": "76c67db6-9630-448e-bd78-d8da302f222c",
   "metadata": {},
   "outputs": [
    {
     "data": {
      "text/plain": [
       "tensor([5])"
      ]
     },
     "execution_count": 85,
     "metadata": {},
     "output_type": "execute_result"
    }
   ],
   "source": [
    "a[:,1,1]"
   ]
  },
  {
   "cell_type": "code",
   "execution_count": 86,
   "id": "7c3aaaa1-e408-4175-804b-6c96a307c146",
   "metadata": {},
   "outputs": [
    {
     "data": {
      "text/plain": [
       "tensor([1, 2, 3])"
      ]
     },
     "execution_count": 86,
     "metadata": {},
     "output_type": "execute_result"
    }
   ],
   "source": [
    "a[0,0,:]"
   ]
  },
  {
   "cell_type": "code",
   "execution_count": 87,
   "id": "15db7ad0-2c3e-4b17-9bf8-4bbfa8122487",
   "metadata": {},
   "outputs": [
    {
     "data": {
      "text/plain": [
       "tensor([[3, 6, 9]])"
      ]
     },
     "execution_count": 87,
     "metadata": {},
     "output_type": "execute_result"
    }
   ],
   "source": [
    "a[:,:,2]"
   ]
  },
  {
   "cell_type": "code",
   "execution_count": 88,
   "id": "4e468b0f-6e1d-4d36-b4ae-55b0d4b7ac41",
   "metadata": {},
   "outputs": [
    {
     "data": {
      "text/plain": [
       "(array([1., 2., 3., 4., 5., 6., 7.]),\n",
       " tensor([1., 2., 3., 4., 5., 6., 7.], dtype=torch.float64))"
      ]
     },
     "execution_count": 88,
     "metadata": {},
     "output_type": "execute_result"
    }
   ],
   "source": [
    "# numpy array to tensor\n",
    "arr = np.arange(1.0,8.0)\n",
    "tensor_arr = torch.from_numpy(arr)\n",
    "arr, tensor_arr"
   ]
  },
  {
   "cell_type": "code",
   "execution_count": 89,
   "id": "75c6daea-2d85-46e5-a7cc-70185964560b",
   "metadata": {},
   "outputs": [
    {
     "data": {
      "text/plain": [
       "dtype('float64')"
      ]
     },
     "execution_count": 89,
     "metadata": {},
     "output_type": "execute_result"
    }
   ],
   "source": [
    "arr.dtype"
   ]
  },
  {
   "cell_type": "code",
   "execution_count": 90,
   "id": "d981c1ca-706f-401a-9ab6-02abe549f552",
   "metadata": {},
   "outputs": [
    {
     "data": {
      "text/plain": [
       "(array([1., 2., 3., 4., 5., 6., 7.]), tensor([1., 2., 3., 4., 5., 6., 7.]))"
      ]
     },
     "execution_count": 90,
     "metadata": {},
     "output_type": "execute_result"
    }
   ],
   "source": [
    "tensor_arr = torch.from_numpy(arr).type(torch.float32)\n",
    "arr, tensor_arr"
   ]
  },
  {
   "cell_type": "code",
   "execution_count": 91,
   "id": "cac6e6ab-5406-4df6-bc7a-399fbde59309",
   "metadata": {},
   "outputs": [
    {
     "data": {
      "text/plain": [
       "(dtype('float64'), torch.float32)"
      ]
     },
     "execution_count": 91,
     "metadata": {},
     "output_type": "execute_result"
    }
   ],
   "source": [
    "arr.dtype,tensor_arr.dtype"
   ]
  },
  {
   "cell_type": "code",
   "execution_count": 92,
   "id": "b59b19e1-907e-47df-ab86-c93b772793f0",
   "metadata": {},
   "outputs": [
    {
     "data": {
      "text/plain": [
       "(array([2., 3., 4., 5., 6., 7., 8.]), tensor([1., 2., 3., 4., 5., 6., 7.]))"
      ]
     },
     "execution_count": 92,
     "metadata": {},
     "output_type": "execute_result"
    }
   ],
   "source": [
    "arr = arr +1\n",
    "arr,tensor_arr"
   ]
  },
  {
   "cell_type": "code",
   "execution_count": 93,
   "id": "1e242ceb-bd0b-46fc-af72-5088e2fc2518",
   "metadata": {},
   "outputs": [
    {
     "data": {
      "text/plain": [
       "(tensor([1., 1., 1., 1., 1., 1., 1.]),\n",
       " array([1., 1., 1., 1., 1., 1., 1.], dtype=float32))"
      ]
     },
     "execution_count": 93,
     "metadata": {},
     "output_type": "execute_result"
    }
   ],
   "source": [
    "tensor_ones = torch.ones(7)\n",
    "numpy_tensor = tensor_ones.numpy()\n",
    "tensor_ones,numpy_tensor"
   ]
  },
  {
   "cell_type": "code",
   "execution_count": 94,
   "id": "e770ae74-13db-42b8-9597-1993a01b5312",
   "metadata": {},
   "outputs": [
    {
     "data": {
      "text/plain": [
       "(tensor([2., 2., 2., 2., 2., 2., 2.]),\n",
       " array([1., 1., 1., 1., 1., 1., 1.], dtype=float32))"
      ]
     },
     "execution_count": 94,
     "metadata": {},
     "output_type": "execute_result"
    }
   ],
   "source": [
    "tensor_ones = tensor_ones + 1\n",
    "tensor_ones,numpy_tensor"
   ]
  },
  {
   "cell_type": "code",
   "execution_count": 95,
   "id": "02650b84-e823-4807-8f73-1d8220fc1aae",
   "metadata": {},
   "outputs": [],
   "source": [
    "# reproducibility trying to take random out of random\n",
    "# to reduce randomness we use random seed\n",
    "tensor_rand_A = torch.rand(4,4)\n",
    "tensor_rand_B = torch.rand(4,4)"
   ]
  },
  {
   "cell_type": "code",
   "execution_count": 96,
   "id": "ef1bea9f-8a3f-48e6-957b-dc002c8d868a",
   "metadata": {},
   "outputs": [
    {
     "name": "stdout",
     "output_type": "stream",
     "text": [
      "tensor([[0.5952, 0.2868, 0.8954, 0.2868],\n",
      "        [0.6400, 0.8821, 0.0222, 0.6666],\n",
      "        [0.6832, 0.7316, 0.8797, 0.5965],\n",
      "        [0.8055, 0.4248, 0.4034, 0.9892]])\n",
      "tensor([[0.8388, 0.0770, 0.7794, 0.4373],\n",
      "        [0.2269, 0.5963, 0.3213, 0.9792],\n",
      "        [0.6427, 0.1891, 0.7947, 0.1180],\n",
      "        [0.1834, 0.7947, 0.9931, 0.9019]])\n"
     ]
    }
   ],
   "source": [
    "print(tensor_rand_A)\n",
    "print(tensor_rand_B)"
   ]
  },
  {
   "cell_type": "code",
   "execution_count": 97,
   "id": "a2a8859e-c13f-49fe-b486-86dd1394bf45",
   "metadata": {},
   "outputs": [
    {
     "data": {
      "text/plain": [
       "tensor([[False, False, False, False],\n",
       "        [False, False, False, False],\n",
       "        [False, False, False, False],\n",
       "        [False, False, False, False]])"
      ]
     },
     "execution_count": 97,
     "metadata": {},
     "output_type": "execute_result"
    }
   ],
   "source": [
    "tensor_rand_A == tensor_rand_B"
   ]
  },
  {
   "cell_type": "code",
   "execution_count": 98,
   "id": "47093e02-1abe-490b-9a3f-158959be9411",
   "metadata": {},
   "outputs": [
    {
     "name": "stdout",
     "output_type": "stream",
     "text": [
      "tensor([[0.8823, 0.9150, 0.3829, 0.9593],\n",
      "        [0.3904, 0.6009, 0.2566, 0.7936],\n",
      "        [0.9408, 0.1332, 0.9346, 0.5936],\n",
      "        [0.8694, 0.5677, 0.7411, 0.4294]])\n",
      "tensor([[0.8823, 0.9150, 0.3829, 0.9593],\n",
      "        [0.3904, 0.6009, 0.2566, 0.7936],\n",
      "        [0.9408, 0.1332, 0.9346, 0.5936],\n",
      "        [0.8694, 0.5677, 0.7411, 0.4294]])\n"
     ]
    }
   ],
   "source": [
    "RANDOM_SEED = 42\n",
    "torch.manual_seed(RANDOM_SEED)\n",
    "tensor_rand_C = torch.rand(4,4)\n",
    "\n",
    "torch.manual_seed(RANDOM_SEED)\n",
    "tensor_rand_D = torch.rand(4,4)\n",
    "\n",
    "print(tensor_rand_C)\n",
    "print(tensor_rand_D)"
   ]
  },
  {
   "cell_type": "code",
   "execution_count": 99,
   "id": "6315ef02-2fdb-41aa-92c9-a6913ed53139",
   "metadata": {},
   "outputs": [
    {
     "data": {
      "text/plain": [
       "tensor([[True, True, True, True],\n",
       "        [True, True, True, True],\n",
       "        [True, True, True, True],\n",
       "        [True, True, True, True]])"
      ]
     },
     "execution_count": 99,
     "metadata": {},
     "output_type": "execute_result"
    }
   ],
   "source": [
    "tensor_rand_C == tensor_rand_D"
   ]
  },
  {
   "cell_type": "code",
   "execution_count": 100,
   "id": "05fc1504-aac1-4189-9c4b-6403a1402e2b",
   "metadata": {},
   "outputs": [
    {
     "name": "stdout",
     "output_type": "stream",
     "text": [
      "Sat Jan 14 20:03:18 2023       \n",
      "+-----------------------------------------------------------------------------+\n",
      "| NVIDIA-SMI 528.02       Driver Version: 528.02       CUDA Version: 12.0     |\n",
      "|-------------------------------+----------------------+----------------------+\n",
      "| GPU  Name            TCC/WDDM | Bus-Id        Disp.A | Volatile Uncorr. ECC |\n",
      "| Fan  Temp  Perf  Pwr:Usage/Cap|         Memory-Usage | GPU-Util  Compute M. |\n",
      "|                               |                      |               MIG M. |\n",
      "|===============================+======================+======================|\n",
      "|   0  NVIDIA GeForce ... WDDM  | 00000000:01:00.0  On |                  N/A |\n",
      "| N/A   48C    P0    26W /  82W |    546MiB /  6144MiB |      5%      Default |\n",
      "|                               |                      |                  N/A |\n",
      "+-------------------------------+----------------------+----------------------+\n",
      "                                                                               \n",
      "+-----------------------------------------------------------------------------+\n",
      "| Processes:                                                                  |\n",
      "|  GPU   GI   CI        PID   Type   Process name                  GPU Memory |\n",
      "|        ID   ID                                                   Usage      |\n",
      "|=============================================================================|\n",
      "|    0   N/A  N/A     13664    C+G   ...h8wxbdkxb8p\\DCv2\\DCv2.exe    N/A      |\n",
      "|    0   N/A  N/A     14928      C   ...3\\envs\\pytorch\\python.exe    N/A      |\n",
      "+-----------------------------------------------------------------------------+\n"
     ]
    }
   ],
   "source": [
    "!nvidia-smi"
   ]
  },
  {
   "cell_type": "code",
   "execution_count": 101,
   "id": "02212872-4238-4e52-bbf9-3261a63c66f7",
   "metadata": {},
   "outputs": [
    {
     "data": {
      "text/plain": [
       "True"
      ]
     },
     "execution_count": 101,
     "metadata": {},
     "output_type": "execute_result"
    }
   ],
   "source": [
    "# checking GPU access with PyTorch\n",
    "\n",
    "torch.cuda.is_available()"
   ]
  },
  {
   "cell_type": "code",
   "execution_count": 102,
   "id": "d4323ef2-cd44-417f-8bd4-b218303f7548",
   "metadata": {},
   "outputs": [
    {
     "data": {
      "text/plain": [
       "1"
      ]
     },
     "execution_count": 102,
     "metadata": {},
     "output_type": "execute_result"
    }
   ],
   "source": [
    "torch.cuda.device_count()"
   ]
  },
  {
   "cell_type": "code",
   "execution_count": 103,
   "id": "b44d1ad4-58de-4a18-90a6-6191c3ffcf66",
   "metadata": {},
   "outputs": [
    {
     "data": {
      "text/plain": [
       "'cuda'"
      ]
     },
     "execution_count": 103,
     "metadata": {},
     "output_type": "execute_result"
    }
   ],
   "source": [
    "device = 'cuda' if torch.cuda.is_available() else 'cpu'\n",
    "device"
   ]
  },
  {
   "cell_type": "code",
   "execution_count": 104,
   "id": "9ddb91eb-8ca3-47ee-aecb-795341fbdc2b",
   "metadata": {},
   "outputs": [
    {
     "name": "stdout",
     "output_type": "stream",
     "text": [
      "tensor([1, 2, 3]) cpu\n"
     ]
    }
   ],
   "source": [
    "tesor = torch.tensor([1,2,3])\n",
    "\n",
    "print(tensor,tensor.device)"
   ]
  },
  {
   "cell_type": "code",
   "execution_count": 105,
   "id": "6598b21a-a08e-42cd-b5de-2c3516bb79d4",
   "metadata": {},
   "outputs": [
    {
     "data": {
      "text/plain": [
       "tensor([1, 2, 3], device='cuda:0')"
      ]
     },
     "execution_count": 105,
     "metadata": {},
     "output_type": "execute_result"
    }
   ],
   "source": [
    "tensor_on_gpu = tensor.to(device)\n",
    "tensor_on_gpu"
   ]
  },
  {
   "cell_type": "code",
   "execution_count": 106,
   "id": "725f54dc-1196-4666-a692-ac5c2819092e",
   "metadata": {},
   "outputs": [
    {
     "data": {
      "text/plain": [
       "array([1, 2, 3], dtype=int64)"
      ]
     },
     "execution_count": 106,
     "metadata": {},
     "output_type": "execute_result"
    }
   ],
   "source": [
    "# if tensor is on gpu ,can't transform it to numpy\n",
    "\n",
    "tensor_back_to_cpu = tensor_on_gpu.cpu().numpy()\n",
    "tensor_back_to_cpu"
   ]
  },
  {
   "cell_type": "code",
   "execution_count": null,
   "id": "f0815a19-8e2b-4583-a4b0-8d2fc1dd0075",
   "metadata": {},
   "outputs": [],
   "source": []
  }
 ],
 "metadata": {
  "kernelspec": {
   "display_name": "Python 3 (ipykernel)",
   "language": "python",
   "name": "python3"
  },
  "language_info": {
   "codemirror_mode": {
    "name": "ipython",
    "version": 3
   },
   "file_extension": ".py",
   "mimetype": "text/x-python",
   "name": "python",
   "nbconvert_exporter": "python",
   "pygments_lexer": "ipython3",
   "version": "3.9.15"
  }
 },
 "nbformat": 4,
 "nbformat_minor": 5
}
