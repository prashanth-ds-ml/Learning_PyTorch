{
  "cells": [
    {
      "cell_type": "markdown",
      "metadata": {
        "id": "view-in-github",
        "colab_type": "text"
      },
      "source": [
        "<a href=\"https://colab.research.google.com/github/prashanth-ds-ml/PyTorch/blob/main/PyTorch_workflow.ipynb\" target=\"_parent\"><img src=\"https://colab.research.google.com/assets/colab-badge.svg\" alt=\"Open In Colab\"/></a>"
      ]
    },
    {
      "cell_type": "markdown",
      "id": "24e67129-7209-4753-bbcd-0104a5e4becb",
      "metadata": {
        "id": "24e67129-7209-4753-bbcd-0104a5e4becb"
      },
      "source": [
        "1. data(prepare and load)\n",
        "2. build model\n",
        "3. fitting the model\n",
        "4. making the predictions\n",
        "5. saving the model\n",
        "6. putting all together"
      ]
    },
    {
      "cell_type": "code",
      "execution_count": 1,
      "id": "55e93086-f66d-4db6-b1ab-8e3b9be46a2a",
      "metadata": {
        "id": "55e93086-f66d-4db6-b1ab-8e3b9be46a2a"
      },
      "outputs": [],
      "source": [
        "import torch"
      ]
    },
    {
      "cell_type": "code",
      "execution_count": 2,
      "id": "65e53153-3f9d-4fba-8696-df6980de1b1f",
      "metadata": {
        "colab": {
          "base_uri": "https://localhost:8080/",
          "height": 36
        },
        "id": "65e53153-3f9d-4fba-8696-df6980de1b1f",
        "outputId": "6024054e-87d6-49d7-c8f1-a1c33ea478cc"
      },
      "outputs": [
        {
          "output_type": "execute_result",
          "data": {
            "text/plain": [
              "'1.13.1+cu116'"
            ],
            "application/vnd.google.colaboratory.intrinsic+json": {
              "type": "string"
            }
          },
          "metadata": {},
          "execution_count": 2
        }
      ],
      "source": [
        "from torch import nn\n",
        "import matplotlib.pyplot as plt\n",
        "\n",
        "torch.__version__"
      ]
    },
    {
      "cell_type": "code",
      "execution_count": 3,
      "id": "46060cf3-2b5f-4f55-9f72-7237c2211fce",
      "metadata": {
        "colab": {
          "base_uri": "https://localhost:8080/"
        },
        "id": "46060cf3-2b5f-4f55-9f72-7237c2211fce",
        "outputId": "9b3a2052-ae9a-43aa-8061-b484dfe06e95"
      },
      "outputs": [
        {
          "output_type": "execute_result",
          "data": {
            "text/plain": [
              "(tensor([[0.0000],\n",
              "         [0.0300],\n",
              "         [0.0600],\n",
              "         [0.0900],\n",
              "         [0.1200],\n",
              "         [0.1500],\n",
              "         [0.1800],\n",
              "         [0.2100],\n",
              "         [0.2400],\n",
              "         [0.2700]]), tensor([[0.5000],\n",
              "         [0.5210],\n",
              "         [0.5420],\n",
              "         [0.5630],\n",
              "         [0.5840],\n",
              "         [0.6050],\n",
              "         [0.6260],\n",
              "         [0.6470],\n",
              "         [0.6680],\n",
              "         [0.6890]]))"
            ]
          },
          "metadata": {},
          "execution_count": 3
        }
      ],
      "source": [
        "# 1. Data preparation\n",
        "\n",
        "weight = 0.7\n",
        "bias = 0.5\n",
        "\n",
        "start = 0\n",
        "end = 1\n",
        "step = 0.03\n",
        "X = torch.arange(start,end,step).unsqueeze(dim=1)\n",
        "\n",
        "y = weight * X + bias\n",
        "\n",
        "X[:10],y[:10]"
      ]
    },
    {
      "cell_type": "code",
      "execution_count": 4,
      "id": "48e5a191-661d-4a1e-a6df-12e4165038d4",
      "metadata": {
        "colab": {
          "base_uri": "https://localhost:8080/"
        },
        "id": "48e5a191-661d-4a1e-a6df-12e4165038d4",
        "outputId": "01a050d2-dc22-49d5-d9f9-91920a204803"
      },
      "outputs": [
        {
          "output_type": "execute_result",
          "data": {
            "text/plain": [
              "(34, 34)"
            ]
          },
          "metadata": {},
          "execution_count": 4
        }
      ],
      "source": [
        "len(X),len(y)"
      ]
    },
    {
      "cell_type": "code",
      "execution_count": 5,
      "id": "2337babe-f23d-4d80-981a-1b41c4d5cfed",
      "metadata": {
        "colab": {
          "base_uri": "https://localhost:8080/"
        },
        "id": "2337babe-f23d-4d80-981a-1b41c4d5cfed",
        "outputId": "c17f6b23-2798-4f60-f529-1ec36f7e5af0"
      },
      "outputs": [
        {
          "output_type": "execute_result",
          "data": {
            "text/plain": [
              "(27, 27, 7, 7)"
            ]
          },
          "metadata": {},
          "execution_count": 5
        }
      ],
      "source": [
        "# train_test_split\n",
        "\n",
        "train = int(0.8 * len(X))\n",
        "X_train ,y_train = X[:train],y[:train]\n",
        "X_test,y_test = X[train:],y[train:]\n",
        "\n",
        "len(X_train),len(y_train),len(X_test),len(y_test)"
      ]
    },
    {
      "cell_type": "code",
      "execution_count": 6,
      "id": "8eace77c-4c5e-4b37-ad05-bc4de30db5f3",
      "metadata": {
        "id": "8eace77c-4c5e-4b37-ad05-bc4de30db5f3"
      },
      "outputs": [],
      "source": [
        "def plot_prediction(train_data = X_train,\n",
        "                    train_labels = y_train,\n",
        "                    test_data = X_test,\n",
        "                    test_labels = y_test,\n",
        "                    predictions = None):\n",
        "\n",
        "    plt.figure(figsize = (10,7))\n",
        "\n",
        "    plt.scatter(train_data,train_labels,c='b',s=4,label = 'Training data')\n",
        "    plt.scatter(test_data,test_labels,c='g',s=4,label = 'Testing data')\n",
        "\n",
        "    if predictions is not None:\n",
        "        plt.scatter(test_data,predictions,c='r',s=4,label = 'Predictions')\n",
        "    plt.legend(prop={'size':14});\n",
        "                    "
      ]
    },
    {
      "cell_type": "code",
      "execution_count": 7,
      "id": "31eaded2-6e32-4158-bcb5-7bd1992dc90a",
      "metadata": {
        "colab": {
          "base_uri": "https://localhost:8080/",
          "height": 428
        },
        "id": "31eaded2-6e32-4158-bcb5-7bd1992dc90a",
        "outputId": "8fa4f4a0-46a5-40b5-9294-65b03f703553"
      },
      "outputs": [
        {
          "output_type": "display_data",
          "data": {
            "text/plain": [
              "<Figure size 720x504 with 1 Axes>"
            ],
            "image/png": "[encoded data removed]"
          },
          "metadata": {
            "needs_background": "light"
          }
        }
      ],
      "source": [
        "plot_prediction();"
      ]
    },
    {
      "cell_type": "code",
      "execution_count": 8,
      "id": "4f070d3d-c69b-472d-b838-799f1636534b",
      "metadata": {
        "id": "4f070d3d-c69b-472d-b838-799f1636534b"
      },
      "outputs": [],
      "source": [
        "# Building a model\n",
        "\n",
        "class LinearRegressionModel(nn.Module): # <- almost everything in PyTorch is a nn.Module (think of this as neural network lego blocks)\n",
        "    def __init__(self):\n",
        "        super().__init__() \n",
        "        self.weights = nn.Parameter(torch.randn(1, \n",
        "                                                dtype=torch.float), \n",
        "                                                requires_grad=True) \n",
        "\n",
        "        self.bias = nn.Parameter(torch.randn(1,\n",
        "                                            dtype=torch.float), \n",
        "                                            requires_grad=True) \n",
        "\n",
        "    # Forward defines the computation in the model\n",
        "    def forward(self, x: torch.Tensor) -> torch.Tensor:\n",
        "        return self.weights * x + self.bias"
      ]
    },
    {
      "cell_type": "code",
      "execution_count": 9,
      "id": "e575c858-ff91-49a7-aaea-6da355b87a33",
      "metadata": {
        "colab": {
          "base_uri": "https://localhost:8080/"
        },
        "id": "e575c858-ff91-49a7-aaea-6da355b87a33",
        "outputId": "c39ccbfe-69be-4aa8-a6ce-337dd0276926"
      },
      "outputs": [
        {
          "output_type": "execute_result",
          "data": {
            "text/plain": [
              "[Parameter containing:\n",
              " tensor([0.3367], requires_grad=True), Parameter containing:\n",
              " tensor([0.1288], requires_grad=True)]"
            ]
          },
          "metadata": {},
          "execution_count": 9
        }
      ],
      "source": [
        "# PyTorch model building essentials\n",
        "\n",
        "torch.manual_seed(42)\n",
        "\n",
        "model_0 = LinearRegressionModel()\n",
        "\n",
        "model_0\n",
        "\n",
        "list(model_0.parameters())"
      ]
    },
    {
      "cell_type": "code",
      "execution_count": 10,
      "id": "d1f2e284-03b8-43a7-92af-97caa319b38a",
      "metadata": {
        "colab": {
          "base_uri": "https://localhost:8080/"
        },
        "id": "d1f2e284-03b8-43a7-92af-97caa319b38a",
        "outputId": "8721a9da-9458-4a8b-9042-f3ecdab6ad47"
      },
      "outputs": [
        {
          "output_type": "execute_result",
          "data": {
            "text/plain": [
              "OrderedDict([('weights', tensor([0.3367])), ('bias', tensor([0.1288]))])"
            ]
          },
          "metadata": {},
          "execution_count": 10
        }
      ],
      "source": [
        "model_0.state_dict()"
      ]
    },
    {
      "cell_type": "code",
      "execution_count": 11,
      "id": "88c44634-1a5f-4403-a2cc-34b88c1f3779",
      "metadata": {
        "colab": {
          "base_uri": "https://localhost:8080/"
        },
        "id": "88c44634-1a5f-4403-a2cc-34b88c1f3779",
        "outputId": "af36d805-71af-48ec-bfb9-833f6be97cfa"
      },
      "outputs": [
        {
          "output_type": "execute_result",
          "data": {
            "text/plain": [
              "tensor([[0.4015],\n",
              "        [0.4116],\n",
              "        [0.4217],\n",
              "        [0.4318],\n",
              "        [0.4419],\n",
              "        [0.4520],\n",
              "        [0.4621]])"
            ]
          },
          "metadata": {},
          "execution_count": 11
        }
      ],
      "source": [
        "# making predictions\n",
        "\n",
        "with torch.inference_mode():\n",
        "    y_preds = model_0(X_test)\n",
        "    \n",
        "    \n",
        "y_preds"
      ]
    },
    {
      "cell_type": "code",
      "execution_count": 12,
      "id": "527748d1-7c61-4b82-8871-82f181661c32",
      "metadata": {
        "colab": {
          "base_uri": "https://localhost:8080/",
          "height": 428
        },
        "id": "527748d1-7c61-4b82-8871-82f181661c32",
        "outputId": "c70580b3-cbee-46d0-99b8-3b3cf1a9ebf2"
      },
      "outputs": [
        {
          "output_type": "display_data",
          "data": {
            "text/plain": [
              "<Figure size 720x504 with 1 Axes>"
            ],
            "image/png": "[encoded data removed]"
          },
          "metadata": {
            "needs_background": "light"
          }
        }
      ],
      "source": [
        "plot_prediction(predictions = y_preds)"
      ]
    },
    {
      "cell_type": "code",
      "execution_count": 13,
      "id": "8a09f79b-9161-48eb-acc7-86bc115462b0",
      "metadata": {
        "id": "8a09f79b-9161-48eb-acc7-86bc115462b0"
      },
      "outputs": [],
      "source": [
        "# setting up a loss function and a optimizer\n",
        "\n",
        "loss_func = nn.L1Loss()\n",
        "optimizer = torch.optim.SGD(params = model_0.parameters(),lr = 0.01)\n"
      ]
    },
    {
      "cell_type": "markdown",
      "id": "e7474875-014f-4cd6-8a08-0b9656e7ad5f",
      "metadata": {
        "id": "e7474875-014f-4cd6-8a08-0b9656e7ad5f"
      },
      "source": [
        "# training  and testing loops\n",
        "\n",
        "1. loop through the data\n",
        "2. forward pass `forward() also called forward propagation\n",
        "3. calculate the loss\n",
        "4. optimizer zero gradient\n",
        "5. loss backward also called as back propagation\n",
        "6. optimizer step(**gradient decent**)"
      ]
    },
    {
      "cell_type": "code",
      "execution_count": 14,
      "id": "6c64b0dc-c605-4484-8132-17036f3b8cc1",
      "metadata": {
        "colab": {
          "base_uri": "https://localhost:8080/"
        },
        "id": "6c64b0dc-c605-4484-8132-17036f3b8cc1",
        "outputId": "26388979-ecf5-4248-d42a-0da055f623e4"
      },
      "outputs": [
        {
          "output_type": "stream",
          "name": "stdout",
          "text": [
            "Epoch:0 | Loss:0.5128813982009888 | Test loss: 0.6846593022346497\n",
            "OrderedDict([('weights', tensor([0.3406])), ('bias', tensor([0.1388]))])\n",
            "Epoch:10 | Loss:0.39767131209373474 | Test loss: 0.5495592355728149\n",
            "OrderedDict([('weights', tensor([0.3796])), ('bias', tensor([0.2388]))])\n",
            "Epoch:20 | Loss:0.28246137499809265 | Test loss: 0.4144594371318817\n",
            "OrderedDict([('weights', tensor([0.4186])), ('bias', tensor([0.3388]))])\n",
            "Epoch:30 | Loss:0.16725152730941772 | Test loss: 0.2793596088886261\n",
            "OrderedDict([('weights', tensor([0.4576])), ('bias', tensor([0.4388]))])\n",
            "Epoch:40 | Loss:0.06046948581933975 | Test loss: 0.15194712579250336\n",
            "OrderedDict([('weights', tensor([0.4963])), ('bias', tensor([0.5314]))])\n",
            "Epoch:50 | Loss:0.03617817908525467 | Test loss: 0.09477672725915909\n",
            "OrderedDict([('weights', tensor([0.5261])), ('bias', tensor([0.5618]))])\n",
            "Epoch:60 | Loss:0.03149689733982086 | Test loss: 0.07559589296579361\n",
            "OrderedDict([('weights', tensor([0.5465])), ('bias', tensor([0.5625]))])\n",
            "Epoch:70 | Loss:0.027901848778128624 | Test loss: 0.06546183675527573\n",
            "OrderedDict([('weights', tensor([0.5644])), ('bias', tensor([0.5566]))])\n",
            "Epoch:80 | Loss:0.02438735030591488 | Test loss: 0.056348495185375214\n",
            "OrderedDict([('weights', tensor([0.5819])), ('bias', tensor([0.5499]))])\n",
            "Epoch:90 | Loss:0.02087905816733837 | Test loss: 0.04825598746538162\n",
            "OrderedDict([('weights', tensor([0.5991])), ('bias', tensor([0.5425]))])\n",
            "Epoch:100 | Loss:0.017370784655213356 | Test loss: 0.040163397789001465\n",
            "OrderedDict([('weights', tensor([0.6164])), ('bias', tensor([0.5351]))])\n",
            "Epoch:110 | Loss:0.013850684277713299 | Test loss: 0.03207077458500862\n",
            "OrderedDict([('weights', tensor([0.6336])), ('bias', tensor([0.5277]))])\n",
            "Epoch:120 | Loss:0.010329502634704113 | Test loss: 0.023978183045983315\n",
            "OrderedDict([('weights', tensor([0.6508])), ('bias', tensor([0.5203]))])\n",
            "Epoch:130 | Loss:0.006814921274781227 | Test loss: 0.014864904806017876\n",
            "OrderedDict([('weights', tensor([0.6683])), ('bias', tensor([0.5136]))])\n",
            "Epoch:140 | Loss:0.0033066337928175926 | Test loss: 0.006772296968847513\n",
            "OrderedDict([('weights', tensor([0.6856])), ('bias', tensor([0.5062]))])\n",
            "Epoch:150 | Loss:0.002869723131880164 | Test loss: 0.006991471629589796\n",
            "OrderedDict([('weights', tensor([0.6967])), ('bias', tensor([0.5099]))])\n",
            "Epoch:160 | Loss:0.002869723131880164 | Test loss: 0.006991471629589796\n",
            "OrderedDict([('weights', tensor([0.6967])), ('bias', tensor([0.5099]))])\n",
            "Epoch:170 | Loss:0.002869723131880164 | Test loss: 0.006991471629589796\n",
            "OrderedDict([('weights', tensor([0.6967])), ('bias', tensor([0.5099]))])\n",
            "Epoch:180 | Loss:0.002869723131880164 | Test loss: 0.006991471629589796\n",
            "OrderedDict([('weights', tensor([0.6967])), ('bias', tensor([0.5099]))])\n",
            "Epoch:190 | Loss:0.002869723131880164 | Test loss: 0.006991471629589796\n",
            "OrderedDict([('weights', tensor([0.6967])), ('bias', tensor([0.5099]))])\n"
          ]
        }
      ],
      "source": [
        "torch.manual_seed(42)\n",
        "\n",
        "epochs = 200\n",
        "\n",
        "epoch_count = []\n",
        "loss_values = []\n",
        "test_loss_values = []\n",
        "\n",
        "for epoch in range(epochs):\n",
        "    model_0.train()\n",
        "    y_pred = model_0(X_train)\n",
        "    loss = loss_func(y_pred,y_train)\n",
        "    #print(f'loss:{loss}')\n",
        "    optimizer.zero_grad()\n",
        "    loss.backward()\n",
        "    optimizer.step()\n",
        "    model_0.eval()\n",
        "    with torch.inference_mode():\n",
        "        test_preds = model_0(X_test)\n",
        "        test_loss = loss_func(test_preds,y_test)\n",
        "    if epoch % 10 == 0:\n",
        "        epoch_count.append(epoch)\n",
        "        loss_values.append(loss)\n",
        "        test_loss_values.append(test_loss)\n",
        "        print(f\"Epoch:{epoch} | Loss:{loss} | Test loss: {test_loss}\")\n",
        "        print(model_0.state_dict())"
      ]
    },
    {
      "cell_type": "code",
      "execution_count": 15,
      "id": "d77868e9-5fdc-4826-a104-96d82e1f9fe8",
      "metadata": {
        "colab": {
          "base_uri": "https://localhost:8080/",
          "height": 295
        },
        "id": "d77868e9-5fdc-4826-a104-96d82e1f9fe8",
        "outputId": "2a5cb99d-53f2-459a-8a3c-1bc5a0909f9e"
      },
      "outputs": [
        {
          "output_type": "display_data",
          "data": {
            "text/plain": [
              "<Figure size 432x288 with 1 Axes>"
            ],
            "image/png": "[encoded data removed]"
          },
          "metadata": {
            "needs_background": "light"
          }
        }
      ],
      "source": [
        "import numpy as np\n",
        "import matplotlib.pyplot as plt\n",
        "\n",
        "plt.plot(epoch_count,np.array(torch.tensor(loss_values).numpy()),label = 'train loss')\n",
        "plt.plot(epoch_count,test_loss_values,label = 'test loss')\n",
        "plt.title('Training and testing loss curves')\n",
        "plt.ylabel('loss')\n",
        "plt.xlabel('epochs')\n",
        "plt.legend();"
      ]
    },
    {
      "cell_type": "code",
      "execution_count": 16,
      "id": "2a5ae6b8-c85c-440d-8540-84ac558133e9",
      "metadata": {
        "id": "2a5ae6b8-c85c-440d-8540-84ac558133e9"
      },
      "outputs": [],
      "source": [
        "with torch.inference_mode():\n",
        "    y_preds_new = model_0(X_test)"
      ]
    },
    {
      "cell_type": "code",
      "execution_count": 17,
      "id": "a009db81-699b-41dc-9430-61171d31ddd9",
      "metadata": {
        "colab": {
          "base_uri": "https://localhost:8080/",
          "height": 428
        },
        "id": "a009db81-699b-41dc-9430-61171d31ddd9",
        "outputId": "b77b56e4-a284-4fb4-b292-54a116d0c674"
      },
      "outputs": [
        {
          "output_type": "display_data",
          "data": {
            "text/plain": [
              "<Figure size 720x504 with 1 Axes>"
            ],
            "image/png": "[encoded data removed]"
          },
          "metadata": {
            "needs_background": "light"
          }
        }
      ],
      "source": [
        "plot_prediction(predictions = y_preds)"
      ]
    },
    {
      "cell_type": "code",
      "execution_count": 18,
      "id": "a868ef56-3950-4228-864a-4a1f89eb1d17",
      "metadata": {
        "colab": {
          "base_uri": "https://localhost:8080/",
          "height": 428
        },
        "id": "a868ef56-3950-4228-864a-4a1f89eb1d17",
        "outputId": "0b4453b5-649a-4fa2-b396-e735b70100d1"
      },
      "outputs": [
        {
          "output_type": "display_data",
          "data": {
            "text/plain": [
              "<Figure size 720x504 with 1 Axes>"
            ],
            "image/png": "[encoded data removed]"
          },
          "metadata": {
            "needs_background": "light"
          }
        }
      ],
      "source": [
        "plot_prediction(predictions = y_preds_new)"
      ]
    },
    {
      "cell_type": "code",
      "execution_count": 19,
      "id": "e2ba5ebb-15c0-47a7-99ca-ec4e3ddf64f7",
      "metadata": {
        "colab": {
          "base_uri": "https://localhost:8080/"
        },
        "id": "e2ba5ebb-15c0-47a7-99ca-ec4e3ddf64f7",
        "outputId": "e1cf7339-c490-47db-d617-775df373fdec"
      },
      "outputs": [
        {
          "output_type": "stream",
          "name": "stdout",
          "text": [
            "save model to:models/PyTorch_workflow_model_0.pt\n"
          ]
        }
      ],
      "source": [
        "# saving a model\n",
        "import os\n",
        "from pathlib import Path\n",
        "\n",
        "model_path = Path('models')\n",
        "model_path.mkdir(parents = True)\n",
        "\n",
        "model_name = 'PyTorch_workflow_model_0.pt'\n",
        "model_save_path = model_path/ model_name\n",
        "\n",
        "print(f'save model to:{model_save_path}')\n",
        "torch.save(obj = model_0.state_dict(),f = model_save_path)"
      ]
    },
    {
      "cell_type": "code",
      "execution_count": 20,
      "id": "491ef891-3ec1-445e-9a9a-8bddbb305b24",
      "metadata": {
        "colab": {
          "base_uri": "https://localhost:8080/"
        },
        "id": "491ef891-3ec1-445e-9a9a-8bddbb305b24",
        "outputId": "aea9aae4-3bac-4228-88bd-7a68d3ab6ae9"
      },
      "outputs": [
        {
          "output_type": "execute_result",
          "data": {
            "text/plain": [
              "OrderedDict([('weights', tensor([0.6928])), ('bias', tensor([0.4999]))])"
            ]
          },
          "metadata": {},
          "execution_count": 20
        }
      ],
      "source": [
        "model_0.state_dict()"
      ]
    },
    {
      "cell_type": "code",
      "execution_count": 23,
      "id": "94d366ee-c723-45f7-a651-6de79c9c39c8",
      "metadata": {
        "colab": {
          "base_uri": "https://localhost:8080/"
        },
        "id": "94d366ee-c723-45f7-a651-6de79c9c39c8",
        "outputId": "16ab3461-ea2d-47b2-f308-72819c773a13"
      },
      "outputs": [
        {
          "output_type": "execute_result",
          "data": {
            "text/plain": [
              "<All keys matched successfully>"
            ]
          },
          "metadata": {},
          "execution_count": 23
        }
      ],
      "source": [
        "loaded_model_0 = LinearRegressionModel()\n",
        "\n",
        "# to load saved stae_dict()\n",
        "\n",
        "loaded_model_0.load_state_dict(torch.load(f = model_save_path))"
      ]
    },
    {
      "cell_type": "code",
      "source": [
        "loaded_model_0.state_dict()"
      ],
      "metadata": {
        "colab": {
          "base_uri": "https://localhost:8080/"
        },
        "id": "g3n-wlRl2zo-",
        "outputId": "764a75f4-5a40-4438-e668-4c1a9b4ddc11"
      },
      "id": "g3n-wlRl2zo-",
      "execution_count": 25,
      "outputs": [
        {
          "output_type": "execute_result",
          "data": {
            "text/plain": [
              "OrderedDict([('weights', tensor([0.6928])), ('bias', tensor([0.4999]))])"
            ]
          },
          "metadata": {},
          "execution_count": 25
        }
      ]
    },
    {
      "cell_type": "code",
      "source": [
        "# making prediction with loaded model\n",
        "\n",
        "loaded_model_0.eval()\n",
        "with torch.inference_mode():\n",
        "  loaded_model_preds = loaded_model_0(X_test)\n",
        "\n",
        "loaded_model_preds"
      ],
      "metadata": {
        "colab": {
          "base_uri": "https://localhost:8080/"
        },
        "id": "Nl_hcQXG24m_",
        "outputId": "3e8e6fb3-90ea-42fb-f2c0-82a6f22fb34f"
      },
      "id": "Nl_hcQXG24m_",
      "execution_count": 26,
      "outputs": [
        {
          "output_type": "execute_result",
          "data": {
            "text/plain": [
              "tensor([[1.0611],\n",
              "        [1.0819],\n",
              "        [1.1027],\n",
              "        [1.1235],\n",
              "        [1.1443],\n",
              "        [1.1651],\n",
              "        [1.1858]])"
            ]
          },
          "metadata": {},
          "execution_count": 26
        }
      ]
    },
    {
      "cell_type": "code",
      "source": [
        "model_0.eval()\n",
        "with torch.inference_mode():\n",
        "  y_preds = model_0(X_test)\n",
        "\n",
        "y_preds"
      ],
      "metadata": {
        "colab": {
          "base_uri": "https://localhost:8080/"
        },
        "id": "pL2-yNfO3cXf",
        "outputId": "7f2fdbcb-6c57-43e0-dd47-3203a0a669a0"
      },
      "id": "pL2-yNfO3cXf",
      "execution_count": 27,
      "outputs": [
        {
          "output_type": "execute_result",
          "data": {
            "text/plain": [
              "tensor([[1.0611],\n",
              "        [1.0819],\n",
              "        [1.1027],\n",
              "        [1.1235],\n",
              "        [1.1443],\n",
              "        [1.1651],\n",
              "        [1.1858]])"
            ]
          },
          "metadata": {},
          "execution_count": 27
        }
      ]
    },
    {
      "cell_type": "code",
      "source": [
        "y_preds == loaded_model_preds"
      ],
      "metadata": {
        "colab": {
          "base_uri": "https://localhost:8080/"
        },
        "id": "8PGHtJzS358H",
        "outputId": "e9194d67-f6cf-4983-99e2-0e143833cfe8"
      },
      "id": "8PGHtJzS358H",
      "execution_count": 28,
      "outputs": [
        {
          "output_type": "execute_result",
          "data": {
            "text/plain": [
              "tensor([[True],\n",
              "        [True],\n",
              "        [True],\n",
              "        [True],\n",
              "        [True],\n",
              "        [True],\n",
              "        [True]])"
            ]
          },
          "metadata": {},
          "execution_count": 28
        }
      ]
    },
    {
      "cell_type": "code",
      "source": [],
      "metadata": {
        "id": "MQm3_sut3-2O"
      },
      "id": "MQm3_sut3-2O",
      "execution_count": null,
      "outputs": []
    }
  ],
  "metadata": {
    "kernelspec": {
      "display_name": "Python 3 (ipykernel)",
      "language": "python",
      "name": "python3"
    },
    "language_info": {
      "codemirror_mode": {
        "name": "ipython",
        "version": 3
      },
      "file_extension": ".py",
      "mimetype": "text/x-python",
      "name": "python",
      "nbconvert_exporter": "python",
      "pygments_lexer": "ipython3",
      "version": "3.9.15"
    },
    "colab": {
      "provenance": [],
      "include_colab_link": true
    }
  },
  "nbformat": 4,
  "nbformat_minor": 5
}